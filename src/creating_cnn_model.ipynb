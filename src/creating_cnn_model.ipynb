{
  "cells": [
    {
      "cell_type": "code",
      "execution_count": 1,
      "metadata": {
        "id": "F1A9jQhGqOKB"
      },
      "outputs": [],
      "source": [
        "import json\n",
        "import numpy as np\n",
        "from sklearn.model_selection import train_test_split,RandomizedSearchCV\n",
        "import tensorflow.keras as keras\n",
        "\n",
        "import keras.backend as K\n",
        "\n",
        "import matplotlib.pyplot as plt\n",
        "import random\n",
        "\n",
        "import librosa\n",
        "import math"
      ]
    },
    {
      "cell_type": "code",
      "execution_count": 2,
      "metadata": {
        "colab": {
          "base_uri": "https://localhost:8080/"
        },
        "id": "p_6z0A7dqSac",
        "outputId": "5ba620ce-8c41-4511-c008-de17f3af7d28"
      },
      "outputs": [
        {
          "name": "stdout",
          "output_type": "stream",
          "text": [
            "Mounted at /content/drive\n"
          ]
        }
      ],
      "source": [
        "from google.colab import drive\n",
        "drive.mount('/content/drive')"
      ]
    },
    {
      "cell_type": "code",
      "execution_count": 3,
      "metadata": {
        "id": "CulzAgmqqOKF"
      },
      "outputs": [],
      "source": [
        "JSON_PATH=\"drive/MyDrive/project-it290/Extracted_data.json\"\n"
      ]
    },
    {
      "cell_type": "code",
      "execution_count": 4,
      "metadata": {
        "id": "2DeIHmjJqOKG"
      },
      "outputs": [],
      "source": [
        "def load_data_from_json(json_path):\n",
        "    \n",
        "    with open(json_path, \"r\") as f:\n",
        "        data=json.load(f)\n",
        "    \n",
        "    \n",
        "    X=data[\"mfcc\"]\n",
        "    Y=data[\"labels\"]\n",
        "    print(\"DATA IS LOADED SUCCESSFULLY\")\n",
        "    return np.array(X), np.array(Y),data[\"mapping\"]"
      ]
    },
    {
      "cell_type": "code",
      "execution_count": 5,
      "metadata": {
        "colab": {
          "base_uri": "https://localhost:8080/"
        },
        "id": "IPMjgEUiqOKG",
        "outputId": "62e8b913-d52e-4e13-a0db-f4f55e45d56f"
      },
      "outputs": [
        {
          "name": "stdout",
          "output_type": "stream",
          "text": [
            "DATA IS LOADED SUCCESSFULLY\n"
          ]
        }
      ],
      "source": [
        "X,Y,music_genres = load_data_from_json(JSON_PATH)"
      ]
    },
    {
      "cell_type": "code",
      "execution_count": 86,
      "metadata": {
        "id": "OIJxgVliqOKH"
      },
      "outputs": [],
      "source": [
        "x_train,x_test, y_train, y_test = train_test_split(X, Y, test_size=0.33,shuffle=True, random_state=59,stratify=Y)"
      ]
    },
    {
      "cell_type": "code",
      "execution_count": 87,
      "metadata": {
        "colab": {
          "base_uri": "https://localhost:8080/"
        },
        "id": "rOnWmeYUqOKH",
        "outputId": "7c1c70a7-2d51-421b-d250-77b8b165957a"
      },
      "outputs": [
        {
          "name": "stdout",
          "output_type": "stream",
          "text": [
            "3345 3345 1648 1648\n"
          ]
        }
      ],
      "source": [
        "\n",
        "print(len(x_train),len(y_train),len(x_test),len(y_test))"
      ]
    },
    {
      "cell_type": "code",
      "execution_count": 88,
      "metadata": {
        "colab": {
          "base_uri": "https://localhost:8080/"
        },
        "id": "hmVwoUPBqOKI",
        "outputId": "d20fd4e2-2e39-44a9-f7b7-0b95326cf4d9"
      },
      "outputs": [
        {
          "data": {
            "text/plain": [
              "((4993, 259, 13, 1), (4993, 1))"
            ]
          },
          "execution_count": 88,
          "metadata": {},
          "output_type": "execute_result"
        }
      ],
      "source": [
        "X.shape,Y.shape "
      ]
    },
    {
      "cell_type": "code",
      "execution_count": 9,
      "metadata": {
        "colab": {
          "base_uri": "https://localhost:8080/"
        },
        "id": "7E_0A6TFqOKJ",
        "outputId": "f6ba7bec-4a54-4523-a92f-c9e33b9e2e57"
      },
      "outputs": [
        {
          "data": {
            "text/plain": [
              "array([[-2.42435989e+02,  1.02184860e+02, -9.91323471e+00, ...,\n",
              "        -3.95323563e+00, -2.40564466e+00, -2.38090611e+00],\n",
              "       [-2.12989746e+02,  1.03544777e+02, -1.08341732e+01, ...,\n",
              "        -5.81353188e+00,  2.64356732e+00, -2.80662107e+00],\n",
              "       [-1.95409332e+02,  1.04360657e+02, -1.85501546e-01, ...,\n",
              "        -1.08171635e+01, -5.88806152e-01, -5.28410530e+00],\n",
              "       ...,\n",
              "       [-1.91899704e+02,  1.08769806e+02, -1.85038757e+01, ...,\n",
              "        -5.09584427e+00,  6.49737644e+00, -4.58149099e+00],\n",
              "       [-1.49409744e+02,  1.18224014e+02, -9.97815704e+00, ...,\n",
              "        -6.82235146e+00,  1.23407612e+01, -1.83743787e+00],\n",
              "       [-1.15706779e+02,  1.15575302e+02,  2.65169716e+00, ...,\n",
              "        -1.09857616e+01,  1.05130529e+01,  2.66904616e+00]])"
            ]
          },
          "execution_count": 9,
          "metadata": {},
          "output_type": "execute_result"
        }
      ],
      "source": [
        "X[0]"
      ]
    },
    {
      "cell_type": "code",
      "execution_count": 10,
      "metadata": {
        "colab": {
          "base_uri": "https://localhost:8080/"
        },
        "id": "MS008POnqOKJ",
        "outputId": "0c820a2a-1554-4e17-a3f9-187f48f759a0"
      },
      "outputs": [
        {
          "data": {
            "text/plain": [
              "0"
            ]
          },
          "execution_count": 10,
          "metadata": {},
          "output_type": "execute_result"
        }
      ],
      "source": [
        "Y[0]"
      ]
    },
    {
      "cell_type": "markdown",
      "metadata": {
        "id": "Z100KFw-qOKK"
      },
      "source": [
        "SIMPLE ANN"
      ]
    },
    {
      "cell_type": "code",
      "execution_count": 11,
      "metadata": {
        "id": "F_FjnjqUqOKL"
      },
      "outputs": [],
      "source": [
        "ann_model=keras.models.Sequential([\n",
        "    #input layer\n",
        "    keras.layers.Flatten(input_shape=(X.shape[1], X.shape[2])),\n",
        "    \n",
        "    keras.layers.Dense(512,activation=\"relu\"),\n",
        "    keras.layers.Dropout(0.25),\n",
        "    \n",
        "    keras.layers.Dense(256,activation=\"relu\"),\n",
        "    keras.layers.Dropout(0.25),\n",
        "    keras.layers.Dense(64,activation=\"relu\"),\n",
        "    keras.layers.Dropout(0.25),\n",
        "    keras.layers.Dense(10,activation=\"softmax\")\n",
        "])"
      ]
    },
    {
      "cell_type": "code",
      "execution_count": 12,
      "metadata": {
        "id": "58pG9dvNqOKM"
      },
      "outputs": [],
      "source": [
        "optimiser=keras.optimizers.Adam(learning_rate=0.0001)\n",
        "ann_model.compile(loss=keras.losses.sparse_categorical_crossentropy, optimizer=optimiser,metrics=['accuracy'])"
      ]
    },
    {
      "cell_type": "code",
      "execution_count": 13,
      "metadata": {
        "colab": {
          "base_uri": "https://localhost:8080/"
        },
        "id": "wq-cFUviqOKN",
        "outputId": "85411c5a-d52a-4bf3-9d45-6cb486d5f601"
      },
      "outputs": [
        {
          "name": "stdout",
          "output_type": "stream",
          "text": [
            "Model: \"sequential\"\n",
            "_________________________________________________________________\n",
            " Layer (type)                Output Shape              Param #   \n",
            "=================================================================\n",
            " flatten (Flatten)           (None, 3367)              0         \n",
            "                                                                 \n",
            " dense (Dense)               (None, 512)               1724416   \n",
            "                                                                 \n",
            " dropout (Dropout)           (None, 512)               0         \n",
            "                                                                 \n",
            " dense_1 (Dense)             (None, 256)               131328    \n",
            "                                                                 \n",
            " dropout_1 (Dropout)         (None, 256)               0         \n",
            "                                                                 \n",
            " dense_2 (Dense)             (None, 64)                16448     \n",
            "                                                                 \n",
            " dropout_2 (Dropout)         (None, 64)                0         \n",
            "                                                                 \n",
            " dense_3 (Dense)             (None, 10)                650       \n",
            "                                                                 \n",
            "=================================================================\n",
            "Total params: 1,872,842\n",
            "Trainable params: 1,872,842\n",
            "Non-trainable params: 0\n",
            "_________________________________________________________________\n"
          ]
        }
      ],
      "source": [
        "ann_model.summary()"
      ]
    },
    {
      "cell_type": "code",
      "execution_count": 14,
      "metadata": {
        "colab": {
          "base_uri": "https://localhost:8080/"
        },
        "id": "IQXwDKIfqOKN",
        "outputId": "964af392-ce04-4d1b-cc71-687e27d6bb8a"
      },
      "outputs": [
        {
          "name": "stdout",
          "output_type": "stream",
          "text": [
            "Epoch 1/100\n",
            "105/105 [==============================] - 3s 9ms/step - loss: 27.6586 - accuracy: 0.1719 - val_loss: 3.6338 - val_accuracy: 0.2803\n",
            "Epoch 2/100\n",
            "105/105 [==============================] - 1s 7ms/step - loss: 8.2948 - accuracy: 0.1967 - val_loss: 2.2685 - val_accuracy: 0.2840\n",
            "Epoch 3/100\n",
            "105/105 [==============================] - 1s 7ms/step - loss: 5.1846 - accuracy: 0.1889 - val_loss: 2.1777 - val_accuracy: 0.2518\n",
            "Epoch 4/100\n",
            "105/105 [==============================] - 1s 7ms/step - loss: 3.8257 - accuracy: 0.1913 - val_loss: 2.1882 - val_accuracy: 0.2239\n",
            "Epoch 5/100\n",
            "105/105 [==============================] - 1s 7ms/step - loss: 3.1597 - accuracy: 0.1815 - val_loss: 2.1987 - val_accuracy: 0.2130\n",
            "Epoch 6/100\n",
            "105/105 [==============================] - 1s 8ms/step - loss: 2.9206 - accuracy: 0.1854 - val_loss: 2.1733 - val_accuracy: 0.2166\n",
            "Epoch 7/100\n",
            "105/105 [==============================] - 1s 7ms/step - loss: 2.6213 - accuracy: 0.1874 - val_loss: 2.1268 - val_accuracy: 0.2336\n",
            "Epoch 8/100\n",
            "105/105 [==============================] - 1s 7ms/step - loss: 2.4729 - accuracy: 0.1985 - val_loss: 2.0893 - val_accuracy: 0.2421\n",
            "Epoch 9/100\n",
            "105/105 [==============================] - 1s 6ms/step - loss: 2.4164 - accuracy: 0.2006 - val_loss: 2.1088 - val_accuracy: 0.2397\n",
            "Epoch 10/100\n",
            "105/105 [==============================] - 1s 7ms/step - loss: 2.3566 - accuracy: 0.2087 - val_loss: 2.0802 - val_accuracy: 0.2476\n",
            "Epoch 11/100\n",
            "105/105 [==============================] - 1s 7ms/step - loss: 2.2865 - accuracy: 0.2138 - val_loss: 2.0604 - val_accuracy: 0.2700\n",
            "Epoch 12/100\n",
            "105/105 [==============================] - 1s 8ms/step - loss: 2.2787 - accuracy: 0.2141 - val_loss: 2.0386 - val_accuracy: 0.2615\n",
            "Epoch 13/100\n",
            "105/105 [==============================] - 1s 8ms/step - loss: 2.2252 - accuracy: 0.2359 - val_loss: 2.0070 - val_accuracy: 0.2761\n",
            "Epoch 14/100\n",
            "105/105 [==============================] - 1s 8ms/step - loss: 2.1839 - accuracy: 0.2362 - val_loss: 1.9914 - val_accuracy: 0.2913\n",
            "Epoch 15/100\n",
            "105/105 [==============================] - 1s 8ms/step - loss: 2.2228 - accuracy: 0.2341 - val_loss: 1.9905 - val_accuracy: 0.2931\n",
            "Epoch 16/100\n",
            "105/105 [==============================] - 1s 7ms/step - loss: 2.1202 - accuracy: 0.2517 - val_loss: 1.9515 - val_accuracy: 0.2979\n",
            "Epoch 17/100\n",
            "105/105 [==============================] - 1s 7ms/step - loss: 2.1163 - accuracy: 0.2661 - val_loss: 1.9677 - val_accuracy: 0.2907\n",
            "Epoch 18/100\n",
            "105/105 [==============================] - 1s 7ms/step - loss: 2.0891 - accuracy: 0.2493 - val_loss: 1.9434 - val_accuracy: 0.2955\n",
            "Epoch 19/100\n",
            "105/105 [==============================] - 1s 7ms/step - loss: 2.1059 - accuracy: 0.2442 - val_loss: 2.0091 - val_accuracy: 0.2712\n",
            "Epoch 20/100\n",
            "105/105 [==============================] - 1s 7ms/step - loss: 2.0559 - accuracy: 0.2658 - val_loss: 1.9049 - val_accuracy: 0.3149\n",
            "Epoch 21/100\n",
            "105/105 [==============================] - 1s 7ms/step - loss: 2.0461 - accuracy: 0.2720 - val_loss: 1.8831 - val_accuracy: 0.3337\n",
            "Epoch 22/100\n",
            "105/105 [==============================] - 1s 7ms/step - loss: 2.0447 - accuracy: 0.2679 - val_loss: 1.9416 - val_accuracy: 0.3010\n",
            "Epoch 23/100\n",
            "105/105 [==============================] - 1s 7ms/step - loss: 2.0136 - accuracy: 0.2813 - val_loss: 1.9195 - val_accuracy: 0.3083\n",
            "Epoch 24/100\n",
            "105/105 [==============================] - 1s 7ms/step - loss: 1.9786 - accuracy: 0.2762 - val_loss: 1.8334 - val_accuracy: 0.3501\n",
            "Epoch 25/100\n",
            "105/105 [==============================] - 1s 8ms/step - loss: 1.9643 - accuracy: 0.2960 - val_loss: 1.9266 - val_accuracy: 0.3070\n",
            "Epoch 26/100\n",
            "105/105 [==============================] - 1s 8ms/step - loss: 1.9441 - accuracy: 0.2948 - val_loss: 1.8444 - val_accuracy: 0.3556\n",
            "Epoch 27/100\n",
            "105/105 [==============================] - 1s 6ms/step - loss: 1.9728 - accuracy: 0.3037 - val_loss: 1.8433 - val_accuracy: 0.3216\n",
            "Epoch 28/100\n",
            "105/105 [==============================] - 1s 8ms/step - loss: 1.9597 - accuracy: 0.2954 - val_loss: 1.8535 - val_accuracy: 0.3343\n",
            "Epoch 29/100\n",
            "105/105 [==============================] - 1s 8ms/step - loss: 1.9315 - accuracy: 0.3115 - val_loss: 1.8638 - val_accuracy: 0.3258\n",
            "Epoch 30/100\n",
            "105/105 [==============================] - 1s 7ms/step - loss: 1.9406 - accuracy: 0.3046 - val_loss: 1.8016 - val_accuracy: 0.3550\n",
            "Epoch 31/100\n",
            "105/105 [==============================] - 1s 7ms/step - loss: 1.9123 - accuracy: 0.3172 - val_loss: 1.8279 - val_accuracy: 0.3386\n",
            "Epoch 32/100\n",
            "105/105 [==============================] - 1s 7ms/step - loss: 1.8975 - accuracy: 0.3217 - val_loss: 1.8261 - val_accuracy: 0.3313\n",
            "Epoch 33/100\n",
            "105/105 [==============================] - 1s 7ms/step - loss: 1.8944 - accuracy: 0.3190 - val_loss: 1.7969 - val_accuracy: 0.3428\n",
            "Epoch 34/100\n",
            "105/105 [==============================] - 1s 8ms/step - loss: 1.8410 - accuracy: 0.3366 - val_loss: 1.8513 - val_accuracy: 0.3532\n",
            "Epoch 35/100\n",
            "105/105 [==============================] - 1s 7ms/step - loss: 1.8671 - accuracy: 0.3387 - val_loss: 1.8238 - val_accuracy: 0.3477\n",
            "Epoch 36/100\n",
            "105/105 [==============================] - 1s 6ms/step - loss: 1.8684 - accuracy: 0.3274 - val_loss: 1.8025 - val_accuracy: 0.3623\n",
            "Epoch 37/100\n",
            "105/105 [==============================] - 1s 6ms/step - loss: 1.8220 - accuracy: 0.3423 - val_loss: 1.7658 - val_accuracy: 0.3629\n",
            "Epoch 38/100\n",
            "105/105 [==============================] - 1s 8ms/step - loss: 1.8205 - accuracy: 0.3369 - val_loss: 1.8135 - val_accuracy: 0.3501\n",
            "Epoch 39/100\n",
            "105/105 [==============================] - 1s 7ms/step - loss: 1.8076 - accuracy: 0.3426 - val_loss: 1.7653 - val_accuracy: 0.3714\n",
            "Epoch 40/100\n",
            "105/105 [==============================] - 1s 7ms/step - loss: 1.7796 - accuracy: 0.3522 - val_loss: 1.7728 - val_accuracy: 0.3732\n",
            "Epoch 41/100\n",
            "105/105 [==============================] - 1s 7ms/step - loss: 1.7711 - accuracy: 0.3572 - val_loss: 1.7892 - val_accuracy: 0.3550\n",
            "Epoch 42/100\n",
            "105/105 [==============================] - 1s 8ms/step - loss: 1.7675 - accuracy: 0.3674 - val_loss: 1.7402 - val_accuracy: 0.3865\n",
            "Epoch 43/100\n",
            "105/105 [==============================] - 1s 7ms/step - loss: 1.7412 - accuracy: 0.3662 - val_loss: 1.7633 - val_accuracy: 0.3841\n",
            "Epoch 44/100\n",
            "105/105 [==============================] - 1s 8ms/step - loss: 1.7124 - accuracy: 0.3677 - val_loss: 1.7354 - val_accuracy: 0.3999\n",
            "Epoch 45/100\n",
            "105/105 [==============================] - 1s 7ms/step - loss: 1.6966 - accuracy: 0.3827 - val_loss: 1.7295 - val_accuracy: 0.3950\n",
            "Epoch 46/100\n",
            "105/105 [==============================] - 1s 7ms/step - loss: 1.6936 - accuracy: 0.3767 - val_loss: 1.7127 - val_accuracy: 0.4005\n",
            "Epoch 47/100\n",
            "105/105 [==============================] - 1s 7ms/step - loss: 1.6815 - accuracy: 0.3809 - val_loss: 1.7554 - val_accuracy: 0.3987\n",
            "Epoch 48/100\n",
            "105/105 [==============================] - 1s 8ms/step - loss: 1.6948 - accuracy: 0.3761 - val_loss: 1.7081 - val_accuracy: 0.4066\n",
            "Epoch 49/100\n",
            "105/105 [==============================] - 1s 7ms/step - loss: 1.6544 - accuracy: 0.3964 - val_loss: 1.7291 - val_accuracy: 0.3920\n",
            "Epoch 50/100\n",
            "105/105 [==============================] - 1s 7ms/step - loss: 1.6217 - accuracy: 0.3994 - val_loss: 1.6838 - val_accuracy: 0.3914\n",
            "Epoch 51/100\n",
            "105/105 [==============================] - 1s 7ms/step - loss: 1.6385 - accuracy: 0.3985 - val_loss: 1.6965 - val_accuracy: 0.4108\n",
            "Epoch 52/100\n",
            "105/105 [==============================] - 1s 8ms/step - loss: 1.6006 - accuracy: 0.4209 - val_loss: 1.6926 - val_accuracy: 0.4126\n",
            "Epoch 53/100\n",
            "105/105 [==============================] - 1s 7ms/step - loss: 1.5777 - accuracy: 0.4129 - val_loss: 1.6877 - val_accuracy: 0.4254\n",
            "Epoch 54/100\n",
            "105/105 [==============================] - 1s 8ms/step - loss: 1.5430 - accuracy: 0.4430 - val_loss: 1.7089 - val_accuracy: 0.4272\n",
            "Epoch 55/100\n",
            "105/105 [==============================] - 1s 7ms/step - loss: 1.5540 - accuracy: 0.4299 - val_loss: 1.6808 - val_accuracy: 0.4254\n",
            "Epoch 56/100\n",
            "105/105 [==============================] - 1s 7ms/step - loss: 1.5620 - accuracy: 0.4179 - val_loss: 1.7415 - val_accuracy: 0.4193\n",
            "Epoch 57/100\n",
            "105/105 [==============================] - 1s 7ms/step - loss: 1.5690 - accuracy: 0.4317 - val_loss: 1.6648 - val_accuracy: 0.4326\n",
            "Epoch 58/100\n",
            "105/105 [==============================] - 1s 7ms/step - loss: 1.5300 - accuracy: 0.4332 - val_loss: 1.6755 - val_accuracy: 0.4448\n",
            "Epoch 59/100\n",
            "105/105 [==============================] - 1s 7ms/step - loss: 1.5097 - accuracy: 0.4481 - val_loss: 1.6575 - val_accuracy: 0.4575\n",
            "Epoch 60/100\n",
            "105/105 [==============================] - 1s 7ms/step - loss: 1.5063 - accuracy: 0.4469 - val_loss: 1.7087 - val_accuracy: 0.4460\n",
            "Epoch 61/100\n",
            "105/105 [==============================] - 1s 7ms/step - loss: 1.5144 - accuracy: 0.4469 - val_loss: 1.6834 - val_accuracy: 0.4369\n",
            "Epoch 62/100\n",
            "105/105 [==============================] - 1s 9ms/step - loss: 1.4959 - accuracy: 0.4445 - val_loss: 1.6583 - val_accuracy: 0.4569\n",
            "Epoch 63/100\n",
            "105/105 [==============================] - 1s 7ms/step - loss: 1.4742 - accuracy: 0.4607 - val_loss: 1.6474 - val_accuracy: 0.4539\n",
            "Epoch 64/100\n",
            "105/105 [==============================] - 1s 7ms/step - loss: 1.4187 - accuracy: 0.4712 - val_loss: 1.6605 - val_accuracy: 0.4442\n",
            "Epoch 65/100\n",
            "105/105 [==============================] - 1s 7ms/step - loss: 1.4050 - accuracy: 0.4741 - val_loss: 1.5932 - val_accuracy: 0.4782\n",
            "Epoch 66/100\n",
            "105/105 [==============================] - 1s 7ms/step - loss: 1.4008 - accuracy: 0.4762 - val_loss: 1.6511 - val_accuracy: 0.4806\n",
            "Epoch 67/100\n",
            "105/105 [==============================] - 1s 8ms/step - loss: 1.3880 - accuracy: 0.4960 - val_loss: 1.6193 - val_accuracy: 0.4860\n",
            "Epoch 68/100\n",
            "105/105 [==============================] - 1s 7ms/step - loss: 1.3447 - accuracy: 0.5007 - val_loss: 1.6700 - val_accuracy: 0.4751\n",
            "Epoch 69/100\n",
            "105/105 [==============================] - 1s 7ms/step - loss: 1.3666 - accuracy: 0.4948 - val_loss: 1.5835 - val_accuracy: 0.4775\n",
            "Epoch 70/100\n",
            "105/105 [==============================] - 1s 7ms/step - loss: 1.3331 - accuracy: 0.5169 - val_loss: 1.5866 - val_accuracy: 0.4939\n",
            "Epoch 71/100\n",
            "105/105 [==============================] - 1s 7ms/step - loss: 1.3624 - accuracy: 0.4996 - val_loss: 1.5960 - val_accuracy: 0.4600\n",
            "Epoch 72/100\n",
            "105/105 [==============================] - 1s 8ms/step - loss: 1.3212 - accuracy: 0.5073 - val_loss: 1.5800 - val_accuracy: 0.4678\n",
            "Epoch 73/100\n",
            "105/105 [==============================] - 1s 7ms/step - loss: 1.2881 - accuracy: 0.5241 - val_loss: 1.5999 - val_accuracy: 0.4873\n",
            "Epoch 74/100\n",
            "105/105 [==============================] - 1s 7ms/step - loss: 1.2767 - accuracy: 0.5253 - val_loss: 1.5936 - val_accuracy: 0.4927\n",
            "Epoch 75/100\n",
            "105/105 [==============================] - 1s 7ms/step - loss: 1.2575 - accuracy: 0.5387 - val_loss: 1.5790 - val_accuracy: 0.4794\n",
            "Epoch 76/100\n",
            "105/105 [==============================] - 1s 7ms/step - loss: 1.2456 - accuracy: 0.5294 - val_loss: 1.5662 - val_accuracy: 0.4958\n",
            "Epoch 77/100\n",
            "105/105 [==============================] - 1s 7ms/step - loss: 1.1993 - accuracy: 0.5507 - val_loss: 1.5685 - val_accuracy: 0.4982\n",
            "Epoch 78/100\n",
            "105/105 [==============================] - 1s 7ms/step - loss: 1.2077 - accuracy: 0.5572 - val_loss: 1.6156 - val_accuracy: 0.4891\n",
            "Epoch 79/100\n",
            "105/105 [==============================] - 1s 7ms/step - loss: 1.2220 - accuracy: 0.5528 - val_loss: 1.6056 - val_accuracy: 0.4818\n",
            "Epoch 80/100\n",
            "105/105 [==============================] - 1s 7ms/step - loss: 1.1888 - accuracy: 0.5489 - val_loss: 1.6999 - val_accuracy: 0.4927\n",
            "Epoch 81/100\n",
            "105/105 [==============================] - 1s 8ms/step - loss: 1.2103 - accuracy: 0.5602 - val_loss: 1.6724 - val_accuracy: 0.4891\n",
            "Epoch 82/100\n",
            "105/105 [==============================] - 1s 7ms/step - loss: 1.1871 - accuracy: 0.5540 - val_loss: 1.6524 - val_accuracy: 0.4970\n",
            "Epoch 83/100\n",
            "105/105 [==============================] - 1s 7ms/step - loss: 1.1694 - accuracy: 0.5898 - val_loss: 1.6869 - val_accuracy: 0.4964\n",
            "Epoch 84/100\n",
            "105/105 [==============================] - 1s 7ms/step - loss: 1.1303 - accuracy: 0.5842 - val_loss: 1.6927 - val_accuracy: 0.5000\n",
            "Epoch 85/100\n",
            "105/105 [==============================] - 1s 7ms/step - loss: 1.1279 - accuracy: 0.5770 - val_loss: 1.7195 - val_accuracy: 0.5030\n",
            "Epoch 86/100\n",
            "105/105 [==============================] - 1s 7ms/step - loss: 1.1189 - accuracy: 0.5833 - val_loss: 1.6281 - val_accuracy: 0.5061\n",
            "Epoch 87/100\n",
            "105/105 [==============================] - 1s 7ms/step - loss: 1.1334 - accuracy: 0.5883 - val_loss: 1.6322 - val_accuracy: 0.5170\n",
            "Epoch 88/100\n",
            "105/105 [==============================] - 1s 8ms/step - loss: 1.0734 - accuracy: 0.5997 - val_loss: 1.6239 - val_accuracy: 0.5218\n",
            "Epoch 89/100\n",
            "105/105 [==============================] - 1s 8ms/step - loss: 1.0707 - accuracy: 0.6054 - val_loss: 1.6790 - val_accuracy: 0.5267\n",
            "Epoch 90/100\n",
            "105/105 [==============================] - 1s 7ms/step - loss: 1.0465 - accuracy: 0.6117 - val_loss: 1.6451 - val_accuracy: 0.5176\n",
            "Epoch 91/100\n",
            "105/105 [==============================] - 1s 7ms/step - loss: 1.0644 - accuracy: 0.6102 - val_loss: 1.7225 - val_accuracy: 0.5182\n",
            "Epoch 92/100\n",
            "105/105 [==============================] - 1s 7ms/step - loss: 1.0474 - accuracy: 0.6096 - val_loss: 1.6434 - val_accuracy: 0.5170\n",
            "Epoch 93/100\n",
            "105/105 [==============================] - 1s 8ms/step - loss: 1.0405 - accuracy: 0.6194 - val_loss: 1.6553 - val_accuracy: 0.5218\n",
            "Epoch 94/100\n",
            "105/105 [==============================] - 1s 7ms/step - loss: 1.0166 - accuracy: 0.6278 - val_loss: 1.6287 - val_accuracy: 0.5218\n",
            "Epoch 95/100\n",
            "105/105 [==============================] - 1s 7ms/step - loss: 1.0166 - accuracy: 0.6209 - val_loss: 1.6619 - val_accuracy: 0.5133\n",
            "Epoch 96/100\n",
            "105/105 [==============================] - 1s 7ms/step - loss: 1.0346 - accuracy: 0.6182 - val_loss: 1.7240 - val_accuracy: 0.5437\n",
            "Epoch 97/100\n",
            "105/105 [==============================] - 1s 7ms/step - loss: 0.9690 - accuracy: 0.6368 - val_loss: 1.7150 - val_accuracy: 0.5255\n",
            "Epoch 98/100\n",
            "105/105 [==============================] - 1s 7ms/step - loss: 1.0134 - accuracy: 0.6374 - val_loss: 1.6363 - val_accuracy: 0.5115\n",
            "Epoch 99/100\n",
            "105/105 [==============================] - 1s 8ms/step - loss: 0.9797 - accuracy: 0.6329 - val_loss: 1.7089 - val_accuracy: 0.5231\n",
            "Epoch 100/100\n",
            "105/105 [==============================] - 1s 7ms/step - loss: 0.9187 - accuracy: 0.6541 - val_loss: 1.7286 - val_accuracy: 0.5206\n"
          ]
        }
      ],
      "source": [
        "ann_history=ann_model.fit(x_train,y_train,validation_data=(x_test,y_test),batch_size=32,epochs=100,verbose=1)"
      ]
    },
    {
      "cell_type": "code",
      "execution_count": 15,
      "metadata": {
        "id": "lE7Bp_W2S5zG"
      },
      "outputs": [],
      "source": [
        "ann_model.save(\"ann_model.h5\")"
      ]
    },
    {
      "cell_type": "code",
      "execution_count": 16,
      "metadata": {
        "id": "L1FBESoPqOKO"
      },
      "outputs": [],
      "source": [
        "def plot_accuracy_error(history):\n",
        "    fig,axis=plt.subplots(2)\n",
        "    \n",
        "    fig.set_size_inches(10,8)\n",
        "    axis[0].plot(history.history[\"accuracy\"],label=\"train_accuracy\")\n",
        "    axis[0].plot(history.history[\"val_accuracy\"],label=\"val_accuracy\")\n",
        "    axis[0].set_ylabel(\"Accuracy\")\n",
        "    axis[0].legend(loc=\"lower right\")\n",
        "    axis[0].set_title(\"Accuracy eval\")\n",
        "   \n",
        "   \n",
        "   \n",
        "    axis[1].plot(history.history[\"loss\"],label=\"train_error\")\n",
        "    axis[1].plot(history.history[\"val_loss\"],label=\"val_error\")\n",
        "    axis[1].set_ylabel(\"Error\")\n",
        "    axis[1].set_xlabel(\"Epoch\")\n",
        "    axis[1].legend(loc=\"upper right\")\n",
        "    axis[1].set_title(\"Error eval\")\n",
        "    \n",
        "    plt.show()    \n",
        "       "
      ]
    },
    {
      "cell_type": "code",
      "execution_count": 17,
      "metadata": {
        "colab": {
          "base_uri": "https://localhost:8080/",
          "height": 513
        },
        "id": "EVxR_vzAqOKO",
        "outputId": "d69259f0-922c-4a58-ee90-7f9a20386d0c"
      },
      "outputs": [
        {
          "data": {
            "image/png": "[encoded data removed]",
            "text/plain": [
              "<Figure size 720x576 with 2 Axes>"
            ]
          },
          "metadata": {
            "needs_background": "light"
          },
          "output_type": "display_data"
        }
      ],
      "source": [
        "plot_accuracy_error(ann_history)"
      ]
    },
    {
      "cell_type": "markdown",
      "metadata": {
        "id": "dQ9cV2Z_qOKP"
      },
      "source": [
        "CREATING CNN MODEL"
      ]
    },
    {
      "cell_type": "code",
      "execution_count": 89,
      "metadata": {
        "id": "6nw793qUqOKP"
      },
      "outputs": [],
      "source": [
        "X=X.reshape(-1,X.shape[1],X.shape[2],1)\n",
        "Y=Y.reshape(-1,1)"
      ]
    },
    {
      "cell_type": "code",
      "execution_count": 90,
      "metadata": {
        "colab": {
          "base_uri": "https://localhost:8080/"
        },
        "id": "FLD__xT9qOKP",
        "outputId": "f828f9d9-6e7a-4d1e-d01e-8887a3161277"
      },
      "outputs": [
        {
          "data": {
            "text/plain": [
              "((4993, 259, 13, 1), (4993, 1))"
            ]
          },
          "execution_count": 90,
          "metadata": {},
          "output_type": "execute_result"
        }
      ],
      "source": [
        "X.shape,Y.shape"
      ]
    },
    {
      "cell_type": "code",
      "execution_count": 91,
      "metadata": {
        "id": "Iu1N8JUHqOKQ"
      },
      "outputs": [],
      "source": [
        "cnn_x_train,cnn_x_test_,cnn_y_train,cnn_y_test_ = train_test_split(X,Y,random_state=56,shuffle=True,stratify=Y,test_size=0.25)\n",
        "cnn_x_val,cnn_x_test,cnn_y_val,cnn_y_test = train_test_split(cnn_x_test_,cnn_y_test_,random_state=89,shuffle=True,stratify=cnn_y_test_,test_size=0.2)"
      ]
    },
    {
      "cell_type": "code",
      "execution_count": 92,
      "metadata": {
        "colab": {
          "base_uri": "https://localhost:8080/"
        },
        "id": "MwMVHj-SqOKQ",
        "outputId": "22ff297b-9f88-4860-fc36-aa5cd3165338"
      },
      "outputs": [
        {
          "data": {
            "text/plain": [
              "((1249, 1), (1249, 259, 13, 1))"
            ]
          },
          "execution_count": 92,
          "metadata": {},
          "output_type": "execute_result"
        }
      ],
      "source": [
        "cnn_y_test_.shape,cnn_x_test_.shape"
      ]
    },
    {
      "cell_type": "code",
      "execution_count": 93,
      "metadata": {
        "colab": {
          "base_uri": "https://localhost:8080/"
        },
        "id": "ZV1wRz2wqOKQ",
        "outputId": "e592beda-6ca6-471b-c863-f0c24f5a8c68"
      },
      "outputs": [
        {
          "data": {
            "text/plain": [
              "(4993, 259, 13)"
            ]
          },
          "execution_count": 93,
          "metadata": {},
          "output_type": "execute_result"
        }
      ],
      "source": [
        "X.shape[0],X.shape[1],X.shape[2] "
      ]
    },
    {
      "cell_type": "code",
      "execution_count": 94,
      "metadata": {
        "id": "QjHV1kuxqOKR"
      },
      "outputs": [],
      "source": [
        "keras.backend.set_image_data_format('channels_last')\n"
      ]
    },
    {
      "cell_type": "code",
      "execution_count": 95,
      "metadata": {
        "colab": {
          "base_uri": "https://localhost:8080/"
        },
        "id": "BMB6AQU_qOKR",
        "outputId": "be50421d-20d7-4222-f94d-6cae7622d44e"
      },
      "outputs": [
        {
          "data": {
            "text/plain": [
              "(259, 13, 1)"
            ]
          },
          "execution_count": 95,
          "metadata": {},
          "output_type": "execute_result"
        }
      ],
      "source": [
        "input_shape=(X.shape[1],X.shape[2],1)\n",
        "input_shape"
      ]
    },
    {
      "cell_type": "code",
      "execution_count": 104,
      "metadata": {
        "id": "4Xqg10IvqOKR"
      },
      "outputs": [],
      "source": [
        "def create_model():\n",
        "    cnn_model=keras.models.Sequential()\n",
        "    cnn_model.add(keras.layers.Conv2D(64,(3,3),activation='relu',input_shape=input_shape))\n",
        "    cnn_model.add(keras.layers.MaxPooling2D((2,4),strides=(2,2),padding=\"same\",))\n",
        "    cnn_model.add(keras.layers.BatchNormalization())\n",
        "      \n",
        "      \n",
        "    cnn_model.add(keras.layers.Conv2D(128,(2,2),activation='relu'))\n",
        "    cnn_model.add(keras.layers.MaxPooling2D((2,4),strides=(2,2),padding=\"same\")),\n",
        "    cnn_model.add(keras.layers.BatchNormalization())\n",
        "   \n",
        "    cnn_model.add(keras.layers.Dropout(0.3))\n",
        "   \n",
        "    cnn_model.add(keras.layers.Conv2D(64,(2,2),activation='relu'))\n",
        "    cnn_model.add(keras.layers.MaxPooling2D((2,2),strides=(2,2),padding=\"same\")),\n",
        "    cnn_model.add(keras.layers.BatchNormalization()) \n",
        " \n",
        "    \n",
        "    cnn_model.add(keras.layers.Dropout(0.2))\n",
        "                \n",
        "    cnn_model.add( keras.layers.Flatten())\n",
        "    cnn_model.add(keras.layers.Dense(512,activation='relu',kernel_regularizer=keras.regularizers.l2(0.1)))\n",
        "    cnn_model.add(keras.layers.Dropout(0.5))\n",
        "    cnn_model.add(keras.layers.Dense(64,activation='relu',kernel_regularizer=keras.regularizers.l2(0.1)))\n",
        "    cnn_model.add(keras.layers.Dropout(0.4))\n",
        "    cnn_model.add(keras.layers.Dense(10,activation='softmax'))\n",
        "      \n",
        "    cnn_optimiser=keras.optimizers.Adam(learning_rate=0.0001)\n",
        "\n",
        "    cnn_model.compile(loss=keras.losses.sparse_categorical_crossentropy,optimizer=cnn_optimiser,metrics=['accuracy'])   \n",
        "    return cnn_model\n",
        "     "
      ]
    },
    {
      "cell_type": "code",
      "execution_count": 105,
      "metadata": {
        "colab": {
          "base_uri": "https://localhost:8080/"
        },
        "id": "SNfoftX7qOKS",
        "outputId": "a346b774-3874-4e26-f6b9-7571eb3c59b4"
      },
      "outputs": [
        {
          "name": "stdout",
          "output_type": "stream",
          "text": [
            "Model: \"sequential_7\"\n",
            "_________________________________________________________________\n",
            " Layer (type)                Output Shape              Param #   \n",
            "=================================================================\n",
            " conv2d_18 (Conv2D)          (None, 257, 11, 64)       640       \n",
            "                                                                 \n",
            " max_pooling2d_18 (MaxPoolin  (None, 129, 6, 64)       0         \n",
            " g2D)                                                            \n",
            "                                                                 \n",
            " batch_normalization_18 (Bat  (None, 129, 6, 64)       256       \n",
            " chNormalization)                                                \n",
            "                                                                 \n",
            " conv2d_19 (Conv2D)          (None, 128, 5, 128)       32896     \n",
            "                                                                 \n",
            " max_pooling2d_19 (MaxPoolin  (None, 64, 3, 128)       0         \n",
            " g2D)                                                            \n",
            "                                                                 \n",
            " batch_normalization_19 (Bat  (None, 64, 3, 128)       512       \n",
            " chNormalization)                                                \n",
            "                                                                 \n",
            " dropout_25 (Dropout)        (None, 64, 3, 128)        0         \n",
            "                                                                 \n",
            " conv2d_20 (Conv2D)          (None, 63, 2, 64)         32832     \n",
            "                                                                 \n",
            " max_pooling2d_20 (MaxPoolin  (None, 32, 1, 64)        0         \n",
            " g2D)                                                            \n",
            "                                                                 \n",
            " batch_normalization_20 (Bat  (None, 32, 1, 64)        256       \n",
            " chNormalization)                                                \n",
            "                                                                 \n",
            " dropout_26 (Dropout)        (None, 32, 1, 64)         0         \n",
            "                                                                 \n",
            " flatten_7 (Flatten)         (None, 2048)              0         \n",
            "                                                                 \n",
            " dense_20 (Dense)            (None, 512)               1049088   \n",
            "                                                                 \n",
            " dropout_27 (Dropout)        (None, 512)               0         \n",
            "                                                                 \n",
            " dense_21 (Dense)            (None, 64)                32832     \n",
            "                                                                 \n",
            " dropout_28 (Dropout)        (None, 64)                0         \n",
            "                                                                 \n",
            " dense_22 (Dense)            (None, 10)                650       \n",
            "                                                                 \n",
            "=================================================================\n",
            "Total params: 1,149,962\n",
            "Trainable params: 1,149,450\n",
            "Non-trainable params: 512\n",
            "_________________________________________________________________\n"
          ]
        }
      ],
      "source": [
        "cnn_model=create_model()\n",
        "cnn_model.summary()"
      ]
    },
    {
      "cell_type": "code",
      "execution_count": 106,
      "metadata": {
        "colab": {
          "base_uri": "https://localhost:8080/"
        },
        "id": "i10WXlItqOKS",
        "outputId": "d3a46adc-659d-4ccb-9636-cecec6268af4"
      },
      "outputs": [
        {
          "name": "stdout",
          "output_type": "stream",
          "text": [
            "Epoch 1/200\n",
            "38/38 [==============================] - 3s 50ms/step - loss: 90.7700 - accuracy: 0.1485 - val_loss: 84.2524 - val_accuracy: 0.1461\n",
            "Epoch 2/200\n",
            "38/38 [==============================] - 2s 40ms/step - loss: 78.7822 - accuracy: 0.2270 - val_loss: 72.8870 - val_accuracy: 0.1992\n",
            "Epoch 3/200\n",
            "38/38 [==============================] - 2s 40ms/step - loss: 68.0766 - accuracy: 0.2818 - val_loss: 62.7956 - val_accuracy: 0.3063\n",
            "Epoch 4/200\n",
            "38/38 [==============================] - 2s 40ms/step - loss: 58.5842 - accuracy: 0.3074 - val_loss: 53.8765 - val_accuracy: 0.3814\n",
            "Epoch 5/200\n",
            "38/38 [==============================] - 1s 39ms/step - loss: 50.1485 - accuracy: 0.3448 - val_loss: 46.0483 - val_accuracy: 0.4464\n",
            "Epoch 6/200\n",
            "38/38 [==============================] - 2s 40ms/step - loss: 42.8342 - accuracy: 0.3670 - val_loss: 39.2381 - val_accuracy: 0.4775\n",
            "Epoch 7/200\n",
            "38/38 [==============================] - 2s 40ms/step - loss: 36.4464 - accuracy: 0.4017 - val_loss: 33.3668 - val_accuracy: 0.5115\n",
            "Epoch 8/200\n",
            "38/38 [==============================] - 2s 40ms/step - loss: 30.9880 - accuracy: 0.4233 - val_loss: 28.3198 - val_accuracy: 0.5315\n",
            "Epoch 9/200\n",
            "38/38 [==============================] - 2s 40ms/step - loss: 26.3163 - accuracy: 0.4418 - val_loss: 24.0151 - val_accuracy: 0.5385\n",
            "Epoch 10/200\n",
            "38/38 [==============================] - 2s 40ms/step - loss: 22.3204 - accuracy: 0.4650 - val_loss: 20.3540 - val_accuracy: 0.5475\n",
            "Epoch 11/200\n",
            "38/38 [==============================] - 2s 40ms/step - loss: 18.9413 - accuracy: 0.4845 - val_loss: 17.2722 - val_accuracy: 0.5415\n",
            "Epoch 12/200\n",
            "38/38 [==============================] - 2s 40ms/step - loss: 16.1020 - accuracy: 0.4955 - val_loss: 14.6623 - val_accuracy: 0.5646\n",
            "Epoch 13/200\n",
            "38/38 [==============================] - 1s 39ms/step - loss: 13.6831 - accuracy: 0.5198 - val_loss: 12.4949 - val_accuracy: 0.5656\n",
            "Epoch 14/200\n",
            "38/38 [==============================] - 1s 39ms/step - loss: 11.6893 - accuracy: 0.5312 - val_loss: 10.6705 - val_accuracy: 0.5826\n",
            "Epoch 15/200\n",
            "38/38 [==============================] - 2s 40ms/step - loss: 10.0139 - accuracy: 0.5454 - val_loss: 9.1552 - val_accuracy: 0.5836\n",
            "Epoch 16/200\n",
            "38/38 [==============================] - 2s 40ms/step - loss: 8.5999 - accuracy: 0.5617 - val_loss: 7.8795 - val_accuracy: 0.6036\n",
            "Epoch 17/200\n",
            "38/38 [==============================] - 1s 39ms/step - loss: 7.4618 - accuracy: 0.5550 - val_loss: 6.8422 - val_accuracy: 0.6066\n",
            "Epoch 18/200\n",
            "38/38 [==============================] - 2s 41ms/step - loss: 6.5014 - accuracy: 0.5697 - val_loss: 5.9572 - val_accuracy: 0.6086\n",
            "Epoch 19/200\n",
            "38/38 [==============================] - 2s 40ms/step - loss: 5.6865 - accuracy: 0.5860 - val_loss: 5.2630 - val_accuracy: 0.6036\n",
            "Epoch 20/200\n",
            "38/38 [==============================] - 2s 40ms/step - loss: 5.0298 - accuracy: 0.5889 - val_loss: 4.6522 - val_accuracy: 0.6206\n",
            "Epoch 21/200\n",
            "38/38 [==============================] - 2s 39ms/step - loss: 4.4693 - accuracy: 0.6034 - val_loss: 4.1585 - val_accuracy: 0.6156\n",
            "Epoch 22/200\n",
            "38/38 [==============================] - 1s 39ms/step - loss: 4.0259 - accuracy: 0.6124 - val_loss: 3.7365 - val_accuracy: 0.6216\n",
            "Epoch 23/200\n",
            "38/38 [==============================] - 2s 40ms/step - loss: 3.6260 - accuracy: 0.6186 - val_loss: 3.3876 - val_accuracy: 0.6296\n",
            "Epoch 24/200\n",
            "38/38 [==============================] - 2s 40ms/step - loss: 3.3149 - accuracy: 0.6178 - val_loss: 3.0893 - val_accuracy: 0.6456\n",
            "Epoch 25/200\n",
            "38/38 [==============================] - 2s 40ms/step - loss: 3.0157 - accuracy: 0.6410 - val_loss: 2.8573 - val_accuracy: 0.6456\n",
            "Epoch 26/200\n",
            "38/38 [==============================] - 2s 40ms/step - loss: 2.7994 - accuracy: 0.6333 - val_loss: 2.6393 - val_accuracy: 0.6507\n",
            "Epoch 27/200\n",
            "38/38 [==============================] - 2s 40ms/step - loss: 2.6004 - accuracy: 0.6461 - val_loss: 2.4502 - val_accuracy: 0.6687\n",
            "Epoch 28/200\n",
            "38/38 [==============================] - 2s 40ms/step - loss: 2.4438 - accuracy: 0.6392 - val_loss: 2.3127 - val_accuracy: 0.6677\n",
            "Epoch 29/200\n",
            "38/38 [==============================] - 2s 40ms/step - loss: 2.2969 - accuracy: 0.6600 - val_loss: 2.1851 - val_accuracy: 0.6687\n",
            "Epoch 30/200\n",
            "38/38 [==============================] - 2s 41ms/step - loss: 2.1683 - accuracy: 0.6635 - val_loss: 2.0617 - val_accuracy: 0.6727\n",
            "Epoch 31/200\n",
            "38/38 [==============================] - 2s 40ms/step - loss: 2.0565 - accuracy: 0.6752 - val_loss: 1.9605 - val_accuracy: 0.6817\n",
            "Epoch 32/200\n",
            "38/38 [==============================] - 2s 40ms/step - loss: 1.9749 - accuracy: 0.6731 - val_loss: 1.8752 - val_accuracy: 0.6807\n",
            "Epoch 33/200\n",
            "38/38 [==============================] - 2s 40ms/step - loss: 1.8689 - accuracy: 0.6707 - val_loss: 1.7804 - val_accuracy: 0.6937\n",
            "Epoch 34/200\n",
            "38/38 [==============================] - 2s 40ms/step - loss: 1.8032 - accuracy: 0.6864 - val_loss: 1.7389 - val_accuracy: 0.6817\n",
            "Epoch 35/200\n",
            "38/38 [==============================] - 2s 41ms/step - loss: 1.7367 - accuracy: 0.6904 - val_loss: 1.6933 - val_accuracy: 0.6817\n",
            "Epoch 36/200\n",
            "38/38 [==============================] - 2s 40ms/step - loss: 1.6765 - accuracy: 0.6979 - val_loss: 1.6034 - val_accuracy: 0.7067\n",
            "Epoch 37/200\n",
            "38/38 [==============================] - 2s 40ms/step - loss: 1.6416 - accuracy: 0.6899 - val_loss: 1.5829 - val_accuracy: 0.6937\n",
            "Epoch 38/200\n",
            "38/38 [==============================] - 2s 40ms/step - loss: 1.6019 - accuracy: 0.6902 - val_loss: 1.5372 - val_accuracy: 0.6977\n",
            "Epoch 39/200\n",
            "38/38 [==============================] - 2s 44ms/step - loss: 1.5446 - accuracy: 0.7118 - val_loss: 1.4864 - val_accuracy: 0.7147\n",
            "Epoch 40/200\n",
            "38/38 [==============================] - 2s 42ms/step - loss: 1.5039 - accuracy: 0.7097 - val_loss: 1.4444 - val_accuracy: 0.7267\n",
            "Epoch 41/200\n",
            "38/38 [==============================] - 2s 41ms/step - loss: 1.4764 - accuracy: 0.7129 - val_loss: 1.4194 - val_accuracy: 0.7217\n",
            "Epoch 42/200\n",
            "38/38 [==============================] - 2s 40ms/step - loss: 1.4363 - accuracy: 0.7185 - val_loss: 1.3987 - val_accuracy: 0.7107\n",
            "Epoch 43/200\n",
            "38/38 [==============================] - 2s 40ms/step - loss: 1.4259 - accuracy: 0.7147 - val_loss: 1.3676 - val_accuracy: 0.7257\n",
            "Epoch 44/200\n",
            "38/38 [==============================] - 2s 41ms/step - loss: 1.3921 - accuracy: 0.7212 - val_loss: 1.3694 - val_accuracy: 0.7117\n",
            "Epoch 45/200\n",
            "38/38 [==============================] - 2s 41ms/step - loss: 1.3709 - accuracy: 0.7265 - val_loss: 1.3421 - val_accuracy: 0.7207\n",
            "Epoch 46/200\n",
            "38/38 [==============================] - 2s 40ms/step - loss: 1.3618 - accuracy: 0.7241 - val_loss: 1.3157 - val_accuracy: 0.7297\n",
            "Epoch 47/200\n",
            "38/38 [==============================] - 2s 41ms/step - loss: 1.3263 - accuracy: 0.7321 - val_loss: 1.2654 - val_accuracy: 0.7528\n",
            "Epoch 48/200\n",
            "38/38 [==============================] - 2s 41ms/step - loss: 1.3052 - accuracy: 0.7374 - val_loss: 1.2616 - val_accuracy: 0.7457\n",
            "Epoch 49/200\n",
            "38/38 [==============================] - 2s 41ms/step - loss: 1.2941 - accuracy: 0.7350 - val_loss: 1.2530 - val_accuracy: 0.7477\n",
            "Epoch 50/200\n",
            "38/38 [==============================] - 2s 41ms/step - loss: 1.2737 - accuracy: 0.7412 - val_loss: 1.2556 - val_accuracy: 0.7367\n",
            "Epoch 51/200\n",
            "38/38 [==============================] - 2s 40ms/step - loss: 1.2564 - accuracy: 0.7508 - val_loss: 1.2593 - val_accuracy: 0.7347\n",
            "Epoch 52/200\n",
            "38/38 [==============================] - 2s 40ms/step - loss: 1.2428 - accuracy: 0.7513 - val_loss: 1.2017 - val_accuracy: 0.7608\n",
            "Epoch 53/200\n",
            "38/38 [==============================] - 2s 41ms/step - loss: 1.2330 - accuracy: 0.7508 - val_loss: 1.1981 - val_accuracy: 0.7538\n",
            "Epoch 54/200\n",
            "38/38 [==============================] - 2s 41ms/step - loss: 1.2240 - accuracy: 0.7537 - val_loss: 1.2132 - val_accuracy: 0.7467\n",
            "Epoch 55/200\n",
            "38/38 [==============================] - 2s 40ms/step - loss: 1.2129 - accuracy: 0.7535 - val_loss: 1.2166 - val_accuracy: 0.7377\n",
            "Epoch 56/200\n",
            "38/38 [==============================] - 2s 39ms/step - loss: 1.1962 - accuracy: 0.7671 - val_loss: 1.1790 - val_accuracy: 0.7608\n",
            "Epoch 57/200\n",
            "38/38 [==============================] - 2s 40ms/step - loss: 1.2074 - accuracy: 0.7519 - val_loss: 1.1692 - val_accuracy: 0.7628\n",
            "Epoch 58/200\n",
            "38/38 [==============================] - 2s 40ms/step - loss: 1.1768 - accuracy: 0.7703 - val_loss: 1.1647 - val_accuracy: 0.7518\n",
            "Epoch 59/200\n",
            "38/38 [==============================] - 2s 40ms/step - loss: 1.1578 - accuracy: 0.7850 - val_loss: 1.1948 - val_accuracy: 0.7337\n",
            "Epoch 60/200\n",
            "38/38 [==============================] - 1s 39ms/step - loss: 1.1486 - accuracy: 0.7794 - val_loss: 1.1538 - val_accuracy: 0.7668\n",
            "Epoch 61/200\n",
            "38/38 [==============================] - 2s 41ms/step - loss: 1.1566 - accuracy: 0.7802 - val_loss: 1.1446 - val_accuracy: 0.7648\n",
            "Epoch 62/200\n",
            "38/38 [==============================] - 2s 40ms/step - loss: 1.1273 - accuracy: 0.7837 - val_loss: 1.1430 - val_accuracy: 0.7598\n",
            "Epoch 63/200\n",
            "38/38 [==============================] - 2s 40ms/step - loss: 1.1114 - accuracy: 0.7861 - val_loss: 1.1787 - val_accuracy: 0.7518\n",
            "Epoch 64/200\n",
            "38/38 [==============================] - 2s 41ms/step - loss: 1.1231 - accuracy: 0.7866 - val_loss: 1.1367 - val_accuracy: 0.7447\n",
            "Epoch 65/200\n",
            "38/38 [==============================] - 2s 40ms/step - loss: 1.1128 - accuracy: 0.7898 - val_loss: 1.1065 - val_accuracy: 0.7758\n",
            "Epoch 66/200\n",
            "38/38 [==============================] - 1s 39ms/step - loss: 1.0933 - accuracy: 0.8002 - val_loss: 1.1040 - val_accuracy: 0.7788\n",
            "Epoch 67/200\n",
            "38/38 [==============================] - 2s 40ms/step - loss: 1.0859 - accuracy: 0.7946 - val_loss: 1.1109 - val_accuracy: 0.7718\n",
            "Epoch 68/200\n",
            "38/38 [==============================] - 1s 39ms/step - loss: 1.0811 - accuracy: 0.7981 - val_loss: 1.0794 - val_accuracy: 0.7838\n",
            "Epoch 69/200\n",
            "38/38 [==============================] - 2s 40ms/step - loss: 1.0896 - accuracy: 0.8013 - val_loss: 1.1013 - val_accuracy: 0.7718\n",
            "Epoch 70/200\n",
            "38/38 [==============================] - 2s 40ms/step - loss: 1.0772 - accuracy: 0.8002 - val_loss: 1.0970 - val_accuracy: 0.7858\n",
            "Epoch 71/200\n",
            "38/38 [==============================] - 1s 39ms/step - loss: 1.0773 - accuracy: 0.7999 - val_loss: 1.1056 - val_accuracy: 0.7658\n",
            "Epoch 72/200\n",
            "38/38 [==============================] - 2s 40ms/step - loss: 1.0537 - accuracy: 0.8034 - val_loss: 1.1098 - val_accuracy: 0.7758\n",
            "Epoch 73/200\n",
            "38/38 [==============================] - 2s 40ms/step - loss: 1.0536 - accuracy: 0.8061 - val_loss: 1.0687 - val_accuracy: 0.7718\n",
            "Epoch 74/200\n",
            "38/38 [==============================] - 2s 40ms/step - loss: 1.0570 - accuracy: 0.8037 - val_loss: 1.0840 - val_accuracy: 0.7708\n",
            "Epoch 75/200\n",
            "38/38 [==============================] - 2s 40ms/step - loss: 1.0377 - accuracy: 0.8074 - val_loss: 1.0801 - val_accuracy: 0.7708\n",
            "Epoch 76/200\n",
            "38/38 [==============================] - 2s 40ms/step - loss: 1.0286 - accuracy: 0.8210 - val_loss: 1.0517 - val_accuracy: 0.7788\n",
            "Epoch 77/200\n",
            "38/38 [==============================] - 2s 40ms/step - loss: 1.0338 - accuracy: 0.8133 - val_loss: 1.0670 - val_accuracy: 0.7838\n",
            "Epoch 78/200\n",
            "38/38 [==============================] - 2s 41ms/step - loss: 1.0136 - accuracy: 0.8168 - val_loss: 1.0751 - val_accuracy: 0.7738\n",
            "Epoch 79/200\n",
            "38/38 [==============================] - 2s 41ms/step - loss: 1.0010 - accuracy: 0.8264 - val_loss: 1.0238 - val_accuracy: 0.7958\n",
            "Epoch 80/200\n",
            "38/38 [==============================] - 2s 41ms/step - loss: 1.0080 - accuracy: 0.8184 - val_loss: 1.0418 - val_accuracy: 0.7928\n",
            "Epoch 81/200\n",
            "38/38 [==============================] - 2s 40ms/step - loss: 0.9863 - accuracy: 0.8256 - val_loss: 1.0219 - val_accuracy: 0.8028\n",
            "Epoch 82/200\n",
            "38/38 [==============================] - 2s 40ms/step - loss: 0.9951 - accuracy: 0.8237 - val_loss: 1.0790 - val_accuracy: 0.7638\n",
            "Epoch 83/200\n",
            "38/38 [==============================] - 2s 41ms/step - loss: 0.9974 - accuracy: 0.8226 - val_loss: 1.0597 - val_accuracy: 0.7838\n",
            "Epoch 84/200\n",
            "38/38 [==============================] - 2s 41ms/step - loss: 0.9874 - accuracy: 0.8317 - val_loss: 1.0256 - val_accuracy: 0.7878\n",
            "Epoch 85/200\n",
            "38/38 [==============================] - 2s 41ms/step - loss: 0.9695 - accuracy: 0.8309 - val_loss: 1.0446 - val_accuracy: 0.7828\n",
            "Epoch 86/200\n",
            "38/38 [==============================] - 2s 41ms/step - loss: 0.9657 - accuracy: 0.8397 - val_loss: 1.0523 - val_accuracy: 0.7768\n",
            "Epoch 87/200\n",
            "38/38 [==============================] - 2s 40ms/step - loss: 0.9654 - accuracy: 0.8344 - val_loss: 1.0156 - val_accuracy: 0.7918\n",
            "Epoch 88/200\n",
            "38/38 [==============================] - 2s 41ms/step - loss: 0.9601 - accuracy: 0.8344 - val_loss: 1.0343 - val_accuracy: 0.7878\n",
            "Epoch 89/200\n",
            "38/38 [==============================] - 2s 42ms/step - loss: 0.9459 - accuracy: 0.8438 - val_loss: 1.0425 - val_accuracy: 0.7758\n",
            "Epoch 90/200\n",
            "38/38 [==============================] - 2s 41ms/step - loss: 0.9613 - accuracy: 0.8269 - val_loss: 0.9958 - val_accuracy: 0.8108\n",
            "Epoch 91/200\n",
            "38/38 [==============================] - 2s 40ms/step - loss: 0.9520 - accuracy: 0.8408 - val_loss: 1.0587 - val_accuracy: 0.7668\n",
            "Epoch 92/200\n",
            "38/38 [==============================] - 2s 40ms/step - loss: 0.9345 - accuracy: 0.8421 - val_loss: 1.0277 - val_accuracy: 0.7808\n",
            "Epoch 93/200\n",
            "38/38 [==============================] - 2s 40ms/step - loss: 0.9340 - accuracy: 0.8389 - val_loss: 0.9790 - val_accuracy: 0.8118\n",
            "Epoch 94/200\n",
            "38/38 [==============================] - 2s 40ms/step - loss: 0.9354 - accuracy: 0.8413 - val_loss: 0.9913 - val_accuracy: 0.7968\n",
            "Epoch 95/200\n",
            "38/38 [==============================] - 2s 40ms/step - loss: 0.9197 - accuracy: 0.8488 - val_loss: 1.0111 - val_accuracy: 0.7938\n",
            "Epoch 96/200\n",
            "38/38 [==============================] - 2s 41ms/step - loss: 0.9178 - accuracy: 0.8512 - val_loss: 1.0446 - val_accuracy: 0.7778\n",
            "Epoch 97/200\n",
            "38/38 [==============================] - 2s 41ms/step - loss: 0.9216 - accuracy: 0.8512 - val_loss: 0.9776 - val_accuracy: 0.8048\n",
            "Epoch 98/200\n",
            "38/38 [==============================] - 2s 41ms/step - loss: 0.9082 - accuracy: 0.8488 - val_loss: 0.9864 - val_accuracy: 0.8028\n",
            "Epoch 99/200\n",
            "38/38 [==============================] - 2s 41ms/step - loss: 0.9125 - accuracy: 0.8504 - val_loss: 0.9940 - val_accuracy: 0.7938\n",
            "Epoch 100/200\n",
            "38/38 [==============================] - 2s 40ms/step - loss: 0.8990 - accuracy: 0.8566 - val_loss: 0.9790 - val_accuracy: 0.7958\n",
            "Epoch 101/200\n",
            "38/38 [==============================] - 2s 40ms/step - loss: 0.8948 - accuracy: 0.8600 - val_loss: 0.9974 - val_accuracy: 0.7958\n",
            "Epoch 102/200\n",
            "38/38 [==============================] - 2s 40ms/step - loss: 0.8927 - accuracy: 0.8598 - val_loss: 0.9498 - val_accuracy: 0.8188\n",
            "Epoch 103/200\n",
            "38/38 [==============================] - 2s 40ms/step - loss: 0.8840 - accuracy: 0.8592 - val_loss: 0.9635 - val_accuracy: 0.8078\n",
            "Epoch 104/200\n",
            "38/38 [==============================] - 1s 39ms/step - loss: 0.8955 - accuracy: 0.8571 - val_loss: 1.0172 - val_accuracy: 0.7868\n",
            "Epoch 105/200\n",
            "38/38 [==============================] - 2s 40ms/step - loss: 0.8795 - accuracy: 0.8614 - val_loss: 0.9765 - val_accuracy: 0.8018\n",
            "Epoch 106/200\n",
            "38/38 [==============================] - 2s 40ms/step - loss: 0.8754 - accuracy: 0.8616 - val_loss: 0.9705 - val_accuracy: 0.8028\n",
            "Epoch 107/200\n",
            "38/38 [==============================] - 2s 40ms/step - loss: 0.8665 - accuracy: 0.8649 - val_loss: 0.9826 - val_accuracy: 0.7948\n",
            "Epoch 108/200\n",
            "38/38 [==============================] - 2s 40ms/step - loss: 0.8664 - accuracy: 0.8627 - val_loss: 0.9594 - val_accuracy: 0.8098\n",
            "Epoch 109/200\n",
            "38/38 [==============================] - 2s 39ms/step - loss: 0.8669 - accuracy: 0.8574 - val_loss: 0.9895 - val_accuracy: 0.7968\n",
            "Epoch 110/200\n",
            "38/38 [==============================] - 2s 40ms/step - loss: 0.8612 - accuracy: 0.8662 - val_loss: 0.9902 - val_accuracy: 0.7898\n",
            "Epoch 111/200\n",
            "38/38 [==============================] - 2s 40ms/step - loss: 0.8465 - accuracy: 0.8694 - val_loss: 0.9361 - val_accuracy: 0.8188\n",
            "Epoch 112/200\n",
            "38/38 [==============================] - 2s 40ms/step - loss: 0.8383 - accuracy: 0.8691 - val_loss: 1.0151 - val_accuracy: 0.7808\n",
            "Epoch 113/200\n",
            "38/38 [==============================] - 2s 40ms/step - loss: 0.8278 - accuracy: 0.8819 - val_loss: 0.9283 - val_accuracy: 0.8168\n",
            "Epoch 114/200\n",
            "38/38 [==============================] - 1s 39ms/step - loss: 0.8288 - accuracy: 0.8721 - val_loss: 0.9643 - val_accuracy: 0.8028\n",
            "Epoch 115/200\n",
            "38/38 [==============================] - 2s 39ms/step - loss: 0.8270 - accuracy: 0.8787 - val_loss: 0.9432 - val_accuracy: 0.7978\n",
            "Epoch 116/200\n",
            "38/38 [==============================] - 2s 40ms/step - loss: 0.8218 - accuracy: 0.8777 - val_loss: 0.9103 - val_accuracy: 0.8188\n",
            "Epoch 117/200\n",
            "38/38 [==============================] - 2s 40ms/step - loss: 0.8124 - accuracy: 0.8777 - val_loss: 0.9142 - val_accuracy: 0.8278\n",
            "Epoch 118/200\n",
            "38/38 [==============================] - 1s 39ms/step - loss: 0.8051 - accuracy: 0.8846 - val_loss: 0.9322 - val_accuracy: 0.8188\n",
            "Epoch 119/200\n",
            "38/38 [==============================] - 2s 41ms/step - loss: 0.7981 - accuracy: 0.8830 - val_loss: 0.9153 - val_accuracy: 0.8268\n",
            "Epoch 120/200\n",
            "38/38 [==============================] - 2s 40ms/step - loss: 0.8138 - accuracy: 0.8809 - val_loss: 0.9194 - val_accuracy: 0.8278\n",
            "Epoch 121/200\n",
            "38/38 [==============================] - 2s 41ms/step - loss: 0.7953 - accuracy: 0.8905 - val_loss: 0.9710 - val_accuracy: 0.7978\n",
            "Epoch 122/200\n",
            "38/38 [==============================] - 2s 40ms/step - loss: 0.8014 - accuracy: 0.8862 - val_loss: 0.9617 - val_accuracy: 0.7838\n",
            "Epoch 123/200\n",
            "38/38 [==============================] - 2s 40ms/step - loss: 0.7969 - accuracy: 0.8884 - val_loss: 0.8989 - val_accuracy: 0.8298\n",
            "Epoch 124/200\n",
            "38/38 [==============================] - 2s 41ms/step - loss: 0.7781 - accuracy: 0.8921 - val_loss: 0.8990 - val_accuracy: 0.8178\n",
            "Epoch 125/200\n",
            "38/38 [==============================] - 2s 40ms/step - loss: 0.7796 - accuracy: 0.8961 - val_loss: 0.9330 - val_accuracy: 0.8038\n",
            "Epoch 126/200\n",
            "38/38 [==============================] - 2s 40ms/step - loss: 0.7815 - accuracy: 0.8937 - val_loss: 0.9487 - val_accuracy: 0.7948\n",
            "Epoch 127/200\n",
            "38/38 [==============================] - 2s 41ms/step - loss: 0.7763 - accuracy: 0.8900 - val_loss: 0.8882 - val_accuracy: 0.8278\n",
            "Epoch 128/200\n",
            "38/38 [==============================] - 2s 40ms/step - loss: 0.7860 - accuracy: 0.8827 - val_loss: 0.9678 - val_accuracy: 0.7898\n",
            "Epoch 129/200\n",
            "38/38 [==============================] - 2s 41ms/step - loss: 0.7776 - accuracy: 0.8948 - val_loss: 0.9074 - val_accuracy: 0.8178\n",
            "Epoch 130/200\n",
            "38/38 [==============================] - 2s 41ms/step - loss: 0.7509 - accuracy: 0.9006 - val_loss: 0.9630 - val_accuracy: 0.7888\n",
            "Epoch 131/200\n",
            "38/38 [==============================] - 2s 41ms/step - loss: 0.7598 - accuracy: 0.9004 - val_loss: 0.9057 - val_accuracy: 0.8198\n",
            "Epoch 132/200\n",
            "38/38 [==============================] - 2s 40ms/step - loss: 0.7627 - accuracy: 0.8966 - val_loss: 0.9175 - val_accuracy: 0.8108\n",
            "Epoch 133/200\n",
            "38/38 [==============================] - 2s 41ms/step - loss: 0.7650 - accuracy: 0.8934 - val_loss: 0.9555 - val_accuracy: 0.7928\n",
            "Epoch 134/200\n",
            "38/38 [==============================] - 2s 41ms/step - loss: 0.7528 - accuracy: 0.9033 - val_loss: 0.9383 - val_accuracy: 0.8048\n",
            "Epoch 135/200\n",
            "38/38 [==============================] - 2s 41ms/step - loss: 0.7421 - accuracy: 0.9038 - val_loss: 0.9313 - val_accuracy: 0.8148\n",
            "Epoch 136/200\n",
            "38/38 [==============================] - 2s 41ms/step - loss: 0.7333 - accuracy: 0.9038 - val_loss: 0.9192 - val_accuracy: 0.8178\n",
            "Epoch 137/200\n",
            "38/38 [==============================] - 2s 41ms/step - loss: 0.7253 - accuracy: 0.9041 - val_loss: 0.9191 - val_accuracy: 0.8078\n",
            "Epoch 138/200\n",
            "38/38 [==============================] - 2s 40ms/step - loss: 0.7393 - accuracy: 0.9062 - val_loss: 0.8621 - val_accuracy: 0.8228\n",
            "Epoch 139/200\n",
            "38/38 [==============================] - 2s 41ms/step - loss: 0.7327 - accuracy: 0.9033 - val_loss: 0.8902 - val_accuracy: 0.8198\n",
            "Epoch 140/200\n",
            "38/38 [==============================] - 2s 41ms/step - loss: 0.7266 - accuracy: 0.9046 - val_loss: 0.8928 - val_accuracy: 0.8208\n",
            "Epoch 141/200\n",
            "38/38 [==============================] - 2s 41ms/step - loss: 0.7310 - accuracy: 0.9054 - val_loss: 0.8892 - val_accuracy: 0.8258\n",
            "Epoch 142/200\n",
            "38/38 [==============================] - 2s 41ms/step - loss: 0.7346 - accuracy: 0.8985 - val_loss: 0.9034 - val_accuracy: 0.8098\n",
            "Epoch 143/200\n",
            "38/38 [==============================] - 2s 40ms/step - loss: 0.7170 - accuracy: 0.9095 - val_loss: 0.8782 - val_accuracy: 0.8228\n",
            "Epoch 144/200\n",
            "38/38 [==============================] - 2s 41ms/step - loss: 0.7077 - accuracy: 0.9145 - val_loss: 0.8509 - val_accuracy: 0.8388\n",
            "Epoch 145/200\n",
            "38/38 [==============================] - 2s 41ms/step - loss: 0.7136 - accuracy: 0.9121 - val_loss: 0.9055 - val_accuracy: 0.8078\n",
            "Epoch 146/200\n",
            "38/38 [==============================] - 2s 40ms/step - loss: 0.7084 - accuracy: 0.9068 - val_loss: 0.8626 - val_accuracy: 0.8388\n",
            "Epoch 147/200\n",
            "38/38 [==============================] - 2s 40ms/step - loss: 0.7029 - accuracy: 0.9079 - val_loss: 0.9458 - val_accuracy: 0.8018\n",
            "Epoch 148/200\n",
            "38/38 [==============================] - 2s 40ms/step - loss: 0.7009 - accuracy: 0.9103 - val_loss: 0.8865 - val_accuracy: 0.8198\n",
            "Epoch 149/200\n",
            "38/38 [==============================] - 2s 40ms/step - loss: 0.7115 - accuracy: 0.9052 - val_loss: 0.8411 - val_accuracy: 0.8328\n",
            "Epoch 150/200\n",
            "38/38 [==============================] - 2s 40ms/step - loss: 0.7025 - accuracy: 0.9113 - val_loss: 0.9308 - val_accuracy: 0.7968\n",
            "Epoch 151/200\n",
            "38/38 [==============================] - 2s 40ms/step - loss: 0.6964 - accuracy: 0.9156 - val_loss: 0.8871 - val_accuracy: 0.8138\n",
            "Epoch 152/200\n",
            "38/38 [==============================] - 2s 40ms/step - loss: 0.6999 - accuracy: 0.9105 - val_loss: 0.8399 - val_accuracy: 0.8308\n",
            "Epoch 153/200\n",
            "38/38 [==============================] - 2s 40ms/step - loss: 0.7074 - accuracy: 0.9097 - val_loss: 0.9312 - val_accuracy: 0.7978\n",
            "Epoch 154/200\n",
            "38/38 [==============================] - 2s 40ms/step - loss: 0.6850 - accuracy: 0.9199 - val_loss: 0.9295 - val_accuracy: 0.7868\n",
            "Epoch 155/200\n",
            "38/38 [==============================] - 2s 40ms/step - loss: 0.6793 - accuracy: 0.9164 - val_loss: 0.8567 - val_accuracy: 0.8278\n",
            "Epoch 156/200\n",
            "38/38 [==============================] - 2s 41ms/step - loss: 0.6761 - accuracy: 0.9193 - val_loss: 0.8040 - val_accuracy: 0.8478\n",
            "Epoch 157/200\n",
            "38/38 [==============================] - 2s 40ms/step - loss: 0.6668 - accuracy: 0.9188 - val_loss: 0.8786 - val_accuracy: 0.8198\n",
            "Epoch 158/200\n",
            "38/38 [==============================] - 2s 40ms/step - loss: 0.6655 - accuracy: 0.9177 - val_loss: 0.8350 - val_accuracy: 0.8228\n",
            "Epoch 159/200\n",
            "38/38 [==============================] - 2s 40ms/step - loss: 0.6545 - accuracy: 0.9223 - val_loss: 0.8776 - val_accuracy: 0.8138\n",
            "Epoch 160/200\n",
            "38/38 [==============================] - 2s 40ms/step - loss: 0.6665 - accuracy: 0.9169 - val_loss: 0.8608 - val_accuracy: 0.8248\n",
            "Epoch 161/200\n",
            "38/38 [==============================] - 2s 40ms/step - loss: 0.6551 - accuracy: 0.9303 - val_loss: 0.8734 - val_accuracy: 0.8158\n",
            "Epoch 162/200\n",
            "38/38 [==============================] - 2s 40ms/step - loss: 0.6372 - accuracy: 0.9332 - val_loss: 0.8815 - val_accuracy: 0.8128\n",
            "Epoch 163/200\n",
            "38/38 [==============================] - 2s 40ms/step - loss: 0.6526 - accuracy: 0.9191 - val_loss: 0.8260 - val_accuracy: 0.8448\n",
            "Epoch 164/200\n",
            "38/38 [==============================] - 2s 41ms/step - loss: 0.6519 - accuracy: 0.9199 - val_loss: 0.8068 - val_accuracy: 0.8398\n",
            "Epoch 165/200\n",
            "38/38 [==============================] - 2s 41ms/step - loss: 0.6535 - accuracy: 0.9239 - val_loss: 0.8260 - val_accuracy: 0.8408\n",
            "Epoch 166/200\n",
            "38/38 [==============================] - 2s 41ms/step - loss: 0.6307 - accuracy: 0.9268 - val_loss: 0.8833 - val_accuracy: 0.8008\n",
            "Epoch 167/200\n",
            "38/38 [==============================] - 2s 41ms/step - loss: 0.6337 - accuracy: 0.9290 - val_loss: 0.8682 - val_accuracy: 0.8198\n",
            "Epoch 168/200\n",
            "38/38 [==============================] - 2s 40ms/step - loss: 0.6387 - accuracy: 0.9263 - val_loss: 0.7988 - val_accuracy: 0.8529\n",
            "Epoch 169/200\n",
            "38/38 [==============================] - 2s 41ms/step - loss: 0.6287 - accuracy: 0.9257 - val_loss: 0.8050 - val_accuracy: 0.8408\n",
            "Epoch 170/200\n",
            "38/38 [==============================] - 2s 40ms/step - loss: 0.6308 - accuracy: 0.9316 - val_loss: 0.8497 - val_accuracy: 0.8168\n",
            "Epoch 171/200\n",
            "38/38 [==============================] - 2s 40ms/step - loss: 0.6280 - accuracy: 0.9265 - val_loss: 0.9273 - val_accuracy: 0.7908\n",
            "Epoch 172/200\n",
            "38/38 [==============================] - 2s 41ms/step - loss: 0.6206 - accuracy: 0.9348 - val_loss: 0.8069 - val_accuracy: 0.8509\n",
            "Epoch 173/200\n",
            "38/38 [==============================] - 2s 41ms/step - loss: 0.6243 - accuracy: 0.9271 - val_loss: 0.8502 - val_accuracy: 0.8248\n",
            "Epoch 174/200\n",
            "38/38 [==============================] - 2s 41ms/step - loss: 0.6147 - accuracy: 0.9335 - val_loss: 0.8545 - val_accuracy: 0.8248\n",
            "Epoch 175/200\n",
            "38/38 [==============================] - 2s 41ms/step - loss: 0.6164 - accuracy: 0.9322 - val_loss: 0.8420 - val_accuracy: 0.8158\n",
            "Epoch 176/200\n",
            "38/38 [==============================] - 2s 41ms/step - loss: 0.6234 - accuracy: 0.9263 - val_loss: 0.8146 - val_accuracy: 0.8378\n",
            "Epoch 177/200\n",
            "38/38 [==============================] - 2s 41ms/step - loss: 0.6191 - accuracy: 0.9314 - val_loss: 0.8303 - val_accuracy: 0.8298\n",
            "Epoch 178/200\n",
            "38/38 [==============================] - 2s 40ms/step - loss: 0.6085 - accuracy: 0.9378 - val_loss: 0.8084 - val_accuracy: 0.8388\n",
            "Epoch 179/200\n",
            "38/38 [==============================] - 2s 41ms/step - loss: 0.5903 - accuracy: 0.9386 - val_loss: 0.8303 - val_accuracy: 0.8238\n",
            "Epoch 180/200\n",
            "38/38 [==============================] - 2s 42ms/step - loss: 0.6082 - accuracy: 0.9298 - val_loss: 0.7909 - val_accuracy: 0.8488\n",
            "Epoch 181/200\n",
            "38/38 [==============================] - 2s 41ms/step - loss: 0.6030 - accuracy: 0.9306 - val_loss: 0.7809 - val_accuracy: 0.8448\n",
            "Epoch 182/200\n",
            "38/38 [==============================] - 2s 40ms/step - loss: 0.5894 - accuracy: 0.9388 - val_loss: 0.8336 - val_accuracy: 0.8268\n",
            "Epoch 183/200\n",
            "38/38 [==============================] - 2s 41ms/step - loss: 0.5972 - accuracy: 0.9346 - val_loss: 0.8243 - val_accuracy: 0.8278\n",
            "Epoch 184/200\n",
            "38/38 [==============================] - 2s 41ms/step - loss: 0.5994 - accuracy: 0.9330 - val_loss: 0.7988 - val_accuracy: 0.8488\n",
            "Epoch 185/200\n",
            "38/38 [==============================] - 2s 41ms/step - loss: 0.6025 - accuracy: 0.9340 - val_loss: 0.7981 - val_accuracy: 0.8438\n",
            "Epoch 186/200\n",
            "38/38 [==============================] - 2s 40ms/step - loss: 0.5890 - accuracy: 0.9434 - val_loss: 0.8343 - val_accuracy: 0.8208\n",
            "Epoch 187/200\n",
            "38/38 [==============================] - 2s 40ms/step - loss: 0.5882 - accuracy: 0.9383 - val_loss: 0.7708 - val_accuracy: 0.8498\n",
            "Epoch 188/200\n",
            "38/38 [==============================] - 2s 41ms/step - loss: 0.5770 - accuracy: 0.9426 - val_loss: 0.8086 - val_accuracy: 0.8358\n",
            "Epoch 189/200\n",
            "38/38 [==============================] - 2s 41ms/step - loss: 0.5848 - accuracy: 0.9394 - val_loss: 0.8059 - val_accuracy: 0.8338\n",
            "Epoch 190/200\n",
            "38/38 [==============================] - 2s 41ms/step - loss: 0.5847 - accuracy: 0.9340 - val_loss: 0.7899 - val_accuracy: 0.8428\n",
            "Epoch 191/200\n",
            "38/38 [==============================] - 2s 41ms/step - loss: 0.5683 - accuracy: 0.9431 - val_loss: 0.8058 - val_accuracy: 0.8358\n",
            "Epoch 192/200\n",
            "38/38 [==============================] - 2s 40ms/step - loss: 0.5602 - accuracy: 0.9439 - val_loss: 0.8047 - val_accuracy: 0.8308\n",
            "Epoch 193/200\n",
            "38/38 [==============================] - 1s 39ms/step - loss: 0.5716 - accuracy: 0.9370 - val_loss: 0.7766 - val_accuracy: 0.8378\n",
            "Epoch 194/200\n",
            "38/38 [==============================] - 2s 40ms/step - loss: 0.5688 - accuracy: 0.9431 - val_loss: 0.8011 - val_accuracy: 0.8368\n",
            "Epoch 195/200\n",
            "38/38 [==============================] - 2s 40ms/step - loss: 0.5614 - accuracy: 0.9442 - val_loss: 0.7999 - val_accuracy: 0.8378\n",
            "Epoch 196/200\n",
            "38/38 [==============================] - 2s 39ms/step - loss: 0.5595 - accuracy: 0.9442 - val_loss: 0.8150 - val_accuracy: 0.8358\n",
            "Epoch 197/200\n",
            "38/38 [==============================] - 2s 40ms/step - loss: 0.5559 - accuracy: 0.9468 - val_loss: 0.7810 - val_accuracy: 0.8378\n",
            "Epoch 198/200\n",
            "38/38 [==============================] - 2s 40ms/step - loss: 0.5521 - accuracy: 0.9458 - val_loss: 0.7918 - val_accuracy: 0.8498\n",
            "Epoch 199/200\n",
            "38/38 [==============================] - 1s 40ms/step - loss: 0.5488 - accuracy: 0.9479 - val_loss: 0.7989 - val_accuracy: 0.8338\n",
            "Epoch 200/200\n",
            "38/38 [==============================] - 2s 40ms/step - loss: 0.5457 - accuracy: 0.9463 - val_loss: 0.8621 - val_accuracy: 0.8118\n"
          ]
        }
      ],
      "source": [
        "cnn_history=cnn_model.fit(cnn_x_train,cnn_y_train,validation_data=(cnn_x_val,cnn_y_val),verbose=1,epochs=200,batch_size=100)"
      ]
    },
    {
      "cell_type": "code",
      "execution_count": 112,
      "metadata": {
        "colab": {
          "base_uri": "https://localhost:8080/",
          "height": 513
        },
        "id": "NuHRea0sqOKS",
        "outputId": "279eb01d-f42e-4914-cf40-f23cbca3c481"
      },
      "outputs": [
        {
          "data": {
            "image/png": "[encoded data removed]",
            "text/plain": [
              "<Figure size 720x576 with 2 Axes>"
            ]
          },
          "metadata": {
            "needs_background": "light"
          },
          "output_type": "display_data"
        }
      ],
      "source": [
        "plot_accuracy_error(cnn_history)"
      ]
    },
    {
      "cell_type": "code",
      "execution_count": 113,
      "metadata": {
        "id": "VeiYY4HnwI1H"
      },
      "outputs": [],
      "source": [
        "cnn_model.save(\"cnn_model.h5\")"
      ]
    },
    {
      "cell_type": "code",
      "execution_count": 114,
      "metadata": {
        "colab": {
          "base_uri": "https://localhost:8080/"
        },
        "id": "PG-8lvwcVlAu",
        "outputId": "2bcdfda6-c82d-49b1-968b-4a7e5ba4a85a"
      },
      "outputs": [
        {
          "data": {
            "text/plain": [
              "(1, 259, 13, 1)"
            ]
          },
          "execution_count": 114,
          "metadata": {},
          "output_type": "execute_result"
        }
      ],
      "source": [
        "X_predi=cnn_x_test[20]\n",
        "Y_predi=cnn_y_test[20]\n",
        "X_predi=X_predi.reshape(1,X_predi.shape[0],X_predi.shape[1],1)\n",
        "X_predi.shape"
      ]
    },
    {
      "cell_type": "code",
      "execution_count": 115,
      "metadata": {
        "id": "yJPMi4LS2fVB"
      },
      "outputs": [],
      "source": [
        "model=keras.models.load_model('cnn_model.h5')"
      ]
    },
    {
      "cell_type": "code",
      "execution_count": 116,
      "metadata": {
        "id": "3TRku-tqWArw"
      },
      "outputs": [],
      "source": [
        "prediction=model.predict(X_predi)"
      ]
    },
    {
      "cell_type": "code",
      "execution_count": 117,
      "metadata": {
        "colab": {
          "base_uri": "https://localhost:8080/"
        },
        "id": "MUc15r7KZtTA",
        "outputId": "1f184ee6-40a7-4f29-f256-b3b25d0da24c"
      },
      "outputs": [
        {
          "data": {
            "text/plain": [
              "((1, 10), (1,))"
            ]
          },
          "execution_count": 117,
          "metadata": {},
          "output_type": "execute_result"
        }
      ],
      "source": [
        "prediction.shape,Y_predi.shape"
      ]
    },
    {
      "cell_type": "code",
      "execution_count": 118,
      "metadata": {
        "colab": {
          "base_uri": "https://localhost:8080/"
        },
        "id": "F_sa-DybWOGH",
        "outputId": "7a5875c1-5fd8-4a49-ee22-a43e237a2b83"
      },
      "outputs": [
        {
          "name": "stdout",
          "output_type": "stream",
          "text": [
            "[0.41373995] [9]\n"
          ]
        }
      ],
      "source": [
        "predicted_index=np.argmax(prediction,axis=1)\n",
        "print(prediction[0][predicted_index],predicted_index)"
      ]
    },
    {
      "cell_type": "code",
      "execution_count": 119,
      "metadata": {
        "colab": {
          "base_uri": "https://localhost:8080/"
        },
        "id": "KiTVyE2LXO40",
        "outputId": "ca2cac6a-8410-4d82-bb04-883a87d40225"
      },
      "outputs": [
        {
          "data": {
            "text/plain": [
              "2"
            ]
          },
          "execution_count": 119,
          "metadata": {},
          "output_type": "execute_result"
        }
      ],
      "source": [
        "Y_predi[0]"
      ]
    },
    {
      "cell_type": "code",
      "execution_count": 126,
      "metadata": {
        "colab": {
          "base_uri": "https://localhost:8080/"
        },
        "id": "DOZmUep3XSil",
        "outputId": "1ec18269-0fd2-41ac-a8d3-e3fab2167a61"
      },
      "outputs": [
        {
          "name": "stdout",
          "output_type": "stream",
          "text": [
            "\n",
            "index :173\n",
            "real Genre : reggae\n",
            "predicted Genre :reggae\n",
            "\n",
            "index :195\n",
            "real Genre : pop\n",
            "predicted Genre :pop\n",
            "\n",
            "index :72\n",
            "real Genre : pop\n",
            "predicted Genre :country\n",
            "\n",
            "index :174\n",
            "real Genre : jazz\n",
            "predicted Genre :jazz\n",
            "\n",
            "index :51\n",
            "real Genre : country\n",
            "predicted Genre :country\n",
            "\n",
            "index :67\n",
            "real Genre : jazz\n",
            "predicted Genre :country\n",
            "\n",
            "index :229\n",
            "real Genre : jazz\n",
            "predicted Genre :hiphop\n",
            "\n",
            "index :205\n",
            "real Genre : rock\n",
            "predicted Genre :rock\n",
            "\n",
            "index :211\n",
            "real Genre : reggae\n",
            "predicted Genre :metal\n",
            "\n",
            "index :163\n",
            "real Genre : blues\n",
            "predicted Genre :blues\n",
            "\n",
            "index :213\n",
            "real Genre : rock\n",
            "predicted Genre :rock\n",
            "\n",
            "index :147\n",
            "real Genre : hiphop\n",
            "predicted Genre :hiphop\n",
            "\n",
            "index :159\n",
            "real Genre : hiphop\n",
            "predicted Genre :hiphop\n",
            "\n",
            "index :241\n",
            "real Genre : hiphop\n",
            "predicted Genre :hiphop\n",
            "\n",
            "index :179\n",
            "real Genre : disco\n",
            "predicted Genre :disco\n",
            "\n",
            "index :79\n",
            "real Genre : blues\n",
            "predicted Genre :blues\n",
            "\n",
            "index :62\n",
            "real Genre : classical\n",
            "predicted Genre :classical\n",
            "\n",
            "index :127\n",
            "real Genre : blues\n",
            "predicted Genre :blues\n",
            "\n",
            "index :225\n",
            "real Genre : metal\n",
            "predicted Genre :rock\n",
            "\n",
            "index :149\n",
            "real Genre : reggae\n",
            "predicted Genre :reggae\n",
            "\n",
            "index :108\n",
            "real Genre : jazz\n",
            "predicted Genre :jazz\n",
            "\n",
            "index :123\n",
            "real Genre : pop\n",
            "predicted Genre :pop\n",
            "\n",
            "index :247\n",
            "real Genre : disco\n",
            "predicted Genre :rock\n",
            "\n",
            "index :3\n",
            "real Genre : metal\n",
            "predicted Genre :metal\n",
            "\n",
            "index :167\n",
            "real Genre : metal\n",
            "predicted Genre :metal\n",
            "\n",
            "index :73\n",
            "real Genre : hiphop\n",
            "predicted Genre :hiphop\n",
            "\n",
            "index :108\n",
            "real Genre : jazz\n",
            "predicted Genre :jazz\n",
            "\n",
            "index :4\n",
            "real Genre : hiphop\n",
            "predicted Genre :hiphop\n",
            "\n",
            "index :91\n",
            "real Genre : hiphop\n",
            "predicted Genre :hiphop\n",
            "\n",
            "index :170\n",
            "real Genre : metal\n",
            "predicted Genre :metal\n"
          ]
        }
      ],
      "source": [
        "correct=0\n",
        "wrong=0\n",
        "for _ in range(30):\n",
        "  a=random.randint(0,len(cnn_x_test)-1)\n",
        "  sample=cnn_x_test[a].reshape(1,cnn_x_test.shape[1],cnn_x_test.shape[2],1)\n",
        "  print(\"\\nindex :{}\\nreal Genre : {}\".format(a,music_genres[cnn_y_test[a][0]]))\n",
        "  prediction=model.predict(sample)\n",
        "  index=np.argmax(prediction,axis=1)\n",
        "  print(\"predicted Genre :{}\".format(music_genres[index[0]]))\n",
        "  if cnn_y_test[a][0]==index[0]:\n",
        "    correct+=1\n",
        "  else:\n",
        "    wrong+=1"
      ]
    },
    {
      "cell_type": "code",
      "execution_count": 127,
      "metadata": {
        "colab": {
          "base_uri": "https://localhost:8080/"
        },
        "id": "jri982zmj5-3",
        "outputId": "8f1e1708-aefc-4d81-f260-725e571f0cee"
      },
      "outputs": [
        {
          "data": {
            "text/plain": [
              "(24, 6)"
            ]
          },
          "execution_count": 127,
          "metadata": {},
          "output_type": "execute_result"
        }
      ],
      "source": [
        "correct,wrong"
      ]
    },
    {
      "cell_type": "code",
      "execution_count": 128,
      "metadata": {
        "colab": {
          "base_uri": "https://localhost:8080/"
        },
        "id": "U9Okp4qzmveH",
        "outputId": "ef617866-acb2-4584-debc-e6951be55613"
      },
      "outputs": [
        {
          "name": "stdout",
          "output_type": "stream",
          "text": [
            "8/8 [==============================] - 0s 10ms/step - loss: 0.8299 - accuracy: 0.8200\n"
          ]
        }
      ],
      "source": [
        "result=model.evaluate(cnn_x_test,cnn_y_test)"
      ]
    },
    {
      "cell_type": "code",
      "execution_count": 123,
      "metadata": {
        "colab": {
          "base_uri": "https://localhost:8080/"
        },
        "id": "WXvM2bNqnPFM",
        "outputId": "6aeb17e3-1f31-416d-a408-eed6daf0e691"
      },
      "outputs": [
        {
          "data": {
            "text/plain": [
              "[0.829929769039154, 0.8199999928474426]"
            ]
          },
          "execution_count": 123,
          "metadata": {},
          "output_type": "execute_result"
        }
      ],
      "source": [
        "result"
      ]
    },
    {
      "cell_type": "code",
      "execution_count": 77,
      "metadata": {
        "id": "T_QukgWBnQ1A"
      },
      "outputs": [],
      "source": []
    }
  ],
  "metadata": {
    "accelerator": "GPU",
    "colab": {
      "name": "creating_cnn_model.ipynb",
      "provenance": []
    },
    "interpreter": {
      "hash": "c819db0b61094783b121348d134d41c4e0450ebc7e72307b330662436e6d9290"
    },
    "kernelspec": {
      "display_name": "Python 3 (ipykernel)",
      "language": "python",
      "name": "python3"
    },
    "language_info": {
      "codemirror_mode": {
        "name": "ipython",
        "version": 3
      },
      "file_extension": ".py",
      "mimetype": "text/x-python",
      "name": "python",
      "nbconvert_exporter": "python",
      "pygments_lexer": "ipython3",
      "version": "3.9.5"
    }
  },
  "nbformat": 4,
  "nbformat_minor": 0
}
