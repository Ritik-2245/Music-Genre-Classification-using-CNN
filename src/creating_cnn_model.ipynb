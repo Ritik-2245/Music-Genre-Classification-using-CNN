{
  "cells": [
    {
      "cell_type": "code",
      "execution_count": 1,
      "metadata": {
        "id": "F1A9jQhGqOKB"
      },
      "outputs": [],
      "source": [
        "import json\n",
        "import numpy as np\n",
        "from sklearn.model_selection import train_test_split,RandomizedSearchCV\n",
        "import tensorflow.keras as keras\n",
        "\n",
        "import keras.backend as K\n",
        "\n",
        "import matplotlib.pyplot as plt\n",
        "import random\n",
        "\n",
        "import librosa\n",
        "import math"
      ]
    },
    {
      "cell_type": "code",
      "execution_count": 3,
      "metadata": {
        "id": "CulzAgmqqOKF"
      },
      "outputs": [],
      "source": [
        "JSON_PATH=\"./drive/MyDrive/project-it290/data.json\"\n"
      ]
    },
    {
      "cell_type": "code",
      "source": [
        "from google.colab import drive\n",
        "drive.mount('/content/drive')"
      ],
      "metadata": {
        "colab": {
          "base_uri": "https://localhost:8080/"
        },
        "id": "RgHmH2paiob7",
        "outputId": "3bb522d6-2ca1-4d63-dfc0-711b62bb0cac"
      },
      "execution_count": 2,
      "outputs": [
        {
          "output_type": "stream",
          "name": "stdout",
          "text": [
            "Mounted at /content/drive\n"
          ]
        }
      ]
    },
    {
      "cell_type": "code",
      "execution_count": 4,
      "metadata": {
        "id": "2DeIHmjJqOKG"
      },
      "outputs": [],
      "source": [
        "def load_data_from_json(json_path):\n",
        "    \n",
        "    with open(json_path, \"r\") as f:\n",
        "        data=json.load(f)\n",
        "    \n",
        "    \n",
        "    X=data[\"mfcc\"]\n",
        "    Y=data[\"labels\"]\n",
        "    print(\"DATA IS LOADED SUCCESSFULLY\")\n",
        "    return np.array(X), np.array(Y),data[\"mapping\"]"
      ]
    },
    {
      "cell_type": "code",
      "execution_count": 5,
      "metadata": {
        "colab": {
          "base_uri": "https://localhost:8080/"
        },
        "id": "IPMjgEUiqOKG",
        "outputId": "79fd304b-0f45-4b85-a420-7f7a20a397ff"
      },
      "outputs": [
        {
          "output_type": "stream",
          "name": "stdout",
          "text": [
            "DATA IS LOADED SUCCESSFULLY\n"
          ]
        }
      ],
      "source": [
        "X,Y,music_genres = load_data_from_json(JSON_PATH)"
      ]
    },
    {
      "cell_type": "code",
      "execution_count": 6,
      "metadata": {
        "id": "OIJxgVliqOKH"
      },
      "outputs": [],
      "source": [
        "x_train,x_test, y_train, y_test = train_test_split(X, Y, test_size=0.33,shuffle=True, random_state=59,stratify=Y)"
      ]
    },
    {
      "cell_type": "code",
      "execution_count": 7,
      "metadata": {
        "colab": {
          "base_uri": "https://localhost:8080/"
        },
        "id": "rOnWmeYUqOKH",
        "outputId": "d993fe05-f585-468d-8368-c99cf166e6dc"
      },
      "outputs": [
        {
          "output_type": "stream",
          "name": "stdout",
          "text": [
            "6690 6690 3296 3296\n"
          ]
        }
      ],
      "source": [
        "\n",
        "print(len(x_train),len(y_train),len(x_test),len(y_test))"
      ]
    },
    {
      "cell_type": "code",
      "execution_count": 8,
      "metadata": {
        "colab": {
          "base_uri": "https://localhost:8080/"
        },
        "id": "hmVwoUPBqOKI",
        "outputId": "10ea3c7b-686d-4773-8556-cc9626557a50"
      },
      "outputs": [
        {
          "output_type": "execute_result",
          "data": {
            "text/plain": [
              "((9986, 130, 13), (9986,))"
            ]
          },
          "metadata": {},
          "execution_count": 8
        }
      ],
      "source": [
        "X.shape,Y.shape "
      ]
    },
    {
      "cell_type": "code",
      "execution_count": 9,
      "metadata": {
        "colab": {
          "base_uri": "https://localhost:8080/"
        },
        "id": "7E_0A6TFqOKJ",
        "outputId": "3f1eceb2-7059-4020-c0b6-d6e1326299ea"
      },
      "outputs": [
        {
          "output_type": "execute_result",
          "data": {
            "text/plain": [
              "array([[-2.42435989e+02,  1.02184860e+02, -9.91323471e+00, ...,\n",
              "        -3.95323563e+00, -2.40564466e+00, -2.38090611e+00],\n",
              "       [-2.12989746e+02,  1.03544777e+02, -1.08341732e+01, ...,\n",
              "        -5.81353188e+00,  2.64356732e+00, -2.80662107e+00],\n",
              "       [-1.95409332e+02,  1.04360657e+02, -1.85501546e-01, ...,\n",
              "        -1.08171635e+01, -5.88806152e-01, -5.28410530e+00],\n",
              "       ...,\n",
              "       [-1.24157700e+02,  6.37352219e+01,  2.11729393e+01, ...,\n",
              "        -1.65676613e+01,  1.37965145e+01, -2.31835365e+01],\n",
              "       [-1.11283928e+02,  6.05447235e+01,  1.33710301e+00, ...,\n",
              "        -1.22842140e+01,  1.48256054e+01, -1.58052368e+01],\n",
              "       [-1.31811951e+02,  6.65644531e+01, -7.93185902e+00, ...,\n",
              "        -8.66252136e+00,  1.16732750e+01, -8.72385693e+00]])"
            ]
          },
          "metadata": {},
          "execution_count": 9
        }
      ],
      "source": [
        "X[0]"
      ]
    },
    {
      "cell_type": "code",
      "execution_count": null,
      "metadata": {
        "colab": {
          "base_uri": "https://localhost:8080/"
        },
        "id": "MS008POnqOKJ",
        "outputId": "266415e5-c164-410f-97f7-7bb4bf7290c2"
      },
      "outputs": [
        {
          "data": {
            "text/plain": [
              "0"
            ]
          },
          "execution_count": 10,
          "metadata": {},
          "output_type": "execute_result"
        }
      ],
      "source": [
        "Y[0]"
      ]
    },
    {
      "cell_type": "markdown",
      "metadata": {
        "id": "Z100KFw-qOKK"
      },
      "source": [
        "SIMPLE ANN"
      ]
    },
    {
      "cell_type": "code",
      "execution_count": null,
      "metadata": {
        "id": "F_FjnjqUqOKL"
      },
      "outputs": [],
      "source": [
        "ann_model=keras.models.Sequential([\n",
        "    #input layer\n",
        "    keras.layers.Flatten(input_shape=(X.shape[1], X.shape[2])),\n",
        "    \n",
        "    keras.layers.Dense(512,activation=\"relu\"),\n",
        "    keras.layers.Dropout(0.25),\n",
        "    \n",
        "    keras.layers.Dense(256,activation=\"relu\"),\n",
        "    keras.layers.Dropout(0.25),\n",
        "    keras.layers.Dense(64,activation=\"relu\"),\n",
        "    keras.layers.Dropout(0.25),\n",
        "    keras.layers.Dense(10,activation=\"softmax\")\n",
        "])"
      ]
    },
    {
      "cell_type": "code",
      "execution_count": null,
      "metadata": {
        "id": "58pG9dvNqOKM"
      },
      "outputs": [],
      "source": [
        "optimiser=keras.optimizers.Adam(learning_rate=0.0001)\n",
        "ann_model.compile(loss=keras.losses.sparse_categorical_crossentropy, optimizer=optimiser,metrics=['accuracy'])"
      ]
    },
    {
      "cell_type": "code",
      "execution_count": null,
      "metadata": {
        "colab": {
          "base_uri": "https://localhost:8080/"
        },
        "id": "wq-cFUviqOKN",
        "outputId": "1c038193-bf18-40d7-e53b-2b423a58b8ed"
      },
      "outputs": [
        {
          "name": "stdout",
          "output_type": "stream",
          "text": [
            "Model: \"sequential\"\n",
            "_________________________________________________________________\n",
            " Layer (type)                Output Shape              Param #   \n",
            "=================================================================\n",
            " flatten (Flatten)           (None, 1690)              0         \n",
            "                                                                 \n",
            " dense (Dense)               (None, 512)               865792    \n",
            "                                                                 \n",
            " dropout (Dropout)           (None, 512)               0         \n",
            "                                                                 \n",
            " dense_1 (Dense)             (None, 256)               131328    \n",
            "                                                                 \n",
            " dropout_1 (Dropout)         (None, 256)               0         \n",
            "                                                                 \n",
            " dense_2 (Dense)             (None, 64)                16448     \n",
            "                                                                 \n",
            " dropout_2 (Dropout)         (None, 64)                0         \n",
            "                                                                 \n",
            " dense_3 (Dense)             (None, 10)                650       \n",
            "                                                                 \n",
            "=================================================================\n",
            "Total params: 1,014,218\n",
            "Trainable params: 1,014,218\n",
            "Non-trainable params: 0\n",
            "_________________________________________________________________\n"
          ]
        }
      ],
      "source": [
        "ann_model.summary()"
      ]
    },
    {
      "cell_type": "code",
      "execution_count": null,
      "metadata": {
        "colab": {
          "base_uri": "https://localhost:8080/"
        },
        "id": "IQXwDKIfqOKN",
        "outputId": "ccd6037e-ef36-4e65-e71c-aa90cbf9eb3a"
      },
      "outputs": [
        {
          "name": "stdout",
          "output_type": "stream",
          "text": [
            "Epoch 1/100\n",
            "210/210 [==============================] - 5s 7ms/step - loss: 15.5882 - accuracy: 0.1589 - val_loss: 2.2328 - val_accuracy: 0.2145\n",
            "Epoch 2/100\n",
            "210/210 [==============================] - 1s 6ms/step - loss: 3.9859 - accuracy: 0.1632 - val_loss: 2.2344 - val_accuracy: 0.1690\n",
            "Epoch 3/100\n",
            "210/210 [==============================] - 1s 6ms/step - loss: 2.8061 - accuracy: 0.1393 - val_loss: 2.2890 - val_accuracy: 0.1144\n",
            "Epoch 4/100\n",
            "210/210 [==============================] - 1s 6ms/step - loss: 2.5438 - accuracy: 0.1390 - val_loss: 2.2727 - val_accuracy: 0.1262\n",
            "Epoch 5/100\n",
            "210/210 [==============================] - 1s 6ms/step - loss: 2.4202 - accuracy: 0.1447 - val_loss: 2.2607 - val_accuracy: 0.1296\n",
            "Epoch 6/100\n",
            "210/210 [==============================] - 1s 6ms/step - loss: 2.3682 - accuracy: 0.1466 - val_loss: 2.2526 - val_accuracy: 0.1320\n",
            "Epoch 7/100\n",
            "210/210 [==============================] - 1s 6ms/step - loss: 2.3098 - accuracy: 0.1593 - val_loss: 2.2209 - val_accuracy: 0.1493\n",
            "Epoch 8/100\n",
            "210/210 [==============================] - 1s 6ms/step - loss: 2.3030 - accuracy: 0.1559 - val_loss: 2.2204 - val_accuracy: 0.1471\n",
            "Epoch 9/100\n",
            "210/210 [==============================] - 1s 6ms/step - loss: 2.2746 - accuracy: 0.1619 - val_loss: 2.1947 - val_accuracy: 0.1629\n",
            "Epoch 10/100\n",
            "210/210 [==============================] - 1s 6ms/step - loss: 2.2767 - accuracy: 0.1777 - val_loss: 2.2035 - val_accuracy: 0.1547\n",
            "Epoch 11/100\n",
            "210/210 [==============================] - 1s 6ms/step - loss: 2.2309 - accuracy: 0.1734 - val_loss: 2.1588 - val_accuracy: 0.1814\n",
            "Epoch 12/100\n",
            "210/210 [==============================] - 1s 6ms/step - loss: 2.2121 - accuracy: 0.1859 - val_loss: 2.1342 - val_accuracy: 0.2005\n",
            "Epoch 13/100\n",
            "210/210 [==============================] - 1s 6ms/step - loss: 2.1922 - accuracy: 0.2079 - val_loss: 2.0411 - val_accuracy: 0.2670\n",
            "Epoch 14/100\n",
            "210/210 [==============================] - 1s 6ms/step - loss: 2.1184 - accuracy: 0.2368 - val_loss: 1.9907 - val_accuracy: 0.2837\n",
            "Epoch 15/100\n",
            "210/210 [==============================] - 1s 6ms/step - loss: 2.0945 - accuracy: 0.2550 - val_loss: 2.0331 - val_accuracy: 0.2609\n",
            "Epoch 16/100\n",
            "210/210 [==============================] - 1s 6ms/step - loss: 2.0866 - accuracy: 0.2460 - val_loss: 1.9910 - val_accuracy: 0.2928\n",
            "Epoch 17/100\n",
            "210/210 [==============================] - 1s 6ms/step - loss: 2.0768 - accuracy: 0.2501 - val_loss: 1.9936 - val_accuracy: 0.2688\n",
            "Epoch 18/100\n",
            "210/210 [==============================] - 1s 6ms/step - loss: 2.0542 - accuracy: 0.2549 - val_loss: 1.9739 - val_accuracy: 0.2834\n",
            "Epoch 19/100\n",
            "210/210 [==============================] - 1s 6ms/step - loss: 2.0136 - accuracy: 0.2717 - val_loss: 1.9429 - val_accuracy: 0.2949\n",
            "Epoch 20/100\n",
            "210/210 [==============================] - 1s 6ms/step - loss: 2.0051 - accuracy: 0.2762 - val_loss: 1.9200 - val_accuracy: 0.3231\n",
            "Epoch 21/100\n",
            "210/210 [==============================] - 1s 5ms/step - loss: 2.0065 - accuracy: 0.2767 - val_loss: 1.9575 - val_accuracy: 0.2879\n",
            "Epoch 22/100\n",
            "210/210 [==============================] - 1s 6ms/step - loss: 1.9857 - accuracy: 0.2768 - val_loss: 1.9114 - val_accuracy: 0.3152\n",
            "Epoch 23/100\n",
            "210/210 [==============================] - 1s 6ms/step - loss: 1.9443 - accuracy: 0.2845 - val_loss: 1.8932 - val_accuracy: 0.3213\n",
            "Epoch 24/100\n",
            "210/210 [==============================] - 1s 6ms/step - loss: 1.9556 - accuracy: 0.2877 - val_loss: 1.8526 - val_accuracy: 0.3404\n",
            "Epoch 25/100\n",
            "210/210 [==============================] - 1s 5ms/step - loss: 1.9030 - accuracy: 0.2952 - val_loss: 1.8434 - val_accuracy: 0.3271\n",
            "Epoch 26/100\n",
            "210/210 [==============================] - 1s 5ms/step - loss: 1.9089 - accuracy: 0.2937 - val_loss: 1.8321 - val_accuracy: 0.3383\n",
            "Epoch 27/100\n",
            "210/210 [==============================] - 2s 8ms/step - loss: 1.8933 - accuracy: 0.2991 - val_loss: 1.8374 - val_accuracy: 0.3477\n",
            "Epoch 28/100\n",
            "210/210 [==============================] - 2s 7ms/step - loss: 1.8911 - accuracy: 0.3037 - val_loss: 1.8419 - val_accuracy: 0.3428\n",
            "Epoch 29/100\n",
            "210/210 [==============================] - 1s 5ms/step - loss: 1.8622 - accuracy: 0.3141 - val_loss: 1.8149 - val_accuracy: 0.3419\n",
            "Epoch 30/100\n",
            "210/210 [==============================] - 1s 6ms/step - loss: 1.8595 - accuracy: 0.3087 - val_loss: 1.8225 - val_accuracy: 0.3516\n",
            "Epoch 31/100\n",
            "210/210 [==============================] - 1s 6ms/step - loss: 1.8609 - accuracy: 0.3181 - val_loss: 1.8300 - val_accuracy: 0.3447\n",
            "Epoch 32/100\n",
            "210/210 [==============================] - 1s 6ms/step - loss: 1.8275 - accuracy: 0.3202 - val_loss: 1.8093 - val_accuracy: 0.3504\n",
            "Epoch 33/100\n",
            "210/210 [==============================] - 1s 6ms/step - loss: 1.8357 - accuracy: 0.3139 - val_loss: 1.8151 - val_accuracy: 0.3371\n",
            "Epoch 34/100\n",
            "210/210 [==============================] - 1s 6ms/step - loss: 1.8180 - accuracy: 0.3145 - val_loss: 1.8301 - val_accuracy: 0.3662\n",
            "Epoch 35/100\n",
            "210/210 [==============================] - 1s 6ms/step - loss: 1.7994 - accuracy: 0.3277 - val_loss: 1.7836 - val_accuracy: 0.3595\n",
            "Epoch 36/100\n",
            "210/210 [==============================] - 1s 5ms/step - loss: 1.7728 - accuracy: 0.3288 - val_loss: 1.7723 - val_accuracy: 0.3680\n",
            "Epoch 37/100\n",
            "210/210 [==============================] - 1s 5ms/step - loss: 1.7494 - accuracy: 0.3384 - val_loss: 1.7352 - val_accuracy: 0.3735\n",
            "Epoch 38/100\n",
            "210/210 [==============================] - 1s 6ms/step - loss: 1.7531 - accuracy: 0.3356 - val_loss: 1.7150 - val_accuracy: 0.3635\n",
            "Epoch 39/100\n",
            "210/210 [==============================] - 1s 6ms/step - loss: 1.7428 - accuracy: 0.3335 - val_loss: 1.7404 - val_accuracy: 0.3674\n",
            "Epoch 40/100\n",
            "210/210 [==============================] - 1s 6ms/step - loss: 1.7128 - accuracy: 0.3558 - val_loss: 1.7122 - val_accuracy: 0.3768\n",
            "Epoch 41/100\n",
            "210/210 [==============================] - 1s 6ms/step - loss: 1.6985 - accuracy: 0.3611 - val_loss: 1.6861 - val_accuracy: 0.3938\n",
            "Epoch 42/100\n",
            "210/210 [==============================] - 1s 5ms/step - loss: 1.6940 - accuracy: 0.3628 - val_loss: 1.7347 - val_accuracy: 0.3877\n",
            "Epoch 43/100\n",
            "210/210 [==============================] - 1s 6ms/step - loss: 1.6679 - accuracy: 0.3749 - val_loss: 1.6893 - val_accuracy: 0.4020\n",
            "Epoch 44/100\n",
            "210/210 [==============================] - 1s 6ms/step - loss: 1.6386 - accuracy: 0.3931 - val_loss: 1.6589 - val_accuracy: 0.4084\n",
            "Epoch 45/100\n",
            "210/210 [==============================] - 1s 6ms/step - loss: 1.6124 - accuracy: 0.3854 - val_loss: 1.6325 - val_accuracy: 0.4141\n",
            "Epoch 46/100\n",
            "210/210 [==============================] - 1s 6ms/step - loss: 1.6050 - accuracy: 0.3865 - val_loss: 1.6492 - val_accuracy: 0.4275\n",
            "Epoch 47/100\n",
            "210/210 [==============================] - 1s 6ms/step - loss: 1.5721 - accuracy: 0.4034 - val_loss: 1.6238 - val_accuracy: 0.4360\n",
            "Epoch 48/100\n",
            "210/210 [==============================] - 1s 6ms/step - loss: 1.5742 - accuracy: 0.4152 - val_loss: 1.6440 - val_accuracy: 0.4360\n",
            "Epoch 49/100\n",
            "210/210 [==============================] - 1s 5ms/step - loss: 1.5346 - accuracy: 0.4200 - val_loss: 1.5714 - val_accuracy: 0.4475\n",
            "Epoch 50/100\n",
            "210/210 [==============================] - 1s 6ms/step - loss: 1.5289 - accuracy: 0.4193 - val_loss: 1.5461 - val_accuracy: 0.4609\n",
            "Epoch 51/100\n",
            "210/210 [==============================] - 1s 6ms/step - loss: 1.5105 - accuracy: 0.4297 - val_loss: 1.5670 - val_accuracy: 0.4508\n",
            "Epoch 52/100\n",
            "210/210 [==============================] - 1s 6ms/step - loss: 1.4776 - accuracy: 0.4271 - val_loss: 1.5494 - val_accuracy: 0.4675\n",
            "Epoch 53/100\n",
            "210/210 [==============================] - 1s 6ms/step - loss: 1.4584 - accuracy: 0.4604 - val_loss: 1.5395 - val_accuracy: 0.4745\n",
            "Epoch 54/100\n",
            "210/210 [==============================] - 1s 6ms/step - loss: 1.4349 - accuracy: 0.4513 - val_loss: 1.5370 - val_accuracy: 0.4663\n",
            "Epoch 55/100\n",
            "210/210 [==============================] - 1s 6ms/step - loss: 1.4249 - accuracy: 0.4643 - val_loss: 1.5653 - val_accuracy: 0.4715\n",
            "Epoch 56/100\n",
            "210/210 [==============================] - 1s 6ms/step - loss: 1.3969 - accuracy: 0.4779 - val_loss: 1.5063 - val_accuracy: 0.4842\n",
            "Epoch 57/100\n",
            "210/210 [==============================] - 1s 6ms/step - loss: 1.3837 - accuracy: 0.4747 - val_loss: 1.5277 - val_accuracy: 0.4909\n",
            "Epoch 58/100\n",
            "210/210 [==============================] - 1s 6ms/step - loss: 1.3630 - accuracy: 0.4859 - val_loss: 1.4969 - val_accuracy: 0.5133\n",
            "Epoch 59/100\n",
            "210/210 [==============================] - 1s 6ms/step - loss: 1.3618 - accuracy: 0.4870 - val_loss: 1.5439 - val_accuracy: 0.5055\n",
            "Epoch 60/100\n",
            "210/210 [==============================] - 1s 6ms/step - loss: 1.3152 - accuracy: 0.4963 - val_loss: 1.5193 - val_accuracy: 0.5070\n",
            "Epoch 61/100\n",
            "210/210 [==============================] - 1s 6ms/step - loss: 1.3315 - accuracy: 0.5087 - val_loss: 1.5212 - val_accuracy: 0.5088\n",
            "Epoch 62/100\n",
            "210/210 [==============================] - 1s 6ms/step - loss: 1.2931 - accuracy: 0.5114 - val_loss: 1.4883 - val_accuracy: 0.5115\n",
            "Epoch 63/100\n",
            "210/210 [==============================] - 1s 6ms/step - loss: 1.2799 - accuracy: 0.5244 - val_loss: 1.4485 - val_accuracy: 0.5237\n",
            "Epoch 64/100\n",
            "210/210 [==============================] - 1s 6ms/step - loss: 1.3121 - accuracy: 0.5133 - val_loss: 1.4983 - val_accuracy: 0.5152\n",
            "Epoch 65/100\n",
            "210/210 [==============================] - 1s 6ms/step - loss: 1.2569 - accuracy: 0.5271 - val_loss: 1.4831 - val_accuracy: 0.5218\n",
            "Epoch 66/100\n",
            "210/210 [==============================] - 1s 6ms/step - loss: 1.2399 - accuracy: 0.5330 - val_loss: 1.4645 - val_accuracy: 0.5097\n",
            "Epoch 67/100\n",
            "210/210 [==============================] - 1s 6ms/step - loss: 1.2189 - accuracy: 0.5384 - val_loss: 1.5029 - val_accuracy: 0.5182\n",
            "Epoch 68/100\n",
            "210/210 [==============================] - 1s 6ms/step - loss: 1.1993 - accuracy: 0.5469 - val_loss: 1.4911 - val_accuracy: 0.5361\n",
            "Epoch 69/100\n",
            "210/210 [==============================] - 1s 6ms/step - loss: 1.1911 - accuracy: 0.5537 - val_loss: 1.5232 - val_accuracy: 0.5358\n",
            "Epoch 70/100\n",
            "210/210 [==============================] - 1s 6ms/step - loss: 1.1859 - accuracy: 0.5561 - val_loss: 1.4632 - val_accuracy: 0.5382\n",
            "Epoch 71/100\n",
            "210/210 [==============================] - 1s 6ms/step - loss: 1.1514 - accuracy: 0.5647 - val_loss: 1.5397 - val_accuracy: 0.5328\n",
            "Epoch 72/100\n",
            "210/210 [==============================] - 1s 6ms/step - loss: 1.1490 - accuracy: 0.5640 - val_loss: 1.6033 - val_accuracy: 0.5112\n",
            "Epoch 73/100\n",
            "210/210 [==============================] - 1s 6ms/step - loss: 1.1389 - accuracy: 0.5762 - val_loss: 1.5093 - val_accuracy: 0.5322\n",
            "Epoch 74/100\n",
            "210/210 [==============================] - 1s 6ms/step - loss: 1.1104 - accuracy: 0.5901 - val_loss: 1.4787 - val_accuracy: 0.5331\n",
            "Epoch 75/100\n",
            "210/210 [==============================] - 1s 6ms/step - loss: 1.1051 - accuracy: 0.5859 - val_loss: 1.4830 - val_accuracy: 0.5516\n",
            "Epoch 76/100\n",
            "210/210 [==============================] - 1s 6ms/step - loss: 1.0947 - accuracy: 0.5864 - val_loss: 1.5911 - val_accuracy: 0.5413\n",
            "Epoch 77/100\n",
            "210/210 [==============================] - 1s 6ms/step - loss: 1.0684 - accuracy: 0.5987 - val_loss: 1.5824 - val_accuracy: 0.5410\n",
            "Epoch 78/100\n",
            "210/210 [==============================] - 1s 6ms/step - loss: 1.0518 - accuracy: 0.6067 - val_loss: 1.4995 - val_accuracy: 0.5546\n",
            "Epoch 79/100\n",
            "210/210 [==============================] - 1s 6ms/step - loss: 1.0679 - accuracy: 0.6051 - val_loss: 1.4380 - val_accuracy: 0.5516\n",
            "Epoch 80/100\n",
            "210/210 [==============================] - 1s 6ms/step - loss: 1.0549 - accuracy: 0.6007 - val_loss: 1.5044 - val_accuracy: 0.5449\n",
            "Epoch 81/100\n",
            "210/210 [==============================] - 1s 6ms/step - loss: 1.0195 - accuracy: 0.6175 - val_loss: 1.5670 - val_accuracy: 0.5382\n",
            "Epoch 82/100\n",
            "210/210 [==============================] - 1s 6ms/step - loss: 1.0153 - accuracy: 0.6212 - val_loss: 1.5446 - val_accuracy: 0.5534\n",
            "Epoch 83/100\n",
            "210/210 [==============================] - 1s 6ms/step - loss: 1.0021 - accuracy: 0.6251 - val_loss: 1.5908 - val_accuracy: 0.5476\n",
            "Epoch 84/100\n",
            "210/210 [==============================] - 1s 6ms/step - loss: 1.0069 - accuracy: 0.6274 - val_loss: 1.4531 - val_accuracy: 0.5607\n",
            "Epoch 85/100\n",
            "210/210 [==============================] - 1s 6ms/step - loss: 0.9664 - accuracy: 0.6389 - val_loss: 1.5865 - val_accuracy: 0.5546\n",
            "Epoch 86/100\n",
            "210/210 [==============================] - 1s 6ms/step - loss: 0.9763 - accuracy: 0.6399 - val_loss: 1.6259 - val_accuracy: 0.5628\n",
            "Epoch 87/100\n",
            "210/210 [==============================] - 1s 6ms/step - loss: 0.9419 - accuracy: 0.6475 - val_loss: 1.5581 - val_accuracy: 0.5628\n",
            "Epoch 88/100\n",
            "210/210 [==============================] - 1s 6ms/step - loss: 0.9361 - accuracy: 0.6556 - val_loss: 1.5645 - val_accuracy: 0.5667\n",
            "Epoch 89/100\n",
            "210/210 [==============================] - 1s 6ms/step - loss: 0.9131 - accuracy: 0.6617 - val_loss: 1.6291 - val_accuracy: 0.5631\n",
            "Epoch 90/100\n",
            "210/210 [==============================] - 1s 6ms/step - loss: 0.9110 - accuracy: 0.6613 - val_loss: 1.5955 - val_accuracy: 0.5631\n",
            "Epoch 91/100\n",
            "210/210 [==============================] - 1s 6ms/step - loss: 0.9031 - accuracy: 0.6707 - val_loss: 1.5216 - val_accuracy: 0.5731\n",
            "Epoch 92/100\n",
            "210/210 [==============================] - 1s 6ms/step - loss: 0.8830 - accuracy: 0.6747 - val_loss: 1.5816 - val_accuracy: 0.5586\n",
            "Epoch 93/100\n",
            "210/210 [==============================] - 1s 6ms/step - loss: 0.8857 - accuracy: 0.6755 - val_loss: 1.6226 - val_accuracy: 0.5619\n",
            "Epoch 94/100\n",
            "210/210 [==============================] - 1s 6ms/step - loss: 0.8653 - accuracy: 0.6762 - val_loss: 1.5688 - val_accuracy: 0.5664\n",
            "Epoch 95/100\n",
            "210/210 [==============================] - 1s 6ms/step - loss: 0.8855 - accuracy: 0.6795 - val_loss: 1.6388 - val_accuracy: 0.5725\n",
            "Epoch 96/100\n",
            "210/210 [==============================] - 1s 6ms/step - loss: 0.8679 - accuracy: 0.6843 - val_loss: 1.6999 - val_accuracy: 0.5643\n",
            "Epoch 97/100\n",
            "210/210 [==============================] - 1s 6ms/step - loss: 0.8372 - accuracy: 0.6836 - val_loss: 1.6024 - val_accuracy: 0.5810\n",
            "Epoch 98/100\n",
            "210/210 [==============================] - 1s 6ms/step - loss: 0.8299 - accuracy: 0.6984 - val_loss: 1.7337 - val_accuracy: 0.5695\n",
            "Epoch 99/100\n",
            "210/210 [==============================] - 1s 6ms/step - loss: 0.8185 - accuracy: 0.7087 - val_loss: 1.6942 - val_accuracy: 0.5783\n",
            "Epoch 100/100\n",
            "210/210 [==============================] - 1s 6ms/step - loss: 0.8240 - accuracy: 0.6936 - val_loss: 1.7118 - val_accuracy: 0.5646\n"
          ]
        }
      ],
      "source": [
        "ann_history=ann_model.fit(x_train,y_train,validation_data=(x_test,y_test),batch_size=32,epochs=100,verbose=1)"
      ]
    },
    {
      "cell_type": "code",
      "execution_count": null,
      "metadata": {
        "id": "lE7Bp_W2S5zG"
      },
      "outputs": [],
      "source": [
        "ann_model.save(\"ann_model.h5\")"
      ]
    },
    {
      "cell_type": "code",
      "execution_count": 21,
      "metadata": {
        "id": "L1FBESoPqOKO"
      },
      "outputs": [],
      "source": [
        "def plot_accuracy_error(history):\n",
        "    fig,axis=plt.subplots(2)\n",
        "    \n",
        "    fig.set_size_inches(10,8)\n",
        "    axis[0].plot(history.history[\"accuracy\"],label=\"train_accuracy\")\n",
        "    axis[0].plot(history.history[\"val_accuracy\"],label=\"val_accuracy\")\n",
        "    axis[0].set_ylabel(\"Accuracy\")\n",
        "    axis[0].legend(loc=\"lower right\")\n",
        "    axis[0].set_title(\"Accuracy eval\")\n",
        "   \n",
        "   \n",
        "   \n",
        "    axis[1].plot(history.history[\"loss\"],label=\"train_error\")\n",
        "    axis[1].plot(history.history[\"val_loss\"],label=\"val_error\")\n",
        "    axis[1].set_ylabel(\"Error\")\n",
        "    axis[1].set_xlabel(\"Epoch\")\n",
        "    axis[1].legend(loc=\"upper right\")\n",
        "    axis[1].set_title(\"Error eval\")\n",
        "    \n",
        "    plt.show()    \n",
        "       "
      ]
    },
    {
      "cell_type": "code",
      "execution_count": null,
      "metadata": {
        "colab": {
          "base_uri": "https://localhost:8080/",
          "height": 513
        },
        "id": "EVxR_vzAqOKO",
        "outputId": "880a5901-3574-4493-8c5e-cd1568f00d7a"
      },
      "outputs": [
        {
          "data": {
            "image/png": "[encoded data removed]",
            "text/plain": [
              "<Figure size 720x576 with 2 Axes>"
            ]
          },
          "metadata": {
            "needs_background": "light"
          },
          "output_type": "display_data"
        }
      ],
      "source": [
        "plot_accuracy_error(ann_history)"
      ]
    },
    {
      "cell_type": "markdown",
      "metadata": {
        "id": "dQ9cV2Z_qOKP"
      },
      "source": [
        "CREATING CNN MODEL"
      ]
    },
    {
      "cell_type": "code",
      "execution_count": 10,
      "metadata": {
        "id": "6nw793qUqOKP"
      },
      "outputs": [],
      "source": [
        "X=X.reshape(-1,X.shape[1],X.shape[2],1)\n",
        "Y=Y.reshape(-1,1)"
      ]
    },
    {
      "cell_type": "code",
      "execution_count": 11,
      "metadata": {
        "colab": {
          "base_uri": "https://localhost:8080/"
        },
        "id": "FLD__xT9qOKP",
        "outputId": "d1a3309e-2c53-4bdf-cf8e-4836ec49e286"
      },
      "outputs": [
        {
          "output_type": "execute_result",
          "data": {
            "text/plain": [
              "((9986, 130, 13, 1), (9986, 1))"
            ]
          },
          "metadata": {},
          "execution_count": 11
        }
      ],
      "source": [
        "X.shape,Y.shape"
      ]
    },
    {
      "cell_type": "code",
      "execution_count": 12,
      "metadata": {
        "id": "Iu1N8JUHqOKQ"
      },
      "outputs": [],
      "source": [
        "cnn_x_train,cnn_x_test_,cnn_y_train,cnn_y_test_ = train_test_split(X,Y,random_state=56,shuffle=True,stratify=Y,test_size=0.4)\n",
        "cnn_x_val,cnn_x_test,cnn_y_val,cnn_y_test = train_test_split(cnn_x_test_,cnn_y_test_,random_state=89,shuffle=True,stratify=cnn_y_test_,test_size=0.33)"
      ]
    },
    {
      "cell_type": "code",
      "execution_count": 13,
      "metadata": {
        "colab": {
          "base_uri": "https://localhost:8080/"
        },
        "id": "MwMVHj-SqOKQ",
        "outputId": "c909090a-660f-40b7-ee29-889847594807"
      },
      "outputs": [
        {
          "output_type": "execute_result",
          "data": {
            "text/plain": [
              "((3995, 1), (3995, 130, 13, 1))"
            ]
          },
          "metadata": {},
          "execution_count": 13
        }
      ],
      "source": [
        "cnn_y_test_.shape,cnn_x_test_.shape"
      ]
    },
    {
      "cell_type": "code",
      "source": [
        "cnn_x_train.shape,cnn_y_train.shape"
      ],
      "metadata": {
        "colab": {
          "base_uri": "https://localhost:8080/"
        },
        "id": "vKAnTkDim9qY",
        "outputId": "7a61bdb5-76f2-43a1-9192-03e76c9b2493"
      },
      "execution_count": 34,
      "outputs": [
        {
          "output_type": "execute_result",
          "data": {
            "text/plain": [
              "((5991, 130, 13, 1), (5991, 1))"
            ]
          },
          "metadata": {},
          "execution_count": 34
        }
      ]
    },
    {
      "cell_type": "code",
      "source": [
        "cnn_x_val.shape,cnn_y_val.shape"
      ],
      "metadata": {
        "colab": {
          "base_uri": "https://localhost:8080/"
        },
        "id": "nSxlj9WVnI6i",
        "outputId": "c07e6ebe-e3d0-41c6-9a94-005c85ec3892"
      },
      "execution_count": 35,
      "outputs": [
        {
          "output_type": "execute_result",
          "data": {
            "text/plain": [
              "((2676, 130, 13, 1), (2676, 1))"
            ]
          },
          "metadata": {},
          "execution_count": 35
        }
      ]
    },
    {
      "cell_type": "code",
      "execution_count": 14,
      "metadata": {
        "colab": {
          "base_uri": "https://localhost:8080/"
        },
        "id": "ZV1wRz2wqOKQ",
        "outputId": "b656c7ea-7265-418f-9db3-9a484b486a69"
      },
      "outputs": [
        {
          "output_type": "execute_result",
          "data": {
            "text/plain": [
              "(9986, 130, 13)"
            ]
          },
          "metadata": {},
          "execution_count": 14
        }
      ],
      "source": [
        "X.shape[0],X.shape[1],X.shape[2] "
      ]
    },
    {
      "cell_type": "code",
      "execution_count": 15,
      "metadata": {
        "id": "QjHV1kuxqOKR"
      },
      "outputs": [],
      "source": [
        "keras.backend.set_image_data_format('channels_last')\n"
      ]
    },
    {
      "cell_type": "code",
      "execution_count": 16,
      "metadata": {
        "colab": {
          "base_uri": "https://localhost:8080/"
        },
        "id": "BMB6AQU_qOKR",
        "outputId": "4d082b68-7586-4d70-8b64-b56c8f1617d3"
      },
      "outputs": [
        {
          "output_type": "execute_result",
          "data": {
            "text/plain": [
              "(130, 13, 1)"
            ]
          },
          "metadata": {},
          "execution_count": 16
        }
      ],
      "source": [
        "input_shape=(X.shape[1],X.shape[2],1)\n",
        "input_shape"
      ]
    },
    {
      "cell_type": "code",
      "execution_count": 17,
      "metadata": {
        "id": "4Xqg10IvqOKR"
      },
      "outputs": [],
      "source": [
        "def create_model():\n",
        "        # build network topology\n",
        "    cnn_model=keras.models.Sequential()\n",
        "    # 1st conv layer\n",
        "    cnn_model.add(keras.layers.Conv2D(64,(3,3),activation='relu',input_shape=input_shape))\n",
        "    cnn_model.add(keras.layers.MaxPooling2D((2,4),strides=(2,2),padding=\"same\",))\n",
        "    cnn_model.add(keras.layers.BatchNormalization())\n",
        "      \n",
        "    # 2nd conv layer\n",
        "    cnn_model.add(keras.layers.Conv2D(128,(2,2),activation='relu'))\n",
        "    cnn_model.add(keras.layers.MaxPooling2D((2,4),strides=(2,2),padding=\"same\")),\n",
        "    cnn_model.add(keras.layers.BatchNormalization())\n",
        "   \n",
        "    cnn_model.add(keras.layers.Dropout(0.4))\n",
        "    \n",
        "    # 3rd conv layer\n",
        "    cnn_model.add(keras.layers.Conv2D(64,(2,2),activation='relu'))\n",
        "    cnn_model.add(keras.layers.MaxPooling2D((2,2),strides=(2,2),padding=\"same\")),\n",
        "    cnn_model.add(keras.layers.BatchNormalization())      \n",
        " \n",
        "    \n",
        "    cnn_model.add(keras.layers.Dropout(0.2))\n",
        "    \n",
        "    \n",
        "    # flatten output and feed it into dense layer            \n",
        "    cnn_model.add( keras.layers.Flatten())\n",
        "    \n",
        "    #1st Dense Layer\n",
        "    cnn_model.add(keras.layers.Dense(512,activation='relu',kernel_regularizer=keras.regularizers.l2(0.1)))\n",
        "    cnn_model.add(keras.layers.Dropout(0.5))\n",
        "    \n",
        "    #2nd Dense Layer\n",
        "    cnn_model.add(keras.layers.Dense(128,activation='relu',kernel_regularizer=keras.regularizers.l2(0.1)))\n",
        "    cnn_model.add(keras.layers.Dropout(0.4))\n",
        "    \n",
        "    #Output Layer\n",
        "    cnn_model.add(keras.layers.Dense(10,activation='softmax'))\n",
        "\n",
        "    cnn_optimiser=keras.optimizers.Adam(learning_rate=0.0005)\n",
        "\n",
        "    cnn_model.compile(loss=keras.losses.sparse_categorical_crossentropy,optimizer=cnn_optimiser,metrics=['accuracy'])   \n",
        "    return cnn_model\n",
        "     "
      ]
    },
    {
      "cell_type": "code",
      "execution_count": 18,
      "metadata": {
        "colab": {
          "base_uri": "https://localhost:8080/"
        },
        "id": "SNfoftX7qOKS",
        "outputId": "93676a6f-26e3-49d1-da05-d0a0447df48d"
      },
      "outputs": [
        {
          "output_type": "stream",
          "name": "stdout",
          "text": [
            "Model: \"sequential\"\n",
            "_________________________________________________________________\n",
            " Layer (type)                Output Shape              Param #   \n",
            "=================================================================\n",
            " conv2d (Conv2D)             (None, 128, 11, 64)       640       \n",
            "                                                                 \n",
            " max_pooling2d (MaxPooling2D  (None, 64, 6, 64)        0         \n",
            " )                                                               \n",
            "                                                                 \n",
            " batch_normalization (BatchN  (None, 64, 6, 64)        256       \n",
            " ormalization)                                                   \n",
            "                                                                 \n",
            " conv2d_1 (Conv2D)           (None, 63, 5, 128)        32896     \n",
            "                                                                 \n",
            " max_pooling2d_1 (MaxPooling  (None, 32, 3, 128)       0         \n",
            " 2D)                                                             \n",
            "                                                                 \n",
            " batch_normalization_1 (Batc  (None, 32, 3, 128)       512       \n",
            " hNormalization)                                                 \n",
            "                                                                 \n",
            " dropout (Dropout)           (None, 32, 3, 128)        0         \n",
            "                                                                 \n",
            " conv2d_2 (Conv2D)           (None, 31, 2, 64)         32832     \n",
            "                                                                 \n",
            " max_pooling2d_2 (MaxPooling  (None, 16, 1, 64)        0         \n",
            " 2D)                                                             \n",
            "                                                                 \n",
            " batch_normalization_2 (Batc  (None, 16, 1, 64)        256       \n",
            " hNormalization)                                                 \n",
            "                                                                 \n",
            " dropout_1 (Dropout)         (None, 16, 1, 64)         0         \n",
            "                                                                 \n",
            " flatten (Flatten)           (None, 1024)              0         \n",
            "                                                                 \n",
            " dense (Dense)               (None, 512)               524800    \n",
            "                                                                 \n",
            " dropout_2 (Dropout)         (None, 512)               0         \n",
            "                                                                 \n",
            " dense_1 (Dense)             (None, 128)               65664     \n",
            "                                                                 \n",
            " dropout_3 (Dropout)         (None, 128)               0         \n",
            "                                                                 \n",
            " dense_2 (Dense)             (None, 10)                1290      \n",
            "                                                                 \n",
            "=================================================================\n",
            "Total params: 659,146\n",
            "Trainable params: 658,634\n",
            "Non-trainable params: 512\n",
            "_________________________________________________________________\n"
          ]
        }
      ],
      "source": [
        "cnn_model=create_model()\n",
        "cnn_model.summary()"
      ]
    },
    {
      "cell_type": "code",
      "execution_count": 19,
      "metadata": {
        "colab": {
          "base_uri": "https://localhost:8080/"
        },
        "id": "i10WXlItqOKS",
        "outputId": "3c6639c8-2264-48ab-97b6-a4e99090c882"
      },
      "outputs": [
        {
          "output_type": "stream",
          "name": "stdout",
          "text": [
            "Epoch 1/250\n",
            "188/188 [==============================] - 15s 17ms/step - loss: 35.9930 - accuracy: 0.3191 - val_loss: 7.9327 - val_accuracy: 0.4208\n",
            "Epoch 2/250\n",
            "188/188 [==============================] - 2s 13ms/step - loss: 3.7237 - accuracy: 0.4697 - val_loss: 2.1361 - val_accuracy: 0.4828\n",
            "Epoch 3/250\n",
            "188/188 [==============================] - 3s 14ms/step - loss: 1.8571 - accuracy: 0.5034 - val_loss: 1.7489 - val_accuracy: 0.5269\n",
            "Epoch 4/250\n",
            "188/188 [==============================] - 3s 14ms/step - loss: 1.7133 - accuracy: 0.5368 - val_loss: 1.7638 - val_accuracy: 0.5116\n",
            "Epoch 5/250\n",
            "188/188 [==============================] - 2s 12ms/step - loss: 1.6817 - accuracy: 0.5545 - val_loss: 1.5737 - val_accuracy: 0.6252\n",
            "Epoch 6/250\n",
            "188/188 [==============================] - 2s 12ms/step - loss: 1.6409 - accuracy: 0.5770 - val_loss: 1.6085 - val_accuracy: 0.5859\n",
            "Epoch 7/250\n",
            "188/188 [==============================] - 2s 12ms/step - loss: 1.6212 - accuracy: 0.5976 - val_loss: 1.7411 - val_accuracy: 0.5377\n",
            "Epoch 8/250\n",
            "188/188 [==============================] - 2s 13ms/step - loss: 1.5993 - accuracy: 0.6104 - val_loss: 1.6034 - val_accuracy: 0.5904\n",
            "Epoch 9/250\n",
            "188/188 [==============================] - 2s 13ms/step - loss: 1.5518 - accuracy: 0.6333 - val_loss: 1.6676 - val_accuracy: 0.5643\n",
            "Epoch 10/250\n",
            "188/188 [==============================] - 3s 14ms/step - loss: 1.5223 - accuracy: 0.6430 - val_loss: 1.5241 - val_accuracy: 0.6439\n",
            "Epoch 11/250\n",
            "188/188 [==============================] - 2s 13ms/step - loss: 1.5462 - accuracy: 0.6375 - val_loss: 1.4731 - val_accuracy: 0.6573\n",
            "Epoch 12/250\n",
            "188/188 [==============================] - 3s 14ms/step - loss: 1.5086 - accuracy: 0.6583 - val_loss: 1.4630 - val_accuracy: 0.6577\n",
            "Epoch 13/250\n",
            "188/188 [==============================] - 3s 14ms/step - loss: 1.4940 - accuracy: 0.6660 - val_loss: 1.4530 - val_accuracy: 0.6906\n",
            "Epoch 14/250\n",
            "188/188 [==============================] - 2s 13ms/step - loss: 1.4798 - accuracy: 0.6777 - val_loss: 1.4103 - val_accuracy: 0.6872\n",
            "Epoch 15/250\n",
            "188/188 [==============================] - 3s 14ms/step - loss: 1.4607 - accuracy: 0.6832 - val_loss: 1.4470 - val_accuracy: 0.6693\n",
            "Epoch 16/250\n",
            "188/188 [==============================] - 3s 14ms/step - loss: 1.4127 - accuracy: 0.6940 - val_loss: 1.3731 - val_accuracy: 0.7134\n",
            "Epoch 17/250\n",
            "188/188 [==============================] - 2s 13ms/step - loss: 1.3985 - accuracy: 0.7071 - val_loss: 1.3380 - val_accuracy: 0.7126\n",
            "Epoch 18/250\n",
            "188/188 [==============================] - 2s 13ms/step - loss: 1.4124 - accuracy: 0.7022 - val_loss: 1.4423 - val_accuracy: 0.6827\n",
            "Epoch 19/250\n",
            "188/188 [==============================] - 2s 13ms/step - loss: 1.3636 - accuracy: 0.7137 - val_loss: 1.3058 - val_accuracy: 0.7373\n",
            "Epoch 20/250\n",
            "188/188 [==============================] - 2s 13ms/step - loss: 1.3192 - accuracy: 0.7326 - val_loss: 1.4541 - val_accuracy: 0.6700\n",
            "Epoch 21/250\n",
            "188/188 [==============================] - 2s 13ms/step - loss: 1.3421 - accuracy: 0.7304 - val_loss: 1.2787 - val_accuracy: 0.7440\n",
            "Epoch 22/250\n",
            "188/188 [==============================] - 3s 14ms/step - loss: 1.3504 - accuracy: 0.7248 - val_loss: 1.3815 - val_accuracy: 0.7216\n",
            "Epoch 23/250\n",
            "188/188 [==============================] - 3s 14ms/step - loss: 1.3478 - accuracy: 0.7288 - val_loss: 1.3279 - val_accuracy: 0.7485\n",
            "Epoch 24/250\n",
            "188/188 [==============================] - 2s 13ms/step - loss: 1.3163 - accuracy: 0.7408 - val_loss: 1.2975 - val_accuracy: 0.7324\n",
            "Epoch 25/250\n",
            "188/188 [==============================] - 2s 13ms/step - loss: 1.2964 - accuracy: 0.7548 - val_loss: 1.2324 - val_accuracy: 0.7556\n",
            "Epoch 26/250\n",
            "188/188 [==============================] - 3s 14ms/step - loss: 1.2626 - accuracy: 0.7503 - val_loss: 1.2316 - val_accuracy: 0.7593\n",
            "Epoch 27/250\n",
            "188/188 [==============================] - 2s 13ms/step - loss: 1.2726 - accuracy: 0.7513 - val_loss: 1.3409 - val_accuracy: 0.7250\n",
            "Epoch 28/250\n",
            "188/188 [==============================] - 3s 13ms/step - loss: 1.2661 - accuracy: 0.7520 - val_loss: 1.3182 - val_accuracy: 0.7328\n",
            "Epoch 29/250\n",
            "188/188 [==============================] - 3s 14ms/step - loss: 1.2627 - accuracy: 0.7596 - val_loss: 1.2671 - val_accuracy: 0.7500\n",
            "Epoch 30/250\n",
            "188/188 [==============================] - 2s 13ms/step - loss: 1.2550 - accuracy: 0.7633 - val_loss: 1.2108 - val_accuracy: 0.7698\n",
            "Epoch 31/250\n",
            "188/188 [==============================] - 3s 14ms/step - loss: 1.2233 - accuracy: 0.7708 - val_loss: 1.1941 - val_accuracy: 0.7795\n",
            "Epoch 32/250\n",
            "188/188 [==============================] - 3s 14ms/step - loss: 1.2250 - accuracy: 0.7655 - val_loss: 1.1624 - val_accuracy: 0.7904\n",
            "Epoch 33/250\n",
            "188/188 [==============================] - 2s 13ms/step - loss: 1.2063 - accuracy: 0.7777 - val_loss: 1.2204 - val_accuracy: 0.7724\n",
            "Epoch 34/250\n",
            "188/188 [==============================] - 3s 14ms/step - loss: 1.2084 - accuracy: 0.7805 - val_loss: 1.2692 - val_accuracy: 0.7627\n",
            "Epoch 35/250\n",
            "188/188 [==============================] - 2s 13ms/step - loss: 1.1921 - accuracy: 0.7727 - val_loss: 1.3273 - val_accuracy: 0.7205\n",
            "Epoch 36/250\n",
            "188/188 [==============================] - 2s 13ms/step - loss: 1.2078 - accuracy: 0.7758 - val_loss: 1.2031 - val_accuracy: 0.7649\n",
            "Epoch 37/250\n",
            "188/188 [==============================] - 2s 13ms/step - loss: 1.1924 - accuracy: 0.7798 - val_loss: 1.2007 - val_accuracy: 0.7728\n",
            "Epoch 38/250\n",
            "188/188 [==============================] - 2s 13ms/step - loss: 1.1370 - accuracy: 0.7922 - val_loss: 1.2467 - val_accuracy: 0.7649\n",
            "Epoch 39/250\n",
            "188/188 [==============================] - 2s 13ms/step - loss: 1.1271 - accuracy: 0.7994 - val_loss: 1.1756 - val_accuracy: 0.7881\n",
            "Epoch 40/250\n",
            "188/188 [==============================] - 3s 14ms/step - loss: 1.1787 - accuracy: 0.7944 - val_loss: 1.3356 - val_accuracy: 0.7328\n",
            "Epoch 41/250\n",
            "188/188 [==============================] - 3s 14ms/step - loss: 1.1112 - accuracy: 0.7990 - val_loss: 1.1700 - val_accuracy: 0.7777\n",
            "Epoch 42/250\n",
            "188/188 [==============================] - 3s 14ms/step - loss: 1.1874 - accuracy: 0.7895 - val_loss: 1.2587 - val_accuracy: 0.7526\n",
            "Epoch 43/250\n",
            "188/188 [==============================] - 2s 13ms/step - loss: 1.1538 - accuracy: 0.7967 - val_loss: 1.1034 - val_accuracy: 0.8057\n",
            "Epoch 44/250\n",
            "188/188 [==============================] - 3s 14ms/step - loss: 1.1238 - accuracy: 0.8009 - val_loss: 1.2376 - val_accuracy: 0.7541\n",
            "Epoch 45/250\n",
            "188/188 [==============================] - 2s 13ms/step - loss: 1.1224 - accuracy: 0.8055 - val_loss: 1.1043 - val_accuracy: 0.8090\n",
            "Epoch 46/250\n",
            "188/188 [==============================] - 2s 13ms/step - loss: 1.1296 - accuracy: 0.8059 - val_loss: 1.2104 - val_accuracy: 0.7777\n",
            "Epoch 47/250\n",
            "188/188 [==============================] - 2s 13ms/step - loss: 1.1119 - accuracy: 0.8054 - val_loss: 1.2239 - val_accuracy: 0.7541\n",
            "Epoch 48/250\n",
            "188/188 [==============================] - 3s 14ms/step - loss: 1.1170 - accuracy: 0.8057 - val_loss: 1.0826 - val_accuracy: 0.8195\n",
            "Epoch 49/250\n",
            "188/188 [==============================] - 3s 14ms/step - loss: 1.0685 - accuracy: 0.8164 - val_loss: 1.0721 - val_accuracy: 0.8139\n",
            "Epoch 50/250\n",
            "188/188 [==============================] - 2s 13ms/step - loss: 1.1889 - accuracy: 0.7952 - val_loss: 1.1372 - val_accuracy: 0.8031\n",
            "Epoch 51/250\n",
            "188/188 [==============================] - 2s 13ms/step - loss: 1.1033 - accuracy: 0.8095 - val_loss: 1.1107 - val_accuracy: 0.8016\n",
            "Epoch 52/250\n",
            "188/188 [==============================] - 3s 14ms/step - loss: 1.0661 - accuracy: 0.8206 - val_loss: 1.0858 - val_accuracy: 0.8165\n",
            "Epoch 53/250\n",
            "188/188 [==============================] - 3s 14ms/step - loss: 1.0818 - accuracy: 0.8157 - val_loss: 1.2445 - val_accuracy: 0.7571\n",
            "Epoch 54/250\n",
            "188/188 [==============================] - 3s 14ms/step - loss: 1.1064 - accuracy: 0.8154 - val_loss: 1.1223 - val_accuracy: 0.8068\n",
            "Epoch 55/250\n",
            "188/188 [==============================] - 2s 13ms/step - loss: 1.0798 - accuracy: 0.8161 - val_loss: 1.1288 - val_accuracy: 0.7930\n",
            "Epoch 56/250\n",
            "188/188 [==============================] - 2s 13ms/step - loss: 1.0572 - accuracy: 0.8252 - val_loss: 1.1103 - val_accuracy: 0.8150\n",
            "Epoch 57/250\n",
            "188/188 [==============================] - 3s 14ms/step - loss: 1.0498 - accuracy: 0.8271 - val_loss: 1.2107 - val_accuracy: 0.7672\n",
            "Epoch 58/250\n",
            "188/188 [==============================] - 3s 14ms/step - loss: 1.0566 - accuracy: 0.8236 - val_loss: 1.1133 - val_accuracy: 0.8124\n",
            "Epoch 59/250\n",
            "188/188 [==============================] - 2s 13ms/step - loss: 1.0603 - accuracy: 0.8281 - val_loss: 1.0417 - val_accuracy: 0.8341\n",
            "Epoch 60/250\n",
            "188/188 [==============================] - 3s 14ms/step - loss: 1.0662 - accuracy: 0.8214 - val_loss: 1.0979 - val_accuracy: 0.8221\n",
            "Epoch 61/250\n",
            "188/188 [==============================] - 3s 14ms/step - loss: 1.0263 - accuracy: 0.8358 - val_loss: 1.0420 - val_accuracy: 0.8311\n",
            "Epoch 62/250\n",
            "188/188 [==============================] - 2s 13ms/step - loss: 1.0994 - accuracy: 0.8212 - val_loss: 1.0620 - val_accuracy: 0.8303\n",
            "Epoch 63/250\n",
            "188/188 [==============================] - 3s 14ms/step - loss: 1.0683 - accuracy: 0.8309 - val_loss: 1.0601 - val_accuracy: 0.8270\n",
            "Epoch 64/250\n",
            "188/188 [==============================] - 3s 14ms/step - loss: 1.0242 - accuracy: 0.8418 - val_loss: 1.1215 - val_accuracy: 0.8132\n",
            "Epoch 65/250\n",
            "188/188 [==============================] - 3s 14ms/step - loss: 1.0356 - accuracy: 0.8329 - val_loss: 1.0686 - val_accuracy: 0.8217\n",
            "Epoch 66/250\n",
            "188/188 [==============================] - 2s 13ms/step - loss: 1.0048 - accuracy: 0.8441 - val_loss: 1.0917 - val_accuracy: 0.8049\n",
            "Epoch 67/250\n",
            "188/188 [==============================] - 2s 13ms/step - loss: 0.9950 - accuracy: 0.8409 - val_loss: 1.0623 - val_accuracy: 0.8300\n",
            "Epoch 68/250\n",
            "188/188 [==============================] - 2s 13ms/step - loss: 1.0082 - accuracy: 0.8426 - val_loss: 1.2412 - val_accuracy: 0.7750\n",
            "Epoch 70/250\n",
            "188/188 [==============================] - 3s 14ms/step - loss: 1.0092 - accuracy: 0.8469 - val_loss: 1.0610 - val_accuracy: 0.8236\n",
            "Epoch 71/250\n",
            "188/188 [==============================] - 2s 13ms/step - loss: 1.0594 - accuracy: 0.8394 - val_loss: 1.2641 - val_accuracy: 0.7627\n",
            "Epoch 72/250\n",
            "188/188 [==============================] - 2s 13ms/step - loss: 1.0146 - accuracy: 0.8461 - val_loss: 0.9986 - val_accuracy: 0.8389\n",
            "Epoch 73/250\n",
            "188/188 [==============================] - 2s 13ms/step - loss: 0.9884 - accuracy: 0.8476 - val_loss: 1.1262 - val_accuracy: 0.8135\n",
            "Epoch 74/250\n",
            "188/188 [==============================] - 2s 13ms/step - loss: 0.9943 - accuracy: 0.8484 - val_loss: 1.0572 - val_accuracy: 0.8285\n",
            "Epoch 75/250\n",
            "188/188 [==============================] - 3s 14ms/step - loss: 1.0104 - accuracy: 0.8479 - val_loss: 1.0430 - val_accuracy: 0.8479\n",
            "Epoch 76/250\n",
            "188/188 [==============================] - 3s 14ms/step - loss: 1.0217 - accuracy: 0.8416 - val_loss: 1.2091 - val_accuracy: 0.7836\n",
            "Epoch 77/250\n",
            "188/188 [==============================] - 2s 13ms/step - loss: 1.0476 - accuracy: 0.8484 - val_loss: 1.0948 - val_accuracy: 0.8173\n",
            "Epoch 78/250\n",
            "188/188 [==============================] - 2s 13ms/step - loss: 1.0050 - accuracy: 0.8448 - val_loss: 1.0920 - val_accuracy: 0.8270\n",
            "Epoch 79/250\n",
            "188/188 [==============================] - 3s 14ms/step - loss: 1.0469 - accuracy: 0.8413 - val_loss: 1.2053 - val_accuracy: 0.7821\n",
            "Epoch 80/250\n",
            "188/188 [==============================] - 2s 13ms/step - loss: 1.0070 - accuracy: 0.8473 - val_loss: 1.1255 - val_accuracy: 0.8079\n",
            "Epoch 81/250\n",
            "188/188 [==============================] - 3s 14ms/step - loss: 0.9867 - accuracy: 0.8498 - val_loss: 1.0489 - val_accuracy: 0.8180\n",
            "Epoch 82/250\n",
            "188/188 [==============================] - 2s 13ms/step - loss: 0.9970 - accuracy: 0.8526 - val_loss: 1.0580 - val_accuracy: 0.8356\n",
            "Epoch 83/250\n",
            "188/188 [==============================] - 2s 13ms/step - loss: 1.0354 - accuracy: 0.8478 - val_loss: 1.0761 - val_accuracy: 0.8165\n",
            "Epoch 84/250\n",
            "188/188 [==============================] - 2s 13ms/step - loss: 0.9941 - accuracy: 0.8548 - val_loss: 1.1497 - val_accuracy: 0.8105\n",
            "Epoch 85/250\n",
            "188/188 [==============================] - 3s 14ms/step - loss: 0.9738 - accuracy: 0.8544 - val_loss: 1.0767 - val_accuracy: 0.8199\n",
            "Epoch 86/250\n",
            "188/188 [==============================] - 2s 13ms/step - loss: 0.9782 - accuracy: 0.8511 - val_loss: 1.0953 - val_accuracy: 0.8199\n",
            "Epoch 87/250\n",
            "188/188 [==============================] - 2s 13ms/step - loss: 0.9584 - accuracy: 0.8583 - val_loss: 1.0619 - val_accuracy: 0.8229\n",
            "Epoch 88/250\n",
            "188/188 [==============================] - 3s 14ms/step - loss: 0.9589 - accuracy: 0.8601 - val_loss: 1.0979 - val_accuracy: 0.8102\n",
            "Epoch 89/250\n",
            "188/188 [==============================] - 3s 14ms/step - loss: 0.9550 - accuracy: 0.8626 - val_loss: 1.0260 - val_accuracy: 0.8479\n",
            "Epoch 90/250\n",
            "188/188 [==============================] - 3s 14ms/step - loss: 0.9715 - accuracy: 0.8556 - val_loss: 1.0124 - val_accuracy: 0.8483\n",
            "Epoch 91/250\n",
            "188/188 [==============================] - 2s 13ms/step - loss: 0.9675 - accuracy: 0.8625 - val_loss: 1.0210 - val_accuracy: 0.8408\n",
            "Epoch 92/250\n",
            "188/188 [==============================] - 3s 14ms/step - loss: 0.9451 - accuracy: 0.8616 - val_loss: 1.0138 - val_accuracy: 0.8393\n",
            "Epoch 93/250\n",
            "188/188 [==============================] - 2s 13ms/step - loss: 0.9741 - accuracy: 0.8626 - val_loss: 1.0095 - val_accuracy: 0.8378\n",
            "Epoch 94/250\n",
            "188/188 [==============================] - 2s 13ms/step - loss: 0.9972 - accuracy: 0.8541 - val_loss: 1.0809 - val_accuracy: 0.8244\n",
            "Epoch 95/250\n",
            "188/188 [==============================] - 3s 14ms/step - loss: 0.9660 - accuracy: 0.8603 - val_loss: 1.0274 - val_accuracy: 0.8479\n",
            "Epoch 96/250\n",
            "188/188 [==============================] - 2s 13ms/step - loss: 0.9375 - accuracy: 0.8663 - val_loss: 1.1177 - val_accuracy: 0.8135\n",
            "Epoch 97/250\n",
            "188/188 [==============================] - 2s 13ms/step - loss: 0.9601 - accuracy: 0.8640 - val_loss: 1.2257 - val_accuracy: 0.7743\n",
            "Epoch 98/250\n",
            "188/188 [==============================] - 3s 14ms/step - loss: 0.9616 - accuracy: 0.8571 - val_loss: 1.0449 - val_accuracy: 0.8382\n",
            "Epoch 99/250\n",
            "188/188 [==============================] - 3s 14ms/step - loss: 0.9622 - accuracy: 0.8643 - val_loss: 1.0877 - val_accuracy: 0.8143\n",
            "Epoch 100/250\n",
            "188/188 [==============================] - 3s 14ms/step - loss: 1.0383 - accuracy: 0.8489 - val_loss: 1.0757 - val_accuracy: 0.8307\n",
            "Epoch 101/250\n",
            "188/188 [==============================] - 3s 15ms/step - loss: 0.9166 - accuracy: 0.8743 - val_loss: 0.9892 - val_accuracy: 0.8371\n",
            "Epoch 102/250\n",
            "188/188 [==============================] - 2s 13ms/step - loss: 0.8932 - accuracy: 0.8745 - val_loss: 1.0149 - val_accuracy: 0.8378\n",
            "Epoch 103/250\n",
            "188/188 [==============================] - 3s 14ms/step - loss: 0.9463 - accuracy: 0.8658 - val_loss: 1.0423 - val_accuracy: 0.8401\n",
            "Epoch 104/250\n",
            "188/188 [==============================] - 2s 13ms/step - loss: 0.9604 - accuracy: 0.8616 - val_loss: 1.0953 - val_accuracy: 0.8266\n",
            "Epoch 105/250\n",
            "188/188 [==============================] - 3s 14ms/step - loss: 0.9961 - accuracy: 0.8663 - val_loss: 1.0752 - val_accuracy: 0.8367\n",
            "Epoch 106/250\n",
            "188/188 [==============================] - 2s 13ms/step - loss: 0.9935 - accuracy: 0.8696 - val_loss: 0.9978 - val_accuracy: 0.8539\n",
            "Epoch 107/250\n",
            "188/188 [==============================] - 2s 13ms/step - loss: 0.9273 - accuracy: 0.8716 - val_loss: 1.0450 - val_accuracy: 0.8311\n",
            "Epoch 108/250\n",
            "188/188 [==============================] - 3s 14ms/step - loss: 0.9207 - accuracy: 0.8745 - val_loss: 1.1146 - val_accuracy: 0.8113\n",
            "Epoch 109/250\n",
            "188/188 [==============================] - 2s 13ms/step - loss: 0.9471 - accuracy: 0.8713 - val_loss: 1.0475 - val_accuracy: 0.8430\n",
            "Epoch 110/250\n",
            "188/188 [==============================] - 3s 14ms/step - loss: 0.9302 - accuracy: 0.8713 - val_loss: 1.0267 - val_accuracy: 0.8434\n",
            "Epoch 111/250\n",
            "188/188 [==============================] - 3s 14ms/step - loss: 0.9112 - accuracy: 0.8773 - val_loss: 1.0176 - val_accuracy: 0.8292\n",
            "Epoch 112/250\n",
            "188/188 [==============================] - 2s 13ms/step - loss: 0.9494 - accuracy: 0.8750 - val_loss: 1.0684 - val_accuracy: 0.8277\n",
            "Epoch 113/250\n",
            "188/188 [==============================] - 3s 14ms/step - loss: 0.8864 - accuracy: 0.8850 - val_loss: 1.0212 - val_accuracy: 0.8416\n",
            "Epoch 114/250\n",
            "188/188 [==============================] - 3s 14ms/step - loss: 0.9438 - accuracy: 0.8685 - val_loss: 1.0908 - val_accuracy: 0.8326\n",
            "Epoch 115/250\n",
            "188/188 [==============================] - 2s 13ms/step - loss: 0.9619 - accuracy: 0.8700 - val_loss: 1.0625 - val_accuracy: 0.8300\n",
            "Epoch 116/250\n",
            "188/188 [==============================] - 2s 13ms/step - loss: 0.9305 - accuracy: 0.8721 - val_loss: 1.0279 - val_accuracy: 0.8386\n",
            "Epoch 117/250\n",
            "188/188 [==============================] - 3s 14ms/step - loss: 0.8988 - accuracy: 0.8817 - val_loss: 1.0594 - val_accuracy: 0.8404\n",
            "Epoch 118/250\n",
            "188/188 [==============================] - 3s 14ms/step - loss: 0.9639 - accuracy: 0.8708 - val_loss: 1.0412 - val_accuracy: 0.8341\n",
            "Epoch 119/250\n",
            "188/188 [==============================] - 3s 14ms/step - loss: 0.9357 - accuracy: 0.8763 - val_loss: 1.1012 - val_accuracy: 0.8285\n",
            "Epoch 120/250\n",
            "188/188 [==============================] - 2s 13ms/step - loss: 0.9430 - accuracy: 0.8768 - val_loss: 1.1017 - val_accuracy: 0.8229\n",
            "Epoch 121/250\n",
            "188/188 [==============================] - 3s 14ms/step - loss: 0.9094 - accuracy: 0.8842 - val_loss: 1.1111 - val_accuracy: 0.8210\n",
            "Epoch 122/250\n",
            "188/188 [==============================] - 2s 13ms/step - loss: 0.9084 - accuracy: 0.8833 - val_loss: 0.9913 - val_accuracy: 0.8531\n",
            "Epoch 123/250\n",
            "188/188 [==============================] - 3s 14ms/step - loss: 0.9082 - accuracy: 0.8758 - val_loss: 1.0674 - val_accuracy: 0.8255\n",
            "Epoch 124/250\n",
            "188/188 [==============================] - 3s 14ms/step - loss: 0.9410 - accuracy: 0.8703 - val_loss: 1.0476 - val_accuracy: 0.8382\n",
            "Epoch 125/250\n",
            "188/188 [==============================] - 3s 14ms/step - loss: 0.8704 - accuracy: 0.8882 - val_loss: 0.9728 - val_accuracy: 0.8625\n",
            "Epoch 126/250\n",
            "188/188 [==============================] - 2s 13ms/step - loss: 0.8982 - accuracy: 0.8820 - val_loss: 0.9522 - val_accuracy: 0.8625\n",
            "Epoch 127/250\n",
            "188/188 [==============================] - 3s 14ms/step - loss: 0.9509 - accuracy: 0.8643 - val_loss: 1.0781 - val_accuracy: 0.8330\n",
            "Epoch 128/250\n",
            "188/188 [==============================] - 3s 14ms/step - loss: 0.9312 - accuracy: 0.8745 - val_loss: 1.0539 - val_accuracy: 0.8430\n",
            "Epoch 129/250\n",
            "188/188 [==============================] - 2s 13ms/step - loss: 0.9244 - accuracy: 0.8838 - val_loss: 1.0775 - val_accuracy: 0.8337\n",
            "Epoch 130/250\n",
            "188/188 [==============================] - 3s 14ms/step - loss: 0.9215 - accuracy: 0.8793 - val_loss: 1.0690 - val_accuracy: 0.8382\n",
            "Epoch 131/250\n",
            "188/188 [==============================] - 2s 13ms/step - loss: 0.9372 - accuracy: 0.8763 - val_loss: 1.0818 - val_accuracy: 0.8292\n",
            "Epoch 132/250\n",
            "188/188 [==============================] - 2s 13ms/step - loss: 0.8997 - accuracy: 0.8803 - val_loss: 1.0358 - val_accuracy: 0.8408\n",
            "Epoch 133/250\n",
            "188/188 [==============================] - 2s 13ms/step - loss: 0.8560 - accuracy: 0.8908 - val_loss: 1.0491 - val_accuracy: 0.8292\n",
            "Epoch 134/250\n",
            "188/188 [==============================] - 2s 13ms/step - loss: 0.9118 - accuracy: 0.8785 - val_loss: 1.0513 - val_accuracy: 0.8367\n",
            "Epoch 135/250\n",
            "188/188 [==============================] - 3s 14ms/step - loss: 0.8822 - accuracy: 0.8872 - val_loss: 1.0413 - val_accuracy: 0.8416\n",
            "Epoch 136/250\n",
            "188/188 [==============================] - 2s 13ms/step - loss: 0.8916 - accuracy: 0.8860 - val_loss: 1.0678 - val_accuracy: 0.8288\n",
            "Epoch 137/250\n",
            "188/188 [==============================] - 3s 14ms/step - loss: 0.8856 - accuracy: 0.8862 - val_loss: 1.0295 - val_accuracy: 0.8412\n",
            "Epoch 138/250\n",
            "188/188 [==============================] - 3s 14ms/step - loss: 0.8891 - accuracy: 0.8883 - val_loss: 1.0212 - val_accuracy: 0.8367\n",
            "Epoch 139/250\n",
            "188/188 [==============================] - 3s 14ms/step - loss: 0.8811 - accuracy: 0.8830 - val_loss: 1.0411 - val_accuracy: 0.8337\n",
            "Epoch 140/250\n",
            "188/188 [==============================] - 3s 14ms/step - loss: 0.8952 - accuracy: 0.8912 - val_loss: 0.9553 - val_accuracy: 0.8599\n",
            "Epoch 141/250\n",
            "188/188 [==============================] - 3s 14ms/step - loss: 0.9094 - accuracy: 0.8882 - val_loss: 1.0133 - val_accuracy: 0.8475\n",
            "Epoch 142/250\n",
            "188/188 [==============================] - 2s 13ms/step - loss: 0.8761 - accuracy: 0.8847 - val_loss: 1.0198 - val_accuracy: 0.8434\n",
            "Epoch 143/250\n",
            "188/188 [==============================] - 2s 13ms/step - loss: 0.8833 - accuracy: 0.8908 - val_loss: 1.0790 - val_accuracy: 0.8135\n",
            "Epoch 144/250\n",
            "188/188 [==============================] - 3s 14ms/step - loss: 0.8828 - accuracy: 0.8913 - val_loss: 1.1043 - val_accuracy: 0.8318\n",
            "Epoch 145/250\n",
            "188/188 [==============================] - 3s 14ms/step - loss: 0.8905 - accuracy: 0.8878 - val_loss: 1.0076 - val_accuracy: 0.8498\n",
            "Epoch 146/250\n",
            "188/188 [==============================] - 3s 15ms/step - loss: 0.8464 - accuracy: 0.8962 - val_loss: 0.9532 - val_accuracy: 0.8640\n",
            "Epoch 147/250\n",
            "188/188 [==============================] - 3s 14ms/step - loss: 0.8904 - accuracy: 0.8892 - val_loss: 1.0200 - val_accuracy: 0.8501\n",
            "Epoch 148/250\n",
            "188/188 [==============================] - 3s 15ms/step - loss: 0.8391 - accuracy: 0.8983 - val_loss: 0.9948 - val_accuracy: 0.8505\n",
            "Epoch 149/250\n",
            "188/188 [==============================] - 2s 13ms/step - loss: 0.8656 - accuracy: 0.8907 - val_loss: 1.0394 - val_accuracy: 0.8479\n",
            "Epoch 150/250\n",
            "188/188 [==============================] - 3s 14ms/step - loss: 0.8993 - accuracy: 0.8887 - val_loss: 0.9614 - val_accuracy: 0.8741\n",
            "Epoch 151/250\n",
            "188/188 [==============================] - 3s 14ms/step - loss: 0.9139 - accuracy: 0.8892 - val_loss: 1.0967 - val_accuracy: 0.8270\n",
            "Epoch 152/250\n",
            "188/188 [==============================] - 2s 13ms/step - loss: 0.9179 - accuracy: 0.8860 - val_loss: 1.0199 - val_accuracy: 0.8483\n",
            "Epoch 153/250\n",
            "188/188 [==============================] - 2s 13ms/step - loss: 0.9445 - accuracy: 0.8893 - val_loss: 1.0203 - val_accuracy: 0.8475\n",
            "Epoch 154/250\n",
            "188/188 [==============================] - 3s 15ms/step - loss: 0.8440 - accuracy: 0.9014 - val_loss: 0.9774 - val_accuracy: 0.8438\n",
            "Epoch 155/250\n",
            "188/188 [==============================] - 2s 13ms/step - loss: 0.8830 - accuracy: 0.8920 - val_loss: 0.9909 - val_accuracy: 0.8595\n",
            "Epoch 156/250\n",
            "188/188 [==============================] - 3s 14ms/step - loss: 0.9120 - accuracy: 0.8838 - val_loss: 1.0721 - val_accuracy: 0.8359\n",
            "Epoch 157/250\n",
            "188/188 [==============================] - 3s 14ms/step - loss: 0.8773 - accuracy: 0.8948 - val_loss: 1.0359 - val_accuracy: 0.8386\n",
            "Epoch 158/250\n",
            "188/188 [==============================] - 3s 15ms/step - loss: 0.8675 - accuracy: 0.8935 - val_loss: 1.0234 - val_accuracy: 0.8479\n",
            "Epoch 159/250\n",
            "188/188 [==============================] - 3s 14ms/step - loss: 0.8915 - accuracy: 0.8920 - val_loss: 1.0940 - val_accuracy: 0.8326\n",
            "Epoch 160/250\n",
            "188/188 [==============================] - 3s 14ms/step - loss: 0.8587 - accuracy: 0.8935 - val_loss: 1.0492 - val_accuracy: 0.8303\n",
            "Epoch 161/250\n",
            "188/188 [==============================] - 3s 14ms/step - loss: 0.8825 - accuracy: 0.8968 - val_loss: 1.1341 - val_accuracy: 0.8098\n",
            "Epoch 162/250\n",
            "188/188 [==============================] - 2s 13ms/step - loss: 0.8899 - accuracy: 0.8917 - val_loss: 1.0311 - val_accuracy: 0.8419\n",
            "Epoch 163/250\n",
            "188/188 [==============================] - 2s 13ms/step - loss: 0.8794 - accuracy: 0.8928 - val_loss: 1.0342 - val_accuracy: 0.8427\n",
            "Epoch 164/250\n",
            "188/188 [==============================] - 2s 13ms/step - loss: 0.8653 - accuracy: 0.8973 - val_loss: 1.0619 - val_accuracy: 0.8281\n",
            "Epoch 165/250\n",
            "188/188 [==============================] - 2s 13ms/step - loss: 0.8911 - accuracy: 0.8862 - val_loss: 1.0370 - val_accuracy: 0.8543\n",
            "Epoch 166/250\n",
            "188/188 [==============================] - 3s 14ms/step - loss: 0.9315 - accuracy: 0.8887 - val_loss: 1.0502 - val_accuracy: 0.8341\n",
            "Epoch 167/250\n",
            "188/188 [==============================] - 2s 13ms/step - loss: 0.8551 - accuracy: 0.8963 - val_loss: 1.0193 - val_accuracy: 0.8438\n",
            "Epoch 168/250\n",
            "188/188 [==============================] - 2s 13ms/step - loss: 0.8434 - accuracy: 0.8920 - val_loss: 1.0132 - val_accuracy: 0.8386\n",
            "Epoch 169/250\n",
            "188/188 [==============================] - 3s 14ms/step - loss: 0.8588 - accuracy: 0.8960 - val_loss: 1.0152 - val_accuracy: 0.8438\n",
            "Epoch 170/250\n",
            "188/188 [==============================] - 2s 13ms/step - loss: 0.8836 - accuracy: 0.8915 - val_loss: 1.0615 - val_accuracy: 0.8363\n",
            "Epoch 171/250\n",
            "188/188 [==============================] - 3s 14ms/step - loss: 0.8854 - accuracy: 0.8930 - val_loss: 1.0581 - val_accuracy: 0.8337\n",
            "Epoch 172/250\n",
            "188/188 [==============================] - 3s 14ms/step - loss: 0.8308 - accuracy: 0.9009 - val_loss: 1.0244 - val_accuracy: 0.8401\n",
            "Epoch 173/250\n",
            "188/188 [==============================] - 3s 14ms/step - loss: 0.8378 - accuracy: 0.8993 - val_loss: 1.0289 - val_accuracy: 0.8430\n",
            "Epoch 174/250\n",
            "188/188 [==============================] - 2s 13ms/step - loss: 0.8459 - accuracy: 0.9017 - val_loss: 1.0626 - val_accuracy: 0.8333\n",
            "Epoch 175/250\n",
            "188/188 [==============================] - 2s 13ms/step - loss: 0.8375 - accuracy: 0.8995 - val_loss: 1.0011 - val_accuracy: 0.8554\n",
            "Epoch 176/250\n",
            "188/188 [==============================] - 2s 13ms/step - loss: 0.8413 - accuracy: 0.8993 - val_loss: 0.9924 - val_accuracy: 0.8651\n",
            "Epoch 177/250\n",
            "188/188 [==============================] - 2s 13ms/step - loss: 0.9000 - accuracy: 0.8927 - val_loss: 1.0143 - val_accuracy: 0.8546\n",
            "Epoch 178/250\n",
            "188/188 [==============================] - 2s 13ms/step - loss: 0.8678 - accuracy: 0.8965 - val_loss: 1.0038 - val_accuracy: 0.8524\n",
            "Epoch 179/250\n",
            "188/188 [==============================] - 2s 13ms/step - loss: 0.8460 - accuracy: 0.9004 - val_loss: 1.0343 - val_accuracy: 0.8468\n",
            "Epoch 180/250\n",
            "188/188 [==============================] - 2s 13ms/step - loss: 0.8407 - accuracy: 0.8972 - val_loss: 1.0534 - val_accuracy: 0.8464\n",
            "Epoch 181/250\n",
            "188/188 [==============================] - 3s 14ms/step - loss: 0.8299 - accuracy: 0.9005 - val_loss: 1.0301 - val_accuracy: 0.8460\n",
            "Epoch 182/250\n",
            "188/188 [==============================] - 2s 13ms/step - loss: 0.8707 - accuracy: 0.8922 - val_loss: 1.0829 - val_accuracy: 0.8188\n",
            "Epoch 183/250\n",
            "188/188 [==============================] - 3s 14ms/step - loss: 0.8387 - accuracy: 0.9039 - val_loss: 0.9497 - val_accuracy: 0.8673\n",
            "Epoch 184/250\n",
            "188/188 [==============================] - 3s 14ms/step - loss: 0.8532 - accuracy: 0.8982 - val_loss: 1.0316 - val_accuracy: 0.8543\n",
            "Epoch 185/250\n",
            "188/188 [==============================] - 3s 14ms/step - loss: 0.8789 - accuracy: 0.8940 - val_loss: 0.9978 - val_accuracy: 0.8621\n",
            "Epoch 186/250\n",
            "188/188 [==============================] - 2s 13ms/step - loss: 0.8736 - accuracy: 0.9005 - val_loss: 1.0731 - val_accuracy: 0.8352\n",
            "Epoch 187/250\n",
            "188/188 [==============================] - 2s 13ms/step - loss: 0.8586 - accuracy: 0.8987 - val_loss: 0.9481 - val_accuracy: 0.8662\n",
            "Epoch 188/250\n",
            "188/188 [==============================] - 2s 13ms/step - loss: 0.8714 - accuracy: 0.8923 - val_loss: 0.9989 - val_accuracy: 0.8572\n",
            "Epoch 189/250\n",
            "188/188 [==============================] - 2s 13ms/step - loss: 0.8498 - accuracy: 0.9019 - val_loss: 1.0202 - val_accuracy: 0.8490\n",
            "Epoch 190/250\n",
            "188/188 [==============================] - 3s 14ms/step - loss: 0.8583 - accuracy: 0.8995 - val_loss: 1.0499 - val_accuracy: 0.8434\n",
            "Epoch 191/250\n",
            "188/188 [==============================] - 3s 14ms/step - loss: 0.8406 - accuracy: 0.9014 - val_loss: 1.0740 - val_accuracy: 0.8408\n",
            "Epoch 192/250\n",
            "188/188 [==============================] - 2s 13ms/step - loss: 0.8136 - accuracy: 0.9099 - val_loss: 1.0654 - val_accuracy: 0.8300\n",
            "Epoch 193/250\n",
            "188/188 [==============================] - 3s 15ms/step - loss: 0.8277 - accuracy: 0.9064 - val_loss: 0.9856 - val_accuracy: 0.8629\n",
            "Epoch 194/250\n",
            "188/188 [==============================] - 3s 14ms/step - loss: 0.8705 - accuracy: 0.8998 - val_loss: 1.0278 - val_accuracy: 0.8531\n",
            "Epoch 195/250\n",
            "188/188 [==============================] - 3s 14ms/step - loss: 0.9301 - accuracy: 0.8927 - val_loss: 0.9971 - val_accuracy: 0.8726\n",
            "Epoch 196/250\n",
            "188/188 [==============================] - 2s 13ms/step - loss: 0.8523 - accuracy: 0.9030 - val_loss: 1.0515 - val_accuracy: 0.8509\n",
            "Epoch 197/250\n",
            "188/188 [==============================] - 2s 13ms/step - loss: 0.8977 - accuracy: 0.8938 - val_loss: 1.0934 - val_accuracy: 0.8367\n",
            "Epoch 198/250\n",
            "188/188 [==============================] - 2s 13ms/step - loss: 0.8576 - accuracy: 0.9029 - val_loss: 1.0259 - val_accuracy: 0.8513\n",
            "Epoch 199/250\n",
            "188/188 [==============================] - 2s 13ms/step - loss: 0.8523 - accuracy: 0.9029 - val_loss: 1.0476 - val_accuracy: 0.8389\n",
            "Epoch 200/250\n",
            "188/188 [==============================] - 3s 14ms/step - loss: 0.8398 - accuracy: 0.9072 - val_loss: 0.9971 - val_accuracy: 0.8501\n",
            "Epoch 201/250\n",
            "188/188 [==============================] - 3s 15ms/step - loss: 0.8227 - accuracy: 0.9062 - val_loss: 1.1009 - val_accuracy: 0.8262\n",
            "Epoch 202/250\n",
            "188/188 [==============================] - 3s 14ms/step - loss: 0.8613 - accuracy: 0.9039 - val_loss: 0.9763 - val_accuracy: 0.8629\n",
            "Epoch 203/250\n",
            "188/188 [==============================] - 3s 15ms/step - loss: 0.8320 - accuracy: 0.9089 - val_loss: 0.9602 - val_accuracy: 0.8666\n",
            "Epoch 204/250\n",
            "188/188 [==============================] - 2s 13ms/step - loss: 0.8195 - accuracy: 0.9070 - val_loss: 1.0227 - val_accuracy: 0.8457\n",
            "Epoch 205/250\n",
            "188/188 [==============================] - 2s 13ms/step - loss: 0.8584 - accuracy: 0.9019 - val_loss: 1.0368 - val_accuracy: 0.8475\n",
            "Epoch 206/250\n",
            "188/188 [==============================] - 2s 13ms/step - loss: 0.8141 - accuracy: 0.9094 - val_loss: 1.0421 - val_accuracy: 0.8382\n",
            "Epoch 207/250\n",
            "188/188 [==============================] - 3s 14ms/step - loss: 0.8717 - accuracy: 0.9019 - val_loss: 1.0714 - val_accuracy: 0.8483\n",
            "Epoch 208/250\n",
            "188/188 [==============================] - 2s 13ms/step - loss: 0.8351 - accuracy: 0.9060 - val_loss: 1.0762 - val_accuracy: 0.8318\n",
            "Epoch 209/250\n",
            "188/188 [==============================] - 3s 14ms/step - loss: 0.8005 - accuracy: 0.9105 - val_loss: 1.0714 - val_accuracy: 0.8225\n",
            "Epoch 210/250\n",
            "188/188 [==============================] - 2s 13ms/step - loss: 0.8160 - accuracy: 0.9094 - val_loss: 1.1337 - val_accuracy: 0.8262\n",
            "Epoch 211/250\n",
            "188/188 [==============================] - 2s 13ms/step - loss: 0.8382 - accuracy: 0.9100 - val_loss: 1.0870 - val_accuracy: 0.8315\n",
            "Epoch 212/250\n",
            "188/188 [==============================] - 2s 13ms/step - loss: 0.8233 - accuracy: 0.9064 - val_loss: 1.0097 - val_accuracy: 0.8591\n",
            "Epoch 213/250\n",
            "188/188 [==============================] - 3s 15ms/step - loss: 0.9151 - accuracy: 0.8965 - val_loss: 0.9927 - val_accuracy: 0.8655\n",
            "Epoch 214/250\n",
            "188/188 [==============================] - 2s 13ms/step - loss: 0.8431 - accuracy: 0.9037 - val_loss: 0.9812 - val_accuracy: 0.8662\n",
            "Epoch 215/250\n",
            "188/188 [==============================] - 3s 14ms/step - loss: 0.8251 - accuracy: 0.9120 - val_loss: 1.0422 - val_accuracy: 0.8300\n",
            "Epoch 216/250\n",
            "188/188 [==============================] - 2s 13ms/step - loss: 0.7944 - accuracy: 0.9137 - val_loss: 1.0142 - val_accuracy: 0.8584\n",
            "Epoch 217/250\n",
            "188/188 [==============================] - 2s 13ms/step - loss: 0.8357 - accuracy: 0.9089 - val_loss: 1.0769 - val_accuracy: 0.8457\n",
            "Epoch 218/250\n",
            "188/188 [==============================] - 2s 13ms/step - loss: 0.8250 - accuracy: 0.9117 - val_loss: 0.9843 - val_accuracy: 0.8602\n",
            "Epoch 219/250\n",
            "188/188 [==============================] - 3s 14ms/step - loss: 0.7876 - accuracy: 0.9177 - val_loss: 1.0044 - val_accuracy: 0.8554\n",
            "Epoch 220/250\n",
            "188/188 [==============================] - 2s 13ms/step - loss: 0.8854 - accuracy: 0.9040 - val_loss: 1.0869 - val_accuracy: 0.8382\n",
            "Epoch 221/250\n",
            "188/188 [==============================] - 3s 15ms/step - loss: 0.8179 - accuracy: 0.9112 - val_loss: 1.0095 - val_accuracy: 0.8382\n",
            "Epoch 222/250\n",
            "188/188 [==============================] - 2s 13ms/step - loss: 0.8238 - accuracy: 0.9095 - val_loss: 1.0400 - val_accuracy: 0.8475\n",
            "Epoch 223/250\n",
            "188/188 [==============================] - 3s 14ms/step - loss: 0.8268 - accuracy: 0.9094 - val_loss: 0.9178 - val_accuracy: 0.8726\n",
            "Epoch 224/250\n",
            "188/188 [==============================] - 3s 14ms/step - loss: 0.8164 - accuracy: 0.9107 - val_loss: 0.9913 - val_accuracy: 0.8643\n",
            "Epoch 225/250\n",
            "188/188 [==============================] - 3s 14ms/step - loss: 0.8262 - accuracy: 0.9104 - val_loss: 1.1370 - val_accuracy: 0.8277\n",
            "Epoch 226/250\n",
            "188/188 [==============================] - 3s 14ms/step - loss: 0.8293 - accuracy: 0.9109 - val_loss: 0.9720 - val_accuracy: 0.8692\n",
            "Epoch 227/250\n",
            "188/188 [==============================] - 3s 14ms/step - loss: 0.8549 - accuracy: 0.9090 - val_loss: 1.0434 - val_accuracy: 0.8445\n",
            "Epoch 228/250\n",
            "188/188 [==============================] - 3s 14ms/step - loss: 0.8275 - accuracy: 0.9095 - val_loss: 0.9933 - val_accuracy: 0.8629\n",
            "Epoch 229/250\n",
            "188/188 [==============================] - 2s 13ms/step - loss: 0.7819 - accuracy: 0.9177 - val_loss: 0.9737 - val_accuracy: 0.8614\n",
            "Epoch 230/250\n",
            "188/188 [==============================] - 3s 15ms/step - loss: 0.8349 - accuracy: 0.9089 - val_loss: 0.9975 - val_accuracy: 0.8625\n",
            "Epoch 231/250\n",
            "188/188 [==============================] - 2s 13ms/step - loss: 0.8167 - accuracy: 0.9094 - val_loss: 0.9494 - val_accuracy: 0.8756\n",
            "Epoch 232/250\n",
            "188/188 [==============================] - 2s 13ms/step - loss: 0.7882 - accuracy: 0.9167 - val_loss: 1.1418 - val_accuracy: 0.8075\n",
            "Epoch 233/250\n",
            "188/188 [==============================] - 2s 13ms/step - loss: 0.8221 - accuracy: 0.9060 - val_loss: 1.0583 - val_accuracy: 0.8382\n",
            "Epoch 234/250\n",
            "188/188 [==============================] - 2s 13ms/step - loss: 0.8305 - accuracy: 0.9139 - val_loss: 1.1643 - val_accuracy: 0.8210\n",
            "Epoch 235/250\n",
            "188/188 [==============================] - 2s 13ms/step - loss: 0.8503 - accuracy: 0.9069 - val_loss: 1.0282 - val_accuracy: 0.8457\n",
            "Epoch 236/250\n",
            "188/188 [==============================] - 2s 13ms/step - loss: 0.8519 - accuracy: 0.9054 - val_loss: 1.1506 - val_accuracy: 0.8292\n",
            "Epoch 237/250\n",
            "188/188 [==============================] - 2s 13ms/step - loss: 0.7718 - accuracy: 0.9154 - val_loss: 1.0325 - val_accuracy: 0.8464\n",
            "Epoch 238/250\n",
            "188/188 [==============================] - 2s 13ms/step - loss: 0.8361 - accuracy: 0.9089 - val_loss: 1.0512 - val_accuracy: 0.8501\n",
            "Epoch 239/250\n",
            "188/188 [==============================] - 3s 14ms/step - loss: 0.8283 - accuracy: 0.9159 - val_loss: 0.9651 - val_accuracy: 0.8629\n",
            "Epoch 240/250\n",
            "188/188 [==============================] - 3s 14ms/step - loss: 0.8216 - accuracy: 0.9110 - val_loss: 1.0687 - val_accuracy: 0.8460\n",
            "Epoch 241/250\n",
            "188/188 [==============================] - 3s 14ms/step - loss: 0.8005 - accuracy: 0.9192 - val_loss: 1.0227 - val_accuracy: 0.8487\n",
            "Epoch 242/250\n",
            "188/188 [==============================] - 3s 14ms/step - loss: 0.8444 - accuracy: 0.9067 - val_loss: 1.0143 - val_accuracy: 0.8617\n",
            "Epoch 243/250\n",
            "188/188 [==============================] - 3s 15ms/step - loss: 0.8312 - accuracy: 0.9124 - val_loss: 0.9812 - val_accuracy: 0.8643\n",
            "Epoch 244/250\n",
            "188/188 [==============================] - 3s 14ms/step - loss: 0.8644 - accuracy: 0.9077 - val_loss: 1.0845 - val_accuracy: 0.8531\n",
            "Epoch 245/250\n",
            "188/188 [==============================] - 3s 14ms/step - loss: 0.8397 - accuracy: 0.9114 - val_loss: 0.9641 - val_accuracy: 0.8640\n",
            "Epoch 246/250\n",
            "188/188 [==============================] - 3s 14ms/step - loss: 0.7629 - accuracy: 0.9162 - val_loss: 0.9567 - val_accuracy: 0.8591\n",
            "Epoch 247/250\n",
            "188/188 [==============================] - 3s 14ms/step - loss: 0.7658 - accuracy: 0.9167 - val_loss: 0.9482 - val_accuracy: 0.8640\n",
            "Epoch 248/250\n",
            "188/188 [==============================] - 2s 13ms/step - loss: 0.8472 - accuracy: 0.9119 - val_loss: 1.0281 - val_accuracy: 0.8591\n",
            "Epoch 249/250\n",
            "188/188 [==============================] - 3s 14ms/step - loss: 0.7997 - accuracy: 0.9162 - val_loss: 1.0445 - val_accuracy: 0.8453\n",
            "Epoch 250/250\n",
            "188/188 [==============================] - 2s 13ms/step - loss: 0.7947 - accuracy: 0.9155 - val_loss: 0.9568 - val_accuracy: 0.8670\n"
          ]
        }
      ],
      "source": [
        "cnn_history=cnn_model.fit(cnn_x_train,cnn_y_train,validation_data=(cnn_x_val,cnn_y_val),verbose=1,epochs=250,batch_size=32)"
      ]
    },
    {
      "cell_type": "code",
      "execution_count": 22,
      "metadata": {
        "colab": {
          "base_uri": "https://localhost:8080/",
          "height": 513
        },
        "id": "NuHRea0sqOKS",
        "outputId": "df6671f6-7517-4be4-9520-39e2fc2c437e"
      },
      "outputs": [
        {
          "output_type": "display_data",
          "data": {
            "text/plain": [
              "<Figure size 720x576 with 2 Axes>"
            ],
            "image/png": "[encoded data removed]"
          },
          "metadata": {
            "needs_background": "light"
          }
        }
      ],
      "source": [
        "plot_accuracy_error(cnn_history)"
      ]
    },
    {
      "cell_type": "code",
      "execution_count": 23,
      "metadata": {
        "id": "VeiYY4HnwI1H"
      },
      "outputs": [],
      "source": [
        "cnn_model.save(\"cnn_model.h5\")"
      ]
    },
    {
      "cell_type": "code",
      "execution_count": 24,
      "metadata": {
        "colab": {
          "base_uri": "https://localhost:8080/"
        },
        "id": "PG-8lvwcVlAu",
        "outputId": "95b2d93c-13ad-47a3-c872-1e1b699c6cc0"
      },
      "outputs": [
        {
          "output_type": "execute_result",
          "data": {
            "text/plain": [
              "(1, 130, 13, 1)"
            ]
          },
          "metadata": {},
          "execution_count": 24
        }
      ],
      "source": [
        "X_predi=cnn_x_test[20]\n",
        "Y_predi=cnn_y_test[20]\n",
        "X_predi=X_predi.reshape(1,X_predi.shape[0],X_predi.shape[1],1)\n",
        "X_predi.shape"
      ]
    },
    {
      "cell_type": "code",
      "execution_count": 25,
      "metadata": {
        "id": "yJPMi4LS2fVB"
      },
      "outputs": [],
      "source": [
        "model=keras.models.load_model('cnn_model.h5')"
      ]
    },
    {
      "cell_type": "code",
      "execution_count": 26,
      "metadata": {
        "id": "3TRku-tqWArw"
      },
      "outputs": [],
      "source": [
        "prediction=model.predict(X_predi)"
      ]
    },
    {
      "cell_type": "code",
      "execution_count": 27,
      "metadata": {
        "colab": {
          "base_uri": "https://localhost:8080/"
        },
        "id": "MUc15r7KZtTA",
        "outputId": "87ae22d1-691e-4188-a6c8-b63140a5a011"
      },
      "outputs": [
        {
          "output_type": "execute_result",
          "data": {
            "text/plain": [
              "((1, 10), (1,))"
            ]
          },
          "metadata": {},
          "execution_count": 27
        }
      ],
      "source": [
        "prediction.shape,Y_predi.shape"
      ]
    },
    {
      "cell_type": "code",
      "execution_count": 28,
      "metadata": {
        "colab": {
          "base_uri": "https://localhost:8080/"
        },
        "id": "F_sa-DybWOGH",
        "outputId": "536112a8-1a6f-428d-bf6c-5d446a8cb2be"
      },
      "outputs": [
        {
          "output_type": "stream",
          "name": "stdout",
          "text": [
            "[0.943131] [9]\n"
          ]
        }
      ],
      "source": [
        "predicted_index=np.argmax(prediction,axis=1)\n",
        "print(prediction[0][predicted_index],predicted_index)"
      ]
    },
    {
      "cell_type": "code",
      "execution_count": 29,
      "metadata": {
        "colab": {
          "base_uri": "https://localhost:8080/"
        },
        "id": "KiTVyE2LXO40",
        "outputId": "025962dd-fd42-4066-e101-672c0f2057dd"
      },
      "outputs": [
        {
          "output_type": "execute_result",
          "data": {
            "text/plain": [
              "9"
            ]
          },
          "metadata": {},
          "execution_count": 29
        }
      ],
      "source": [
        "Y_predi[0]"
      ]
    },
    {
      "cell_type": "code",
      "execution_count": 30,
      "metadata": {
        "colab": {
          "base_uri": "https://localhost:8080/",
          "height": 1000
        },
        "id": "DOZmUep3XSil",
        "outputId": "5e9d705e-5474-4d4a-c427-32f76b2a98a1"
      },
      "outputs": [
        {
          "output_type": "stream",
          "name": "stdout",
          "text": [
            "\n",
            "index :823\n",
            "real Genre : jazz\n",
            "predicted Genre :jazz\n"
          ]
        },
        {
          "output_type": "display_data",
          "data": {
            "text/plain": [
              "<Figure size 720x216 with 1 Axes>"
            ],
            "image/png": "[encoded data removed]"
          },
          "metadata": {
            "needs_background": "light"
          }
        },
        {
          "output_type": "stream",
          "name": "stdout",
          "text": [
            "\n",
            "index :577\n",
            "real Genre : disco\n",
            "predicted Genre :disco\n"
          ]
        },
        {
          "output_type": "display_data",
          "data": {
            "text/plain": [
              "<Figure size 720x216 with 1 Axes>"
            ],
            "image/png": "[encoded data removed]"
          },
          "metadata": {
            "needs_background": "light"
          }
        },
        {
          "output_type": "stream",
          "name": "stdout",
          "text": [
            "\n",
            "index :697\n",
            "real Genre : rock\n",
            "predicted Genre :jazz\n"
          ]
        },
        {
          "output_type": "display_data",
          "data": {
            "text/plain": [
              "<Figure size 720x216 with 1 Axes>"
            ],
            "image/png": "[encoded data removed]"
          },
          "metadata": {
            "needs_background": "light"
          }
        },
        {
          "output_type": "stream",
          "name": "stdout",
          "text": [
            "\n",
            "index :231\n",
            "real Genre : disco\n",
            "predicted Genre :disco\n"
          ]
        },
        {
          "output_type": "display_data",
          "data": {
            "text/plain": [
              "<Figure size 720x216 with 1 Axes>"
            ],
            "image/png": "[encoded data removed]"
          },
          "metadata": {
            "needs_background": "light"
          }
        },
        {
          "output_type": "stream",
          "name": "stdout",
          "text": [
            "\n",
            "index :920\n",
            "real Genre : disco\n",
            "predicted Genre :disco\n"
          ]
        },
        {
          "output_type": "display_data",
          "data": {
            "text/plain": [
              "<Figure size 720x216 with 1 Axes>"
            ],
            "image/png": "[encoded data removed]"
          },
          "metadata": {
            "needs_background": "light"
          }
        },
        {
          "output_type": "stream",
          "name": "stdout",
          "text": [
            "\n",
            "index :398\n",
            "real Genre : classical\n",
            "predicted Genre :classical\n"
          ]
        },
        {
          "output_type": "display_data",
          "data": {
            "text/plain": [
              "<Figure size 720x216 with 1 Axes>"
            ],
            "image/png": "[encoded data removed]"
          },
          "metadata": {
            "needs_background": "light"
          }
        },
        {
          "output_type": "stream",
          "name": "stdout",
          "text": [
            "\n",
            "index :1141\n",
            "real Genre : reggae\n",
            "predicted Genre :reggae\n"
          ]
        },
        {
          "output_type": "display_data",
          "data": {
            "text/plain": [
              "<Figure size 720x216 with 1 Axes>"
            ],
            "image/png": "[encoded data removed]"
          },
          "metadata": {
            "needs_background": "light"
          }
        },
        {
          "output_type": "stream",
          "name": "stdout",
          "text": [
            "\n",
            "index :195\n",
            "real Genre : metal\n",
            "predicted Genre :metal\n"
          ]
        },
        {
          "output_type": "display_data",
          "data": {
            "text/plain": [
              "<Figure size 720x216 with 1 Axes>"
            ],
            "image/png": "[encoded data removed]"
          },
          "metadata": {
            "needs_background": "light"
          }
        },
        {
          "output_type": "stream",
          "name": "stdout",
          "text": [
            "\n",
            "index :843\n",
            "real Genre : country\n",
            "predicted Genre :rock\n"
          ]
        },
        {
          "output_type": "display_data",
          "data": {
            "text/plain": [
              "<Figure size 720x216 with 1 Axes>"
            ],
            "image/png": "[encoded data removed]"
          },
          "metadata": {
            "needs_background": "light"
          }
        },
        {
          "output_type": "stream",
          "name": "stdout",
          "text": [
            "\n",
            "index :1137\n",
            "real Genre : metal\n",
            "predicted Genre :metal\n"
          ]
        },
        {
          "output_type": "display_data",
          "data": {
            "text/plain": [
              "<Figure size 720x216 with 1 Axes>"
            ],
            "image/png": "[encoded data removed]"
          },
          "metadata": {
            "needs_background": "light"
          }
        },
        {
          "output_type": "stream",
          "name": "stdout",
          "text": [
            "\n",
            "index :1307\n",
            "real Genre : metal\n",
            "predicted Genre :metal\n"
          ]
        },
        {
          "output_type": "display_data",
          "data": {
            "text/plain": [
              "<Figure size 720x216 with 1 Axes>"
            ],
            "image/png": "[encoded data removed]"
          },
          "metadata": {
            "needs_background": "light"
          }
        },
        {
          "output_type": "stream",
          "name": "stdout",
          "text": [
            "\n",
            "index :1197\n",
            "real Genre : country\n",
            "predicted Genre :country\n"
          ]
        },
        {
          "output_type": "display_data",
          "data": {
            "text/plain": [
              "<Figure size 720x216 with 1 Axes>"
            ],
            "image/png": "[encoded data removed]"
          },
          "metadata": {
            "needs_background": "light"
          }
        },
        {
          "output_type": "stream",
          "name": "stdout",
          "text": [
            "\n",
            "index :1098\n",
            "real Genre : pop\n",
            "predicted Genre :pop\n"
          ]
        },
        {
          "output_type": "display_data",
          "data": {
            "text/plain": [
              "<Figure size 720x216 with 1 Axes>"
            ],
            "image/png": "[encoded data removed]"
          },
          "metadata": {
            "needs_background": "light"
          }
        },
        {
          "output_type": "stream",
          "name": "stdout",
          "text": [
            "\n",
            "index :789\n",
            "real Genre : classical\n",
            "predicted Genre :classical\n"
          ]
        },
        {
          "output_type": "display_data",
          "data": {
            "text/plain": [
              "<Figure size 720x216 with 1 Axes>"
            ],
            "image/png": "[encoded data removed]"
          },
          "metadata": {
            "needs_background": "light"
          }
        },
        {
          "output_type": "stream",
          "name": "stdout",
          "text": [
            "\n",
            "index :718\n",
            "real Genre : rock\n",
            "predicted Genre :rock\n"
          ]
        },
        {
          "output_type": "display_data",
          "data": {
            "text/plain": [
              "<Figure size 720x216 with 1 Axes>"
            ],
            "image/png": "[encoded data removed]"
          },
          "metadata": {
            "needs_background": "light"
          }
        },
        {
          "output_type": "stream",
          "name": "stdout",
          "text": [
            "\n",
            "index :528\n",
            "real Genre : pop\n",
            "predicted Genre :pop\n"
          ]
        },
        {
          "output_type": "display_data",
          "data": {
            "text/plain": [
              "<Figure size 720x216 with 1 Axes>"
            ],
            "image/png": "[encoded data removed]"
          },
          "metadata": {
            "needs_background": "light"
          }
        },
        {
          "output_type": "stream",
          "name": "stdout",
          "text": [
            "\n",
            "index :819\n",
            "real Genre : metal\n",
            "predicted Genre :metal\n"
          ]
        },
        {
          "output_type": "display_data",
          "data": {
            "text/plain": [
              "<Figure size 720x216 with 1 Axes>"
            ],
            "image/png": "[encoded data removed]"
          },
          "metadata": {
            "needs_background": "light"
          }
        },
        {
          "output_type": "stream",
          "name": "stdout",
          "text": [
            "\n",
            "index :1263\n",
            "real Genre : blues\n",
            "predicted Genre :blues\n"
          ]
        },
        {
          "output_type": "display_data",
          "data": {
            "text/plain": [
              "<Figure size 720x216 with 1 Axes>"
            ],
            "image/png": "[encoded data removed]"
          },
          "metadata": {
            "needs_background": "light"
          }
        },
        {
          "output_type": "stream",
          "name": "stdout",
          "text": [
            "\n",
            "index :1127\n",
            "real Genre : country\n",
            "predicted Genre :country\n"
          ]
        },
        {
          "output_type": "display_data",
          "data": {
            "text/plain": [
              "<Figure size 720x216 with 1 Axes>"
            ],
            "image/png": "[encoded data removed]"
          },
          "metadata": {
            "needs_background": "light"
          }
        },
        {
          "output_type": "stream",
          "name": "stdout",
          "text": [
            "\n",
            "index :382\n",
            "real Genre : classical\n",
            "predicted Genre :classical\n"
          ]
        },
        {
          "output_type": "display_data",
          "data": {
            "text/plain": [
              "<Figure size 720x216 with 1 Axes>"
            ],
            "image/png": "[encoded data removed]"
          },
          "metadata": {
            "needs_background": "light"
          }
        },
        {
          "output_type": "stream",
          "name": "stdout",
          "text": [
            "\n",
            "index :173\n",
            "real Genre : blues\n",
            "predicted Genre :blues\n"
          ]
        },
        {
          "output_type": "display_data",
          "data": {
            "text/plain": [
              "<Figure size 720x216 with 1 Axes>"
            ],
            "image/png": "[encoded data removed]"
          },
          "metadata": {
            "needs_background": "light"
          }
        },
        {
          "output_type": "stream",
          "name": "stdout",
          "text": [
            "\n",
            "index :1055\n",
            "real Genre : rock\n",
            "predicted Genre :rock\n"
          ]
        },
        {
          "output_type": "display_data",
          "data": {
            "text/plain": [
              "<Figure size 720x216 with 1 Axes>"
            ],
            "image/png": "[encoded data removed]"
          },
          "metadata": {
            "needs_background": "light"
          }
        },
        {
          "output_type": "stream",
          "name": "stdout",
          "text": [
            "\n",
            "index :907\n",
            "real Genre : reggae\n",
            "predicted Genre :reggae\n"
          ]
        },
        {
          "output_type": "display_data",
          "data": {
            "text/plain": [
              "<Figure size 720x216 with 1 Axes>"
            ],
            "image/png": "[encoded data removed]"
          },
          "metadata": {
            "needs_background": "light"
          }
        },
        {
          "output_type": "stream",
          "name": "stdout",
          "text": [
            "\n",
            "index :1062\n",
            "real Genre : reggae\n",
            "predicted Genre :reggae\n"
          ]
        },
        {
          "output_type": "display_data",
          "data": {
            "text/plain": [
              "<Figure size 720x216 with 1 Axes>"
            ],
            "image/png": "[encoded data removed]"
          },
          "metadata": {
            "needs_background": "light"
          }
        },
        {
          "output_type": "stream",
          "name": "stdout",
          "text": [
            "\n",
            "index :31\n",
            "real Genre : rock\n",
            "predicted Genre :rock\n"
          ]
        },
        {
          "output_type": "display_data",
          "data": {
            "text/plain": [
              "<Figure size 720x216 with 1 Axes>"
            ],
            "image/png": "[encoded data removed]"
          },
          "metadata": {
            "needs_background": "light"
          }
        },
        {
          "output_type": "stream",
          "name": "stdout",
          "text": [
            "\n",
            "index :277\n",
            "real Genre : disco\n",
            "predicted Genre :disco\n"
          ]
        },
        {
          "output_type": "display_data",
          "data": {
            "text/plain": [
              "<Figure size 720x216 with 1 Axes>"
            ],
            "image/png": "[encoded data removed]"
          },
          "metadata": {
            "needs_background": "light"
          }
        },
        {
          "output_type": "stream",
          "name": "stdout",
          "text": [
            "\n",
            "index :563\n",
            "real Genre : metal\n",
            "predicted Genre :metal\n"
          ]
        },
        {
          "output_type": "display_data",
          "data": {
            "text/plain": [
              "<Figure size 720x216 with 1 Axes>"
            ],
            "image/png": "[encoded data removed]"
          },
          "metadata": {
            "needs_background": "light"
          }
        },
        {
          "output_type": "stream",
          "name": "stdout",
          "text": [
            "\n",
            "index :1174\n",
            "real Genre : pop\n",
            "predicted Genre :pop\n"
          ]
        },
        {
          "output_type": "display_data",
          "data": {
            "text/plain": [
              "<Figure size 720x216 with 1 Axes>"
            ],
            "image/png": "[encoded data removed]"
          },
          "metadata": {
            "needs_background": "light"
          }
        },
        {
          "output_type": "stream",
          "name": "stdout",
          "text": [
            "\n",
            "index :1315\n",
            "real Genre : disco\n",
            "predicted Genre :disco\n"
          ]
        },
        {
          "output_type": "display_data",
          "data": {
            "text/plain": [
              "<Figure size 720x216 with 1 Axes>"
            ],
            "image/png": "[encoded data removed]"
          },
          "metadata": {
            "needs_background": "light"
          }
        },
        {
          "output_type": "stream",
          "name": "stdout",
          "text": [
            "\n",
            "index :58\n",
            "real Genre : classical\n",
            "predicted Genre :classical\n"
          ]
        },
        {
          "output_type": "display_data",
          "data": {
            "text/plain": [
              "<Figure size 720x216 with 1 Axes>"
            ],
            "image/png": "[encoded data removed]"
          },
          "metadata": {
            "needs_background": "light"
          }
        }
      ],
      "source": [
        "correct=0\n",
        "wrong=0\n",
        "for i in range(30):\n",
        "  a=random.randint(0,len(cnn_x_test)-1)\n",
        "  sample=cnn_x_test[a].reshape(1,cnn_x_test.shape[1],cnn_x_test.shape[2],1)\n",
        "  print(\"\\nindex :{}\\nreal Genre : {}\".format(a,music_genres[cnn_y_test[a][0]]))\n",
        "  prediction=model.predict(sample)\n",
        "  index=np.argmax(prediction,axis=1)\n",
        "  print(\"predicted Genre :{}\".format(music_genres[index[0]]))\n",
        "  plt.figure(figsize=(10,3))\n",
        "  plt.bar(music_genres,prediction[0],color=\"r\")\n",
        "  plt.ylim(0,1)\n",
        "  plt.show()\n",
        "  if cnn_y_test[a][0]==index[0]:\n",
        "    correct+=1\n",
        "  else:\n",
        "    wrong+=1"
      ]
    },
    {
      "cell_type": "code",
      "execution_count": 31,
      "metadata": {
        "colab": {
          "base_uri": "https://localhost:8080/"
        },
        "id": "jri982zmj5-3",
        "outputId": "811f8a74-3494-4eb4-e5ed-ad43fdb073dd"
      },
      "outputs": [
        {
          "output_type": "execute_result",
          "data": {
            "text/plain": [
              "(28, 2)"
            ]
          },
          "metadata": {},
          "execution_count": 31
        }
      ],
      "source": [
        "correct,wrong"
      ]
    },
    {
      "cell_type": "code",
      "execution_count": 32,
      "metadata": {
        "colab": {
          "base_uri": "https://localhost:8080/"
        },
        "id": "U9Okp4qzmveH",
        "outputId": "ed4b83fd-ed90-4e51-a4be-3a58586530d3"
      },
      "outputs": [
        {
          "output_type": "stream",
          "name": "stdout",
          "text": [
            "42/42 [==============================] - 1s 7ms/step - loss: 0.9471 - accuracy: 0.8802\n"
          ]
        }
      ],
      "source": [
        "result=model.evaluate(cnn_x_test,cnn_y_test)"
      ]
    },
    {
      "cell_type": "code",
      "execution_count": 33,
      "metadata": {
        "colab": {
          "base_uri": "https://localhost:8080/"
        },
        "id": "WXvM2bNqnPFM",
        "outputId": "06654b8a-4033-4602-efc7-354340ee75de"
      },
      "outputs": [
        {
          "output_type": "execute_result",
          "data": {
            "text/plain": [
              "[0.9470652341842651, 0.8802123069763184]"
            ]
          },
          "metadata": {},
          "execution_count": 33
        }
      ],
      "source": [
        "result"
      ]
    },
    {
      "cell_type": "code",
      "execution_count": null,
      "metadata": {
        "id": "T_QukgWBnQ1A"
      },
      "outputs": [],
      "source": [
        ""
      ]
    }
  ],
  "metadata": {
    "accelerator": "GPU",
    "colab": {
      "collapsed_sections": [],
      "name": "creating_cnn_model.ipynb",
      "provenance": []
    },
    "interpreter": {
      "hash": "c819db0b61094783b121348d134d41c4e0450ebc7e72307b330662436e6d9290"
    },
    "kernelspec": {
      "display_name": "Python 3 (ipykernel)",
      "language": "python",
      "name": "python3"
    },
    "language_info": {
      "codemirror_mode": {
        "name": "ipython",
        "version": 3
      },
      "file_extension": ".py",
      "mimetype": "text/x-python",
      "name": "python",
      "nbconvert_exporter": "python",
      "pygments_lexer": "ipython3",
      "version": "3.9.5"
    }
  },
  "nbformat": 4,
  "nbformat_minor": 0
}