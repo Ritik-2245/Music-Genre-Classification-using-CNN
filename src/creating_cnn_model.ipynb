{
  "cells": [
    {
      "cell_type": "code",
      "execution_count": 2,
      "metadata": {
        "id": "F1A9jQhGqOKB"
      },
      "outputs": [],
      "source": [
        "import json\n",
        "import numpy as np\n",
        "from sklearn.model_selection import train_test_split,RandomizedSearchCV\n",
        "import tensorflow.keras as keras\n",
        "\n",
        "import keras.backend as K\n",
        "\n",
        "import matplotlib.pyplot as plt\n",
        "import random\n",
        "\n",
        "import librosa\n",
        "import math"
      ]
    },
    {
      "cell_type": "code",
      "execution_count": 3,
      "metadata": {
        "id": "CulzAgmqqOKF"
      },
      "outputs": [],
      "source": [
        "JSON_PATH=\"./Extracted_data.json\"\n"
      ]
    },
    {
      "cell_type": "code",
      "execution_count": 4,
      "metadata": {
        "id": "2DeIHmjJqOKG"
      },
      "outputs": [],
      "source": [
        "def load_data_from_json(json_path):\n",
        "    \n",
        "    with open(json_path, \"r\") as f:\n",
        "        data=json.load(f)\n",
        "    \n",
        "    \n",
        "    X=data[\"mfcc\"]\n",
        "    Y=data[\"labels\"]\n",
        "    print(\"DATA IS LOADED SUCCESSFULLY\")\n",
        "    return np.array(X), np.array(Y),data[\"mapping\"]"
      ]
    },
    {
      "cell_type": "code",
      "execution_count": 5,
      "metadata": {
        "colab": {
          "base_uri": "https://localhost:8080/"
        },
        "id": "IPMjgEUiqOKG",
        "outputId": "499a609f-7a57-46c7-9d4a-ae427adbaf8c"
      },
      "outputs": [
        {
          "name": "stdout",
          "output_type": "stream",
          "text": [
            "DATA IS LOADED SUCCESSFULLY\n"
          ]
        }
      ],
      "source": [
        "X,Y,music_genres = load_data_from_json(JSON_PATH)"
      ]
    },
    {
      "cell_type": "code",
      "execution_count": 6,
      "metadata": {
        "id": "OIJxgVliqOKH"
      },
      "outputs": [],
      "source": [
        "x_train,x_test, y_train, y_test = train_test_split(X, Y, test_size=0.33,shuffle=True, random_state=59,stratify=Y)"
      ]
    },
    {
      "cell_type": "code",
      "execution_count": 7,
      "metadata": {
        "colab": {
          "base_uri": "https://localhost:8080/"
        },
        "id": "rOnWmeYUqOKH",
        "outputId": "95d9d9b0-8611-4bcb-9df0-1404e9b8237b"
      },
      "outputs": [
        {
          "name": "stdout",
          "output_type": "stream",
          "text": [
            "6690 6690 3296 3296\n"
          ]
        }
      ],
      "source": [
        "\n",
        "print(len(x_train),len(y_train),len(x_test),len(y_test))"
      ]
    },
    {
      "cell_type": "code",
      "execution_count": 8,
      "metadata": {
        "colab": {
          "base_uri": "https://localhost:8080/"
        },
        "id": "hmVwoUPBqOKI",
        "outputId": "065f7ceb-8888-4728-c97b-3cde7ac07605"
      },
      "outputs": [
        {
          "data": {
            "text/plain": [
              "((9986, 130, 13), (9986,))"
            ]
          },
          "execution_count": 8,
          "metadata": {},
          "output_type": "execute_result"
        }
      ],
      "source": [
        "X.shape,Y.shape "
      ]
    },
    {
      "cell_type": "code",
      "execution_count": 9,
      "metadata": {
        "colab": {
          "base_uri": "https://localhost:8080/"
        },
        "id": "7E_0A6TFqOKJ",
        "outputId": "15ca85e0-4fb4-4ed8-fd27-ff85e0c86b7e"
      },
      "outputs": [
        {
          "data": {
            "text/plain": [
              "array([[-2.42435989e+02,  1.02184860e+02, -9.91323471e+00, ...,\n",
              "        -3.95323563e+00, -2.40564466e+00, -2.38090611e+00],\n",
              "       [-2.12989746e+02,  1.03544777e+02, -1.08341732e+01, ...,\n",
              "        -5.81353188e+00,  2.64356732e+00, -2.80662107e+00],\n",
              "       [-1.95409332e+02,  1.04360657e+02, -1.85501546e-01, ...,\n",
              "        -1.08171635e+01, -5.88806152e-01, -5.28410530e+00],\n",
              "       ...,\n",
              "       [-1.24157700e+02,  6.37352219e+01,  2.11729393e+01, ...,\n",
              "        -1.65676613e+01,  1.37965145e+01, -2.31835365e+01],\n",
              "       [-1.11283928e+02,  6.05447235e+01,  1.33710301e+00, ...,\n",
              "        -1.22842140e+01,  1.48256054e+01, -1.58052368e+01],\n",
              "       [-1.31811951e+02,  6.65644531e+01, -7.93185902e+00, ...,\n",
              "        -8.66252136e+00,  1.16732750e+01, -8.72385693e+00]])"
            ]
          },
          "execution_count": 9,
          "metadata": {},
          "output_type": "execute_result"
        }
      ],
      "source": [
        "X[0]"
      ]
    },
    {
      "cell_type": "code",
      "execution_count": 10,
      "metadata": {
        "colab": {
          "base_uri": "https://localhost:8080/"
        },
        "id": "MS008POnqOKJ",
        "outputId": "266415e5-c164-410f-97f7-7bb4bf7290c2"
      },
      "outputs": [
        {
          "data": {
            "text/plain": [
              "0"
            ]
          },
          "execution_count": 10,
          "metadata": {},
          "output_type": "execute_result"
        }
      ],
      "source": [
        "Y[0]"
      ]
    },
    {
      "cell_type": "markdown",
      "metadata": {
        "id": "Z100KFw-qOKK"
      },
      "source": [
        "SIMPLE ANN"
      ]
    },
    {
      "cell_type": "code",
      "execution_count": 13,
      "metadata": {
        "id": "F_FjnjqUqOKL"
      },
      "outputs": [],
      "source": [
        "ann_model=keras.models.Sequential([\n",
        "    #input layer\n",
        "    keras.layers.Flatten(input_shape=(X.shape[1], X.shape[2])),\n",
        "    \n",
        "    keras.layers.Dense(512,activation=\"relu\"),\n",
        "    keras.layers.Dropout(0.25),\n",
        "    \n",
        "    keras.layers.Dense(256,activation=\"relu\"),\n",
        "    keras.layers.Dropout(0.25),\n",
        "    keras.layers.Dense(64,activation=\"relu\"),\n",
        "    keras.layers.Dropout(0.25),\n",
        "    keras.layers.Dense(10,activation=\"softmax\")\n",
        "])"
      ]
    },
    {
      "cell_type": "code",
      "execution_count": 14,
      "metadata": {
        "id": "58pG9dvNqOKM"
      },
      "outputs": [],
      "source": [
        "optimiser=keras.optimizers.Adam(learning_rate=0.0001)\n",
        "ann_model.compile(loss=keras.losses.sparse_categorical_crossentropy, optimizer=optimiser,metrics=['accuracy'])"
      ]
    },
    {
      "cell_type": "code",
      "execution_count": 15,
      "metadata": {
        "colab": {
          "base_uri": "https://localhost:8080/"
        },
        "id": "wq-cFUviqOKN",
        "outputId": "1c038193-bf18-40d7-e53b-2b423a58b8ed"
      },
      "outputs": [
        {
          "name": "stdout",
          "output_type": "stream",
          "text": [
            "Model: \"sequential\"\n",
            "_________________________________________________________________\n",
            " Layer (type)                Output Shape              Param #   \n",
            "=================================================================\n",
            " flatten (Flatten)           (None, 1690)              0         \n",
            "                                                                 \n",
            " dense (Dense)               (None, 512)               865792    \n",
            "                                                                 \n",
            " dropout (Dropout)           (None, 512)               0         \n",
            "                                                                 \n",
            " dense_1 (Dense)             (None, 256)               131328    \n",
            "                                                                 \n",
            " dropout_1 (Dropout)         (None, 256)               0         \n",
            "                                                                 \n",
            " dense_2 (Dense)             (None, 64)                16448     \n",
            "                                                                 \n",
            " dropout_2 (Dropout)         (None, 64)                0         \n",
            "                                                                 \n",
            " dense_3 (Dense)             (None, 10)                650       \n",
            "                                                                 \n",
            "=================================================================\n",
            "Total params: 1,014,218\n",
            "Trainable params: 1,014,218\n",
            "Non-trainable params: 0\n",
            "_________________________________________________________________\n"
          ]
        }
      ],
      "source": [
        "ann_model.summary()"
      ]
    },
    {
      "cell_type": "code",
      "execution_count": 16,
      "metadata": {
        "colab": {
          "base_uri": "https://localhost:8080/"
        },
        "id": "IQXwDKIfqOKN",
        "outputId": "ccd6037e-ef36-4e65-e71c-aa90cbf9eb3a"
      },
      "outputs": [
        {
          "name": "stdout",
          "output_type": "stream",
          "text": [
            "Epoch 1/100\n",
            "210/210 [==============================] - 5s 7ms/step - loss: 15.5882 - accuracy: 0.1589 - val_loss: 2.2328 - val_accuracy: 0.2145\n",
            "Epoch 2/100\n",
            "210/210 [==============================] - 1s 6ms/step - loss: 3.9859 - accuracy: 0.1632 - val_loss: 2.2344 - val_accuracy: 0.1690\n",
            "Epoch 3/100\n",
            "210/210 [==============================] - 1s 6ms/step - loss: 2.8061 - accuracy: 0.1393 - val_loss: 2.2890 - val_accuracy: 0.1144\n",
            "Epoch 4/100\n",
            "210/210 [==============================] - 1s 6ms/step - loss: 2.5438 - accuracy: 0.1390 - val_loss: 2.2727 - val_accuracy: 0.1262\n",
            "Epoch 5/100\n",
            "210/210 [==============================] - 1s 6ms/step - loss: 2.4202 - accuracy: 0.1447 - val_loss: 2.2607 - val_accuracy: 0.1296\n",
            "Epoch 6/100\n",
            "210/210 [==============================] - 1s 6ms/step - loss: 2.3682 - accuracy: 0.1466 - val_loss: 2.2526 - val_accuracy: 0.1320\n",
            "Epoch 7/100\n",
            "210/210 [==============================] - 1s 6ms/step - loss: 2.3098 - accuracy: 0.1593 - val_loss: 2.2209 - val_accuracy: 0.1493\n",
            "Epoch 8/100\n",
            "210/210 [==============================] - 1s 6ms/step - loss: 2.3030 - accuracy: 0.1559 - val_loss: 2.2204 - val_accuracy: 0.1471\n",
            "Epoch 9/100\n",
            "210/210 [==============================] - 1s 6ms/step - loss: 2.2746 - accuracy: 0.1619 - val_loss: 2.1947 - val_accuracy: 0.1629\n",
            "Epoch 10/100\n",
            "210/210 [==============================] - 1s 6ms/step - loss: 2.2767 - accuracy: 0.1777 - val_loss: 2.2035 - val_accuracy: 0.1547\n",
            "Epoch 11/100\n",
            "210/210 [==============================] - 1s 6ms/step - loss: 2.2309 - accuracy: 0.1734 - val_loss: 2.1588 - val_accuracy: 0.1814\n",
            "Epoch 12/100\n",
            "210/210 [==============================] - 1s 6ms/step - loss: 2.2121 - accuracy: 0.1859 - val_loss: 2.1342 - val_accuracy: 0.2005\n",
            "Epoch 13/100\n",
            "210/210 [==============================] - 1s 6ms/step - loss: 2.1922 - accuracy: 0.2079 - val_loss: 2.0411 - val_accuracy: 0.2670\n",
            "Epoch 14/100\n",
            "210/210 [==============================] - 1s 6ms/step - loss: 2.1184 - accuracy: 0.2368 - val_loss: 1.9907 - val_accuracy: 0.2837\n",
            "Epoch 15/100\n",
            "210/210 [==============================] - 1s 6ms/step - loss: 2.0945 - accuracy: 0.2550 - val_loss: 2.0331 - val_accuracy: 0.2609\n",
            "Epoch 16/100\n",
            "210/210 [==============================] - 1s 6ms/step - loss: 2.0866 - accuracy: 0.2460 - val_loss: 1.9910 - val_accuracy: 0.2928\n",
            "Epoch 17/100\n",
            "210/210 [==============================] - 1s 6ms/step - loss: 2.0768 - accuracy: 0.2501 - val_loss: 1.9936 - val_accuracy: 0.2688\n",
            "Epoch 18/100\n",
            "210/210 [==============================] - 1s 6ms/step - loss: 2.0542 - accuracy: 0.2549 - val_loss: 1.9739 - val_accuracy: 0.2834\n",
            "Epoch 19/100\n",
            "210/210 [==============================] - 1s 6ms/step - loss: 2.0136 - accuracy: 0.2717 - val_loss: 1.9429 - val_accuracy: 0.2949\n",
            "Epoch 20/100\n",
            "210/210 [==============================] - 1s 6ms/step - loss: 2.0051 - accuracy: 0.2762 - val_loss: 1.9200 - val_accuracy: 0.3231\n",
            "Epoch 21/100\n",
            "210/210 [==============================] - 1s 5ms/step - loss: 2.0065 - accuracy: 0.2767 - val_loss: 1.9575 - val_accuracy: 0.2879\n",
            "Epoch 22/100\n",
            "210/210 [==============================] - 1s 6ms/step - loss: 1.9857 - accuracy: 0.2768 - val_loss: 1.9114 - val_accuracy: 0.3152\n",
            "Epoch 23/100\n",
            "210/210 [==============================] - 1s 6ms/step - loss: 1.9443 - accuracy: 0.2845 - val_loss: 1.8932 - val_accuracy: 0.3213\n",
            "Epoch 24/100\n",
            "210/210 [==============================] - 1s 6ms/step - loss: 1.9556 - accuracy: 0.2877 - val_loss: 1.8526 - val_accuracy: 0.3404\n",
            "Epoch 25/100\n",
            "210/210 [==============================] - 1s 5ms/step - loss: 1.9030 - accuracy: 0.2952 - val_loss: 1.8434 - val_accuracy: 0.3271\n",
            "Epoch 26/100\n",
            "210/210 [==============================] - 1s 5ms/step - loss: 1.9089 - accuracy: 0.2937 - val_loss: 1.8321 - val_accuracy: 0.3383\n",
            "Epoch 27/100\n",
            "210/210 [==============================] - 2s 8ms/step - loss: 1.8933 - accuracy: 0.2991 - val_loss: 1.8374 - val_accuracy: 0.3477\n",
            "Epoch 28/100\n",
            "210/210 [==============================] - 2s 7ms/step - loss: 1.8911 - accuracy: 0.3037 - val_loss: 1.8419 - val_accuracy: 0.3428\n",
            "Epoch 29/100\n",
            "210/210 [==============================] - 1s 5ms/step - loss: 1.8622 - accuracy: 0.3141 - val_loss: 1.8149 - val_accuracy: 0.3419\n",
            "Epoch 30/100\n",
            "210/210 [==============================] - 1s 6ms/step - loss: 1.8595 - accuracy: 0.3087 - val_loss: 1.8225 - val_accuracy: 0.3516\n",
            "Epoch 31/100\n",
            "210/210 [==============================] - 1s 6ms/step - loss: 1.8609 - accuracy: 0.3181 - val_loss: 1.8300 - val_accuracy: 0.3447\n",
            "Epoch 32/100\n",
            "210/210 [==============================] - 1s 6ms/step - loss: 1.8275 - accuracy: 0.3202 - val_loss: 1.8093 - val_accuracy: 0.3504\n",
            "Epoch 33/100\n",
            "210/210 [==============================] - 1s 6ms/step - loss: 1.8357 - accuracy: 0.3139 - val_loss: 1.8151 - val_accuracy: 0.3371\n",
            "Epoch 34/100\n",
            "210/210 [==============================] - 1s 6ms/step - loss: 1.8180 - accuracy: 0.3145 - val_loss: 1.8301 - val_accuracy: 0.3662\n",
            "Epoch 35/100\n",
            "210/210 [==============================] - 1s 6ms/step - loss: 1.7994 - accuracy: 0.3277 - val_loss: 1.7836 - val_accuracy: 0.3595\n",
            "Epoch 36/100\n",
            "210/210 [==============================] - 1s 5ms/step - loss: 1.7728 - accuracy: 0.3288 - val_loss: 1.7723 - val_accuracy: 0.3680\n",
            "Epoch 37/100\n",
            "210/210 [==============================] - 1s 5ms/step - loss: 1.7494 - accuracy: 0.3384 - val_loss: 1.7352 - val_accuracy: 0.3735\n",
            "Epoch 38/100\n",
            "210/210 [==============================] - 1s 6ms/step - loss: 1.7531 - accuracy: 0.3356 - val_loss: 1.7150 - val_accuracy: 0.3635\n",
            "Epoch 39/100\n",
            "210/210 [==============================] - 1s 6ms/step - loss: 1.7428 - accuracy: 0.3335 - val_loss: 1.7404 - val_accuracy: 0.3674\n",
            "Epoch 40/100\n",
            "210/210 [==============================] - 1s 6ms/step - loss: 1.7128 - accuracy: 0.3558 - val_loss: 1.7122 - val_accuracy: 0.3768\n",
            "Epoch 41/100\n",
            "210/210 [==============================] - 1s 6ms/step - loss: 1.6985 - accuracy: 0.3611 - val_loss: 1.6861 - val_accuracy: 0.3938\n",
            "Epoch 42/100\n",
            "210/210 [==============================] - 1s 5ms/step - loss: 1.6940 - accuracy: 0.3628 - val_loss: 1.7347 - val_accuracy: 0.3877\n",
            "Epoch 43/100\n",
            "210/210 [==============================] - 1s 6ms/step - loss: 1.6679 - accuracy: 0.3749 - val_loss: 1.6893 - val_accuracy: 0.4020\n",
            "Epoch 44/100\n",
            "210/210 [==============================] - 1s 6ms/step - loss: 1.6386 - accuracy: 0.3931 - val_loss: 1.6589 - val_accuracy: 0.4084\n",
            "Epoch 45/100\n",
            "210/210 [==============================] - 1s 6ms/step - loss: 1.6124 - accuracy: 0.3854 - val_loss: 1.6325 - val_accuracy: 0.4141\n",
            "Epoch 46/100\n",
            "210/210 [==============================] - 1s 6ms/step - loss: 1.6050 - accuracy: 0.3865 - val_loss: 1.6492 - val_accuracy: 0.4275\n",
            "Epoch 47/100\n",
            "210/210 [==============================] - 1s 6ms/step - loss: 1.5721 - accuracy: 0.4034 - val_loss: 1.6238 - val_accuracy: 0.4360\n",
            "Epoch 48/100\n",
            "210/210 [==============================] - 1s 6ms/step - loss: 1.5742 - accuracy: 0.4152 - val_loss: 1.6440 - val_accuracy: 0.4360\n",
            "Epoch 49/100\n",
            "210/210 [==============================] - 1s 5ms/step - loss: 1.5346 - accuracy: 0.4200 - val_loss: 1.5714 - val_accuracy: 0.4475\n",
            "Epoch 50/100\n",
            "210/210 [==============================] - 1s 6ms/step - loss: 1.5289 - accuracy: 0.4193 - val_loss: 1.5461 - val_accuracy: 0.4609\n",
            "Epoch 51/100\n",
            "210/210 [==============================] - 1s 6ms/step - loss: 1.5105 - accuracy: 0.4297 - val_loss: 1.5670 - val_accuracy: 0.4508\n",
            "Epoch 52/100\n",
            "210/210 [==============================] - 1s 6ms/step - loss: 1.4776 - accuracy: 0.4271 - val_loss: 1.5494 - val_accuracy: 0.4675\n",
            "Epoch 53/100\n",
            "210/210 [==============================] - 1s 6ms/step - loss: 1.4584 - accuracy: 0.4604 - val_loss: 1.5395 - val_accuracy: 0.4745\n",
            "Epoch 54/100\n",
            "210/210 [==============================] - 1s 6ms/step - loss: 1.4349 - accuracy: 0.4513 - val_loss: 1.5370 - val_accuracy: 0.4663\n",
            "Epoch 55/100\n",
            "210/210 [==============================] - 1s 6ms/step - loss: 1.4249 - accuracy: 0.4643 - val_loss: 1.5653 - val_accuracy: 0.4715\n",
            "Epoch 56/100\n",
            "210/210 [==============================] - 1s 6ms/step - loss: 1.3969 - accuracy: 0.4779 - val_loss: 1.5063 - val_accuracy: 0.4842\n",
            "Epoch 57/100\n",
            "210/210 [==============================] - 1s 6ms/step - loss: 1.3837 - accuracy: 0.4747 - val_loss: 1.5277 - val_accuracy: 0.4909\n",
            "Epoch 58/100\n",
            "210/210 [==============================] - 1s 6ms/step - loss: 1.3630 - accuracy: 0.4859 - val_loss: 1.4969 - val_accuracy: 0.5133\n",
            "Epoch 59/100\n",
            "210/210 [==============================] - 1s 6ms/step - loss: 1.3618 - accuracy: 0.4870 - val_loss: 1.5439 - val_accuracy: 0.5055\n",
            "Epoch 60/100\n",
            "210/210 [==============================] - 1s 6ms/step - loss: 1.3152 - accuracy: 0.4963 - val_loss: 1.5193 - val_accuracy: 0.5070\n",
            "Epoch 61/100\n",
            "210/210 [==============================] - 1s 6ms/step - loss: 1.3315 - accuracy: 0.5087 - val_loss: 1.5212 - val_accuracy: 0.5088\n",
            "Epoch 62/100\n",
            "210/210 [==============================] - 1s 6ms/step - loss: 1.2931 - accuracy: 0.5114 - val_loss: 1.4883 - val_accuracy: 0.5115\n",
            "Epoch 63/100\n",
            "210/210 [==============================] - 1s 6ms/step - loss: 1.2799 - accuracy: 0.5244 - val_loss: 1.4485 - val_accuracy: 0.5237\n",
            "Epoch 64/100\n",
            "210/210 [==============================] - 1s 6ms/step - loss: 1.3121 - accuracy: 0.5133 - val_loss: 1.4983 - val_accuracy: 0.5152\n",
            "Epoch 65/100\n",
            "210/210 [==============================] - 1s 6ms/step - loss: 1.2569 - accuracy: 0.5271 - val_loss: 1.4831 - val_accuracy: 0.5218\n",
            "Epoch 66/100\n",
            "210/210 [==============================] - 1s 6ms/step - loss: 1.2399 - accuracy: 0.5330 - val_loss: 1.4645 - val_accuracy: 0.5097\n",
            "Epoch 67/100\n",
            "210/210 [==============================] - 1s 6ms/step - loss: 1.2189 - accuracy: 0.5384 - val_loss: 1.5029 - val_accuracy: 0.5182\n",
            "Epoch 68/100\n",
            "210/210 [==============================] - 1s 6ms/step - loss: 1.1993 - accuracy: 0.5469 - val_loss: 1.4911 - val_accuracy: 0.5361\n",
            "Epoch 69/100\n",
            "210/210 [==============================] - 1s 6ms/step - loss: 1.1911 - accuracy: 0.5537 - val_loss: 1.5232 - val_accuracy: 0.5358\n",
            "Epoch 70/100\n",
            "210/210 [==============================] - 1s 6ms/step - loss: 1.1859 - accuracy: 0.5561 - val_loss: 1.4632 - val_accuracy: 0.5382\n",
            "Epoch 71/100\n",
            "210/210 [==============================] - 1s 6ms/step - loss: 1.1514 - accuracy: 0.5647 - val_loss: 1.5397 - val_accuracy: 0.5328\n",
            "Epoch 72/100\n",
            "210/210 [==============================] - 1s 6ms/step - loss: 1.1490 - accuracy: 0.5640 - val_loss: 1.6033 - val_accuracy: 0.5112\n",
            "Epoch 73/100\n",
            "210/210 [==============================] - 1s 6ms/step - loss: 1.1389 - accuracy: 0.5762 - val_loss: 1.5093 - val_accuracy: 0.5322\n",
            "Epoch 74/100\n",
            "210/210 [==============================] - 1s 6ms/step - loss: 1.1104 - accuracy: 0.5901 - val_loss: 1.4787 - val_accuracy: 0.5331\n",
            "Epoch 75/100\n",
            "210/210 [==============================] - 1s 6ms/step - loss: 1.1051 - accuracy: 0.5859 - val_loss: 1.4830 - val_accuracy: 0.5516\n",
            "Epoch 76/100\n",
            "210/210 [==============================] - 1s 6ms/step - loss: 1.0947 - accuracy: 0.5864 - val_loss: 1.5911 - val_accuracy: 0.5413\n",
            "Epoch 77/100\n",
            "210/210 [==============================] - 1s 6ms/step - loss: 1.0684 - accuracy: 0.5987 - val_loss: 1.5824 - val_accuracy: 0.5410\n",
            "Epoch 78/100\n",
            "210/210 [==============================] - 1s 6ms/step - loss: 1.0518 - accuracy: 0.6067 - val_loss: 1.4995 - val_accuracy: 0.5546\n",
            "Epoch 79/100\n",
            "210/210 [==============================] - 1s 6ms/step - loss: 1.0679 - accuracy: 0.6051 - val_loss: 1.4380 - val_accuracy: 0.5516\n",
            "Epoch 80/100\n",
            "210/210 [==============================] - 1s 6ms/step - loss: 1.0549 - accuracy: 0.6007 - val_loss: 1.5044 - val_accuracy: 0.5449\n",
            "Epoch 81/100\n",
            "210/210 [==============================] - 1s 6ms/step - loss: 1.0195 - accuracy: 0.6175 - val_loss: 1.5670 - val_accuracy: 0.5382\n",
            "Epoch 82/100\n",
            "210/210 [==============================] - 1s 6ms/step - loss: 1.0153 - accuracy: 0.6212 - val_loss: 1.5446 - val_accuracy: 0.5534\n",
            "Epoch 83/100\n",
            "210/210 [==============================] - 1s 6ms/step - loss: 1.0021 - accuracy: 0.6251 - val_loss: 1.5908 - val_accuracy: 0.5476\n",
            "Epoch 84/100\n",
            "210/210 [==============================] - 1s 6ms/step - loss: 1.0069 - accuracy: 0.6274 - val_loss: 1.4531 - val_accuracy: 0.5607\n",
            "Epoch 85/100\n",
            "210/210 [==============================] - 1s 6ms/step - loss: 0.9664 - accuracy: 0.6389 - val_loss: 1.5865 - val_accuracy: 0.5546\n",
            "Epoch 86/100\n",
            "210/210 [==============================] - 1s 6ms/step - loss: 0.9763 - accuracy: 0.6399 - val_loss: 1.6259 - val_accuracy: 0.5628\n",
            "Epoch 87/100\n",
            "210/210 [==============================] - 1s 6ms/step - loss: 0.9419 - accuracy: 0.6475 - val_loss: 1.5581 - val_accuracy: 0.5628\n",
            "Epoch 88/100\n",
            "210/210 [==============================] - 1s 6ms/step - loss: 0.9361 - accuracy: 0.6556 - val_loss: 1.5645 - val_accuracy: 0.5667\n",
            "Epoch 89/100\n",
            "210/210 [==============================] - 1s 6ms/step - loss: 0.9131 - accuracy: 0.6617 - val_loss: 1.6291 - val_accuracy: 0.5631\n",
            "Epoch 90/100\n",
            "210/210 [==============================] - 1s 6ms/step - loss: 0.9110 - accuracy: 0.6613 - val_loss: 1.5955 - val_accuracy: 0.5631\n",
            "Epoch 91/100\n",
            "210/210 [==============================] - 1s 6ms/step - loss: 0.9031 - accuracy: 0.6707 - val_loss: 1.5216 - val_accuracy: 0.5731\n",
            "Epoch 92/100\n",
            "210/210 [==============================] - 1s 6ms/step - loss: 0.8830 - accuracy: 0.6747 - val_loss: 1.5816 - val_accuracy: 0.5586\n",
            "Epoch 93/100\n",
            "210/210 [==============================] - 1s 6ms/step - loss: 0.8857 - accuracy: 0.6755 - val_loss: 1.6226 - val_accuracy: 0.5619\n",
            "Epoch 94/100\n",
            "210/210 [==============================] - 1s 6ms/step - loss: 0.8653 - accuracy: 0.6762 - val_loss: 1.5688 - val_accuracy: 0.5664\n",
            "Epoch 95/100\n",
            "210/210 [==============================] - 1s 6ms/step - loss: 0.8855 - accuracy: 0.6795 - val_loss: 1.6388 - val_accuracy: 0.5725\n",
            "Epoch 96/100\n",
            "210/210 [==============================] - 1s 6ms/step - loss: 0.8679 - accuracy: 0.6843 - val_loss: 1.6999 - val_accuracy: 0.5643\n",
            "Epoch 97/100\n",
            "210/210 [==============================] - 1s 6ms/step - loss: 0.8372 - accuracy: 0.6836 - val_loss: 1.6024 - val_accuracy: 0.5810\n",
            "Epoch 98/100\n",
            "210/210 [==============================] - 1s 6ms/step - loss: 0.8299 - accuracy: 0.6984 - val_loss: 1.7337 - val_accuracy: 0.5695\n",
            "Epoch 99/100\n",
            "210/210 [==============================] - 1s 6ms/step - loss: 0.8185 - accuracy: 0.7087 - val_loss: 1.6942 - val_accuracy: 0.5783\n",
            "Epoch 100/100\n",
            "210/210 [==============================] - 1s 6ms/step - loss: 0.8240 - accuracy: 0.6936 - val_loss: 1.7118 - val_accuracy: 0.5646\n"
          ]
        }
      ],
      "source": [
        "ann_history=ann_model.fit(x_train,y_train,validation_data=(x_test,y_test),batch_size=32,epochs=100,verbose=1)"
      ]
    },
    {
      "cell_type": "code",
      "execution_count": 17,
      "metadata": {
        "id": "lE7Bp_W2S5zG"
      },
      "outputs": [],
      "source": [
        "ann_model.save(\"ann_model.h5\")"
      ]
    },
    {
      "cell_type": "code",
      "execution_count": 18,
      "metadata": {
        "id": "L1FBESoPqOKO"
      },
      "outputs": [],
      "source": [
        "def plot_accuracy_error(history):\n",
        "    fig,axis=plt.subplots(2)\n",
        "    \n",
        "    fig.set_size_inches(10,8)\n",
        "    axis[0].plot(history.history[\"accuracy\"],label=\"train_accuracy\")\n",
        "    axis[0].plot(history.history[\"val_accuracy\"],label=\"val_accuracy\")\n",
        "    axis[0].set_ylabel(\"Accuracy\")\n",
        "    axis[0].legend(loc=\"lower right\")\n",
        "    axis[0].set_title(\"Accuracy eval\")\n",
        "   \n",
        "   \n",
        "   \n",
        "    axis[1].plot(history.history[\"loss\"],label=\"train_error\")\n",
        "    axis[1].plot(history.history[\"val_loss\"],label=\"val_error\")\n",
        "    axis[1].set_ylabel(\"Error\")\n",
        "    axis[1].set_xlabel(\"Epoch\")\n",
        "    axis[1].legend(loc=\"upper right\")\n",
        "    axis[1].set_title(\"Error eval\")\n",
        "    \n",
        "    plt.show()    \n",
        "       "
      ]
    },
    {
      "cell_type": "code",
      "execution_count": 19,
      "metadata": {
        "colab": {
          "base_uri": "https://localhost:8080/",
          "height": 513
        },
        "id": "EVxR_vzAqOKO",
        "outputId": "880a5901-3574-4493-8c5e-cd1568f00d7a"
      },
      "outputs": [
        {
          "data": {
            "image/png": "[encoded data removed]",
            "text/plain": [
              "<Figure size 720x576 with 2 Axes>"
            ]
          },
          "metadata": {
            "needs_background": "light"
          },
          "output_type": "display_data"
        }
      ],
      "source": [
        "plot_accuracy_error(ann_history)"
      ]
    },
    {
      "cell_type": "markdown",
      "metadata": {
        "id": "dQ9cV2Z_qOKP"
      },
      "source": [
        "CREATING CNN MODEL"
      ]
    },
    {
      "cell_type": "code",
      "execution_count": 11,
      "metadata": {
        "id": "6nw793qUqOKP"
      },
      "outputs": [],
      "source": [
        "X=X.reshape(-1,X.shape[1],X.shape[2],1)\n",
        "Y=Y.reshape(-1,1)"
      ]
    },
    {
      "cell_type": "code",
      "execution_count": 12,
      "metadata": {
        "colab": {
          "base_uri": "https://localhost:8080/"
        },
        "id": "FLD__xT9qOKP",
        "outputId": "78697bd4-87ba-4786-8b24-6902007aa9cc"
      },
      "outputs": [
        {
          "data": {
            "text/plain": [
              "((9986, 130, 13, 1), (9986, 1))"
            ]
          },
          "execution_count": 12,
          "metadata": {},
          "output_type": "execute_result"
        }
      ],
      "source": [
        "X.shape,Y.shape"
      ]
    },
    {
      "cell_type": "code",
      "execution_count": 13,
      "metadata": {
        "id": "Iu1N8JUHqOKQ"
      },
      "outputs": [],
      "source": [
        "cnn_x_train,cnn_x_test_,cnn_y_train,cnn_y_test_ = train_test_split(X,Y,random_state=56,shuffle=True,stratify=Y,test_size=0.25)\n",
        "cnn_x_val,cnn_x_test,cnn_y_val,cnn_y_test = train_test_split(cnn_x_test_,cnn_y_test_,random_state=89,shuffle=True,stratify=cnn_y_test_,test_size=0.2)"
      ]
    },
    {
      "cell_type": "code",
      "execution_count": 14,
      "metadata": {
        "colab": {
          "base_uri": "https://localhost:8080/"
        },
        "id": "MwMVHj-SqOKQ",
        "outputId": "4ca986fb-6445-4b84-f7e5-7314ee20294b"
      },
      "outputs": [
        {
          "data": {
            "text/plain": [
              "((2497, 1), (2497, 130, 13, 1))"
            ]
          },
          "execution_count": 14,
          "metadata": {},
          "output_type": "execute_result"
        }
      ],
      "source": [
        "cnn_y_test_.shape,cnn_x_test_.shape"
      ]
    },
    {
      "cell_type": "code",
      "execution_count": 15,
      "metadata": {
        "colab": {
          "base_uri": "https://localhost:8080/"
        },
        "id": "ZV1wRz2wqOKQ",
        "outputId": "51d8e671-9c9f-42fe-eaaa-73082a151e57"
      },
      "outputs": [
        {
          "data": {
            "text/plain": [
              "(9986, 130, 13)"
            ]
          },
          "execution_count": 15,
          "metadata": {},
          "output_type": "execute_result"
        }
      ],
      "source": [
        "X.shape[0],X.shape[1],X.shape[2] "
      ]
    },
    {
      "cell_type": "code",
      "execution_count": 16,
      "metadata": {
        "id": "QjHV1kuxqOKR"
      },
      "outputs": [],
      "source": [
        "keras.backend.set_image_data_format('channels_last')\n"
      ]
    },
    {
      "cell_type": "code",
      "execution_count": 17,
      "metadata": {
        "colab": {
          "base_uri": "https://localhost:8080/"
        },
        "id": "BMB6AQU_qOKR",
        "outputId": "de364f43-da80-467a-ea82-9f67ed1412a0"
      },
      "outputs": [
        {
          "data": {
            "text/plain": [
              "(130, 13, 1)"
            ]
          },
          "execution_count": 17,
          "metadata": {},
          "output_type": "execute_result"
        }
      ],
      "source": [
        "input_shape=(X.shape[1],X.shape[2],1)\n",
        "input_shape"
      ]
    },
    {
      "cell_type": "code",
      "execution_count": 29,
      "metadata": {
        "id": "4Xqg10IvqOKR"
      },
      "outputs": [],
      "source": [
        "def create_model():\n",
        "    cnn_model=keras.models.Sequential()\n",
        "    cnn_model.add(keras.layers.Conv2D(64,(3,3),activation='relu',input_shape=input_shape))\n",
        "    cnn_model.add(keras.layers.MaxPooling2D((2,4),strides=(2,2),padding=\"same\",))\n",
        "    cnn_model.add(keras.layers.BatchNormalization())\n",
        "      \n",
        "      \n",
        "    cnn_model.add(keras.layers.Conv2D(128,(2,2),activation='relu'))\n",
        "    cnn_model.add(keras.layers.MaxPooling2D((2,4),strides=(2,2),padding=\"same\")),\n",
        "    cnn_model.add(keras.layers.BatchNormalization())\n",
        "   \n",
        "    cnn_model.add(keras.layers.Dropout(0.4))\n",
        "   \n",
        "    cnn_model.add(keras.layers.Conv2D(64,(2,2),activation='relu'))\n",
        "    cnn_model.add(keras.layers.MaxPooling2D((2,2),strides=(2,2),padding=\"same\")),\n",
        "    cnn_model.add(keras.layers.BatchNormalization())      \n",
        " \n",
        "    \n",
        "    cnn_model.add(keras.layers.Dropout(0.2))\n",
        "                \n",
        "    cnn_model.add( keras.layers.Flatten())\n",
        "    cnn_model.add(keras.layers.Dense(512,activation='relu',kernel_regularizer=keras.regularizers.l2(0.1)))\n",
        "    cnn_model.add(keras.layers.Dropout(0.5))\n",
        "    cnn_model.add(keras.layers.Dense(128,activation='relu',kernel_regularizer=keras.regularizers.l2(0.1)))\n",
        "    cnn_model.add(keras.layers.Dropout(0.4))\n",
        "    cnn_model.add(keras.layers.Dense(10,activation='softmax'))\n",
        "      \n",
        "    cnn_optimiser=keras.optimizers.Adam(learning_rate=0.0005)\n",
        "\n",
        "    cnn_model.compile(loss=keras.losses.sparse_categorical_crossentropy,optimizer=cnn_optimiser,metrics=['accuracy'])   \n",
        "    return cnn_model\n",
        "     "
      ]
    },
    {
      "cell_type": "code",
      "execution_count": 30,
      "metadata": {
        "colab": {
          "base_uri": "https://localhost:8080/"
        },
        "id": "SNfoftX7qOKS",
        "outputId": "3174c0bd-d357-470e-f140-2ab3e1f4afd4"
      },
      "outputs": [
        {
          "name": "stdout",
          "output_type": "stream",
          "text": [
            "Model: \"sequential_2\"\n",
            "_________________________________________________________________\n",
            " Layer (type)                Output Shape              Param #   \n",
            "=================================================================\n",
            " conv2d_4 (Conv2D)           (None, 128, 11, 64)       640       \n",
            "                                                                 \n",
            " max_pooling2d_3 (MaxPooling  (None, 64, 6, 64)        0         \n",
            " 2D)                                                             \n",
            "                                                                 \n",
            " batch_normalization_3 (Batc  (None, 64, 6, 64)        256       \n",
            " hNormalization)                                                 \n",
            "                                                                 \n",
            " conv2d_5 (Conv2D)           (None, 63, 5, 128)        32896     \n",
            "                                                                 \n",
            " max_pooling2d_4 (MaxPooling  (None, 32, 3, 128)       0         \n",
            " 2D)                                                             \n",
            "                                                                 \n",
            " batch_normalization_4 (Batc  (None, 32, 3, 128)       512       \n",
            " hNormalization)                                                 \n",
            "                                                                 \n",
            " dropout_5 (Dropout)         (None, 32, 3, 128)        0         \n",
            "                                                                 \n",
            " conv2d_6 (Conv2D)           (None, 31, 2, 64)         32832     \n",
            "                                                                 \n",
            " max_pooling2d_5 (MaxPooling  (None, 16, 1, 64)        0         \n",
            " 2D)                                                             \n",
            "                                                                 \n",
            " batch_normalization_5 (Batc  (None, 16, 1, 64)        256       \n",
            " hNormalization)                                                 \n",
            "                                                                 \n",
            " dropout_6 (Dropout)         (None, 16, 1, 64)         0         \n",
            "                                                                 \n",
            " flatten_1 (Flatten)         (None, 1024)              0         \n",
            "                                                                 \n",
            " dense_4 (Dense)             (None, 512)               524800    \n",
            "                                                                 \n",
            " dropout_7 (Dropout)         (None, 512)               0         \n",
            "                                                                 \n",
            " dense_5 (Dense)             (None, 128)               65664     \n",
            "                                                                 \n",
            " dropout_8 (Dropout)         (None, 128)               0         \n",
            "                                                                 \n",
            " dense_6 (Dense)             (None, 10)                1290      \n",
            "                                                                 \n",
            "=================================================================\n",
            "Total params: 659,146\n",
            "Trainable params: 658,634\n",
            "Non-trainable params: 512\n",
            "_________________________________________________________________\n"
          ]
        }
      ],
      "source": [
        "cnn_model=create_model()\n",
        "cnn_model.summary()"
      ]
    },
    {
      "cell_type": "code",
      "execution_count": 31,
      "metadata": {
        "colab": {
          "base_uri": "https://localhost:8080/"
        },
        "id": "i10WXlItqOKS",
        "outputId": "6e006ec5-33f9-4c5d-9781-b54a72b17503"
      },
      "outputs": [
        {
          "name": "stdout",
          "output_type": "stream",
          "text": [
            "Epoch 1/250\n",
            "235/235 [==============================] - 14s 15ms/step - loss: 29.2140 - accuracy: 0.3481 - val_loss: 4.3779 - val_accuracy: 0.4842\n",
            "Epoch 2/250\n",
            "235/235 [==============================] - 3s 12ms/step - loss: 2.4908 - accuracy: 0.4792 - val_loss: 1.7395 - val_accuracy: 0.5528\n",
            "Epoch 3/250\n",
            "235/235 [==============================] - 3s 12ms/step - loss: 1.7573 - accuracy: 0.5194 - val_loss: 1.6836 - val_accuracy: 0.5423\n",
            "Epoch 4/250\n",
            "235/235 [==============================] - 3s 12ms/step - loss: 1.6638 - accuracy: 0.5567 - val_loss: 1.5880 - val_accuracy: 0.6164\n",
            "Epoch 5/250\n",
            "235/235 [==============================] - 3s 12ms/step - loss: 1.6447 - accuracy: 0.5795 - val_loss: 1.6285 - val_accuracy: 0.5588\n",
            "Epoch 6/250\n",
            "235/235 [==============================] - 3s 12ms/step - loss: 1.6306 - accuracy: 0.5997 - val_loss: 1.6211 - val_accuracy: 0.5819\n",
            "Epoch 7/250\n",
            "235/235 [==============================] - 3s 12ms/step - loss: 1.6157 - accuracy: 0.6109 - val_loss: 1.5047 - val_accuracy: 0.6420\n",
            "Epoch 8/250\n",
            "235/235 [==============================] - 3s 12ms/step - loss: 1.6030 - accuracy: 0.6316 - val_loss: 1.5192 - val_accuracy: 0.6505\n",
            "Epoch 9/250\n",
            "235/235 [==============================] - 3s 12ms/step - loss: 1.5719 - accuracy: 0.6339 - val_loss: 1.4454 - val_accuracy: 0.6740\n",
            "Epoch 10/250\n",
            "235/235 [==============================] - 3s 12ms/step - loss: 1.6029 - accuracy: 0.6516 - val_loss: 1.4897 - val_accuracy: 0.6570\n",
            "Epoch 11/250\n",
            "235/235 [==============================] - 3s 12ms/step - loss: 1.5109 - accuracy: 0.6614 - val_loss: 1.6379 - val_accuracy: 0.5974\n",
            "Epoch 12/250\n",
            "235/235 [==============================] - 3s 12ms/step - loss: 1.5509 - accuracy: 0.6718 - val_loss: 1.3538 - val_accuracy: 0.6970\n",
            "Epoch 13/250\n",
            "235/235 [==============================] - 3s 12ms/step - loss: 1.5123 - accuracy: 0.6846 - val_loss: 1.5373 - val_accuracy: 0.6705\n",
            "Epoch 14/250\n",
            "235/235 [==============================] - 3s 12ms/step - loss: 1.4866 - accuracy: 0.6950 - val_loss: 1.4508 - val_accuracy: 0.6645\n",
            "Epoch 15/250\n",
            "235/235 [==============================] - 3s 12ms/step - loss: 1.4439 - accuracy: 0.7057 - val_loss: 1.2692 - val_accuracy: 0.7416\n",
            "Epoch 16/250\n",
            "235/235 [==============================] - 3s 12ms/step - loss: 1.5028 - accuracy: 0.7110 - val_loss: 1.3559 - val_accuracy: 0.7036\n",
            "Epoch 17/250\n",
            "235/235 [==============================] - 3s 12ms/step - loss: 1.4425 - accuracy: 0.7158 - val_loss: 1.3268 - val_accuracy: 0.7186\n",
            "Epoch 18/250\n",
            "235/235 [==============================] - 3s 12ms/step - loss: 1.4131 - accuracy: 0.7191 - val_loss: 1.2918 - val_accuracy: 0.7421\n",
            "Epoch 19/250\n",
            "235/235 [==============================] - 3s 12ms/step - loss: 1.3957 - accuracy: 0.7171 - val_loss: 1.2942 - val_accuracy: 0.7301\n",
            "Epoch 20/250\n",
            "235/235 [==============================] - 3s 12ms/step - loss: 1.3581 - accuracy: 0.7309 - val_loss: 1.2643 - val_accuracy: 0.7426\n",
            "Epoch 21/250\n",
            "235/235 [==============================] - 3s 12ms/step - loss: 1.3364 - accuracy: 0.7325 - val_loss: 1.1989 - val_accuracy: 0.7661\n",
            "Epoch 22/250\n",
            "235/235 [==============================] - 3s 12ms/step - loss: 1.4133 - accuracy: 0.7324 - val_loss: 1.2053 - val_accuracy: 0.7737\n",
            "Epoch 23/250\n",
            "235/235 [==============================] - 3s 12ms/step - loss: 1.3231 - accuracy: 0.7447 - val_loss: 1.3047 - val_accuracy: 0.7136\n",
            "Epoch 24/250\n",
            "235/235 [==============================] - 3s 12ms/step - loss: 1.3425 - accuracy: 0.7408 - val_loss: 1.2438 - val_accuracy: 0.7666\n",
            "Epoch 25/250\n",
            "235/235 [==============================] - 3s 12ms/step - loss: 1.3956 - accuracy: 0.7471 - val_loss: 1.2644 - val_accuracy: 0.7581\n",
            "Epoch 26/250\n",
            "235/235 [==============================] - 3s 12ms/step - loss: 1.3781 - accuracy: 0.7498 - val_loss: 1.2293 - val_accuracy: 0.7752\n",
            "Epoch 27/250\n",
            "235/235 [==============================] - 3s 12ms/step - loss: 1.4070 - accuracy: 0.7467 - val_loss: 1.2575 - val_accuracy: 0.7581\n",
            "Epoch 28/250\n",
            "235/235 [==============================] - 3s 12ms/step - loss: 1.2411 - accuracy: 0.7542 - val_loss: 1.2519 - val_accuracy: 0.7306\n",
            "Epoch 29/250\n",
            "235/235 [==============================] - 3s 12ms/step - loss: 1.2836 - accuracy: 0.7729 - val_loss: 1.1423 - val_accuracy: 0.7962\n",
            "Epoch 30/250\n",
            "235/235 [==============================] - 3s 12ms/step - loss: 1.3178 - accuracy: 0.7614 - val_loss: 1.1899 - val_accuracy: 0.7872\n",
            "Epoch 31/250\n",
            "235/235 [==============================] - 3s 12ms/step - loss: 1.2759 - accuracy: 0.7734 - val_loss: 1.2414 - val_accuracy: 0.7596\n",
            "Epoch 32/250\n",
            "235/235 [==============================] - 3s 12ms/step - loss: 1.2286 - accuracy: 0.7774 - val_loss: 1.3280 - val_accuracy: 0.7231\n",
            "Epoch 33/250\n",
            "235/235 [==============================] - 3s 12ms/step - loss: 1.2298 - accuracy: 0.7641 - val_loss: 1.2821 - val_accuracy: 0.7236\n",
            "Epoch 34/250\n",
            "235/235 [==============================] - 3s 12ms/step - loss: 1.2027 - accuracy: 0.7793 - val_loss: 1.1410 - val_accuracy: 0.7857\n",
            "Epoch 35/250\n",
            "235/235 [==============================] - 3s 12ms/step - loss: 1.2551 - accuracy: 0.7801 - val_loss: 1.1711 - val_accuracy: 0.7802\n",
            "Epoch 36/250\n",
            "235/235 [==============================] - 3s 12ms/step - loss: 1.2645 - accuracy: 0.7777 - val_loss: 1.1881 - val_accuracy: 0.7852\n",
            "Epoch 37/250\n",
            "235/235 [==============================] - 3s 12ms/step - loss: 1.3208 - accuracy: 0.7761 - val_loss: 1.2404 - val_accuracy: 0.7566\n",
            "Epoch 38/250\n",
            "235/235 [==============================] - 3s 12ms/step - loss: 1.1514 - accuracy: 0.7946 - val_loss: 1.1979 - val_accuracy: 0.7697\n",
            "Epoch 39/250\n",
            "235/235 [==============================] - 3s 12ms/step - loss: 1.2027 - accuracy: 0.7837 - val_loss: 1.2825 - val_accuracy: 0.7436\n",
            "Epoch 40/250\n",
            "235/235 [==============================] - 3s 12ms/step - loss: 1.3276 - accuracy: 0.7849 - val_loss: 1.1906 - val_accuracy: 0.7967\n",
            "Epoch 41/250\n",
            "235/235 [==============================] - 3s 12ms/step - loss: 1.3517 - accuracy: 0.7858 - val_loss: 1.2338 - val_accuracy: 0.7777\n",
            "Epoch 42/250\n",
            "235/235 [==============================] - 3s 12ms/step - loss: 1.2453 - accuracy: 0.7905 - val_loss: 1.2390 - val_accuracy: 0.7651\n",
            "Epoch 43/250\n",
            "235/235 [==============================] - 3s 12ms/step - loss: 1.2274 - accuracy: 0.7970 - val_loss: 1.1458 - val_accuracy: 0.7897\n",
            "Epoch 44/250\n",
            "235/235 [==============================] - 3s 12ms/step - loss: 1.2010 - accuracy: 0.8022 - val_loss: 1.0622 - val_accuracy: 0.8212\n",
            "Epoch 45/250\n",
            "235/235 [==============================] - 3s 12ms/step - loss: 1.2273 - accuracy: 0.7974 - val_loss: 1.0997 - val_accuracy: 0.8212\n",
            "Epoch 46/250\n",
            "235/235 [==============================] - 3s 12ms/step - loss: 1.2349 - accuracy: 0.7970 - val_loss: 1.1690 - val_accuracy: 0.7922\n",
            "Epoch 47/250\n",
            "235/235 [==============================] - 3s 12ms/step - loss: 1.3251 - accuracy: 0.7950 - val_loss: 1.1773 - val_accuracy: 0.7967\n",
            "Epoch 48/250\n",
            "235/235 [==============================] - 3s 12ms/step - loss: 1.2241 - accuracy: 0.8032 - val_loss: 1.2298 - val_accuracy: 0.7672\n",
            "Epoch 49/250\n",
            "235/235 [==============================] - 3s 12ms/step - loss: 1.2986 - accuracy: 0.8013 - val_loss: 1.1508 - val_accuracy: 0.7977\n",
            "Epoch 50/250\n",
            "235/235 [==============================] - 3s 12ms/step - loss: 1.1713 - accuracy: 0.8065 - val_loss: 1.0493 - val_accuracy: 0.8332\n",
            "Epoch 51/250\n",
            "235/235 [==============================] - 3s 12ms/step - loss: 1.2417 - accuracy: 0.8014 - val_loss: 1.1053 - val_accuracy: 0.8222\n",
            "Epoch 52/250\n",
            "235/235 [==============================] - 3s 12ms/step - loss: 1.1789 - accuracy: 0.8101 - val_loss: 1.1834 - val_accuracy: 0.7677\n",
            "Epoch 53/250\n",
            "235/235 [==============================] - 3s 12ms/step - loss: 1.1687 - accuracy: 0.8139 - val_loss: 1.0586 - val_accuracy: 0.8247\n",
            "Epoch 54/250\n",
            "235/235 [==============================] - 3s 12ms/step - loss: 1.2619 - accuracy: 0.8058 - val_loss: 1.1213 - val_accuracy: 0.8122\n",
            "Epoch 55/250\n",
            "235/235 [==============================] - 3s 12ms/step - loss: 1.2076 - accuracy: 0.8099 - val_loss: 1.0933 - val_accuracy: 0.8247\n",
            "Epoch 56/250\n",
            "235/235 [==============================] - 3s 12ms/step - loss: 1.2623 - accuracy: 0.8144 - val_loss: 1.0785 - val_accuracy: 0.8348\n",
            "Epoch 57/250\n",
            "235/235 [==============================] - 3s 12ms/step - loss: 1.1358 - accuracy: 0.8271 - val_loss: 1.0415 - val_accuracy: 0.8292\n",
            "Epoch 58/250\n",
            "235/235 [==============================] - 3s 12ms/step - loss: 1.1079 - accuracy: 0.8236 - val_loss: 1.0136 - val_accuracy: 0.8448\n",
            "Epoch 59/250\n",
            "235/235 [==============================] - 3s 12ms/step - loss: 1.1664 - accuracy: 0.8143 - val_loss: 1.0277 - val_accuracy: 0.8363\n",
            "Epoch 60/250\n",
            "235/235 [==============================] - 3s 12ms/step - loss: 1.1968 - accuracy: 0.8119 - val_loss: 1.0420 - val_accuracy: 0.8473\n",
            "Epoch 61/250\n",
            "235/235 [==============================] - 3s 12ms/step - loss: 1.1824 - accuracy: 0.8147 - val_loss: 1.1062 - val_accuracy: 0.8212\n",
            "Epoch 62/250\n",
            "235/235 [==============================] - 3s 12ms/step - loss: 1.0990 - accuracy: 0.8328 - val_loss: 1.1336 - val_accuracy: 0.7987\n",
            "Epoch 63/250\n",
            "235/235 [==============================] - 3s 12ms/step - loss: 1.1758 - accuracy: 0.8200 - val_loss: 1.1417 - val_accuracy: 0.8122\n",
            "Epoch 64/250\n",
            "235/235 [==============================] - 3s 12ms/step - loss: 1.1228 - accuracy: 0.8298 - val_loss: 1.1161 - val_accuracy: 0.8102\n",
            "Epoch 65/250\n",
            "235/235 [==============================] - 3s 12ms/step - loss: 1.1011 - accuracy: 0.8273 - val_loss: 1.0852 - val_accuracy: 0.8082\n",
            "Epoch 66/250\n",
            "235/235 [==============================] - 3s 12ms/step - loss: 1.1425 - accuracy: 0.8240 - val_loss: 1.0516 - val_accuracy: 0.8398\n",
            "Epoch 67/250\n",
            "235/235 [==============================] - 3s 12ms/step - loss: 1.2138 - accuracy: 0.8216 - val_loss: 1.0667 - val_accuracy: 0.8327\n",
            "Epoch 68/250\n",
            "235/235 [==============================] - 3s 12ms/step - loss: 1.2986 - accuracy: 0.8075 - val_loss: 1.1218 - val_accuracy: 0.8272\n",
            "Epoch 69/250\n",
            "235/235 [==============================] - 3s 12ms/step - loss: 1.1830 - accuracy: 0.8336 - val_loss: 1.1258 - val_accuracy: 0.8257\n",
            "Epoch 70/250\n",
            "235/235 [==============================] - 3s 12ms/step - loss: 1.0956 - accuracy: 0.8310 - val_loss: 1.0451 - val_accuracy: 0.8327\n",
            "Epoch 71/250\n",
            "235/235 [==============================] - 3s 12ms/step - loss: 1.1436 - accuracy: 0.8335 - val_loss: 1.0805 - val_accuracy: 0.8262\n",
            "Epoch 72/250\n",
            "235/235 [==============================] - 3s 12ms/step - loss: 1.2916 - accuracy: 0.8228 - val_loss: 1.1124 - val_accuracy: 0.8448\n",
            "Epoch 73/250\n",
            "235/235 [==============================] - 3s 12ms/step - loss: 1.1093 - accuracy: 0.8351 - val_loss: 1.0406 - val_accuracy: 0.8373\n",
            "Epoch 74/250\n",
            "235/235 [==============================] - 3s 12ms/step - loss: 1.1516 - accuracy: 0.8311 - val_loss: 1.0973 - val_accuracy: 0.8327\n",
            "Epoch 75/250\n",
            "235/235 [==============================] - 3s 12ms/step - loss: 1.2174 - accuracy: 0.8285 - val_loss: 1.1260 - val_accuracy: 0.8373\n",
            "Epoch 76/250\n",
            "235/235 [==============================] - 3s 12ms/step - loss: 1.1621 - accuracy: 0.8303 - val_loss: 0.9766 - val_accuracy: 0.8613\n",
            "Epoch 77/250\n",
            "235/235 [==============================] - 3s 12ms/step - loss: 1.0778 - accuracy: 0.8391 - val_loss: 1.0109 - val_accuracy: 0.8508\n",
            "Epoch 78/250\n",
            "235/235 [==============================] - 3s 12ms/step - loss: 1.1370 - accuracy: 0.8342 - val_loss: 1.0520 - val_accuracy: 0.8468\n",
            "Epoch 79/250\n",
            "235/235 [==============================] - 3s 12ms/step - loss: 1.1036 - accuracy: 0.8431 - val_loss: 1.0392 - val_accuracy: 0.8292\n",
            "Epoch 80/250\n",
            "235/235 [==============================] - 3s 12ms/step - loss: 1.0939 - accuracy: 0.8403 - val_loss: 1.0556 - val_accuracy: 0.8327\n",
            "Epoch 81/250\n",
            "235/235 [==============================] - 3s 12ms/step - loss: 1.0637 - accuracy: 0.8467 - val_loss: 1.0233 - val_accuracy: 0.8518\n",
            "Epoch 82/250\n",
            "235/235 [==============================] - 3s 12ms/step - loss: 1.1801 - accuracy: 0.8366 - val_loss: 1.0522 - val_accuracy: 0.8468\n",
            "Epoch 83/250\n",
            "235/235 [==============================] - 3s 12ms/step - loss: 1.1540 - accuracy: 0.8380 - val_loss: 1.0748 - val_accuracy: 0.8267\n",
            "Epoch 84/250\n",
            "235/235 [==============================] - 3s 12ms/step - loss: 1.0784 - accuracy: 0.8462 - val_loss: 1.0098 - val_accuracy: 0.8473\n",
            "Epoch 85/250\n",
            "235/235 [==============================] - 3s 12ms/step - loss: 1.0598 - accuracy: 0.8518 - val_loss: 1.0264 - val_accuracy: 0.8358\n",
            "Epoch 86/250\n",
            "235/235 [==============================] - 3s 12ms/step - loss: 1.0836 - accuracy: 0.8447 - val_loss: 1.0023 - val_accuracy: 0.8443\n",
            "Epoch 87/250\n",
            "235/235 [==============================] - 3s 12ms/step - loss: 1.0706 - accuracy: 0.8472 - val_loss: 1.0232 - val_accuracy: 0.8478\n",
            "Epoch 88/250\n",
            "235/235 [==============================] - 3s 12ms/step - loss: 1.0682 - accuracy: 0.8444 - val_loss: 0.9788 - val_accuracy: 0.8568\n",
            "Epoch 89/250\n",
            "235/235 [==============================] - 3s 12ms/step - loss: 1.1303 - accuracy: 0.8400 - val_loss: 1.0225 - val_accuracy: 0.8463\n",
            "Epoch 90/250\n",
            "235/235 [==============================] - 3s 12ms/step - loss: 1.0806 - accuracy: 0.8491 - val_loss: 1.1040 - val_accuracy: 0.8307\n",
            "Epoch 91/250\n",
            "235/235 [==============================] - 3s 12ms/step - loss: 1.0879 - accuracy: 0.8478 - val_loss: 1.0662 - val_accuracy: 0.8553\n",
            "Epoch 92/250\n",
            "235/235 [==============================] - 3s 12ms/step - loss: 1.0989 - accuracy: 0.8480 - val_loss: 1.0498 - val_accuracy: 0.8488\n",
            "Epoch 93/250\n",
            "235/235 [==============================] - 3s 12ms/step - loss: 1.1480 - accuracy: 0.8502 - val_loss: 1.0461 - val_accuracy: 0.8533\n",
            "Epoch 94/250\n",
            "235/235 [==============================] - 3s 12ms/step - loss: 1.0882 - accuracy: 0.8512 - val_loss: 1.0736 - val_accuracy: 0.8363\n",
            "Epoch 95/250\n",
            "235/235 [==============================] - 3s 12ms/step - loss: 1.1124 - accuracy: 0.8537 - val_loss: 1.0574 - val_accuracy: 0.8458\n",
            "Epoch 96/250\n",
            "235/235 [==============================] - 3s 12ms/step - loss: 1.1086 - accuracy: 0.8538 - val_loss: 1.0536 - val_accuracy: 0.8443\n",
            "Epoch 97/250\n",
            "235/235 [==============================] - 3s 12ms/step - loss: 1.0576 - accuracy: 0.8549 - val_loss: 1.0532 - val_accuracy: 0.8478\n",
            "Epoch 98/250\n",
            "235/235 [==============================] - 3s 12ms/step - loss: 1.1008 - accuracy: 0.8520 - val_loss: 1.0664 - val_accuracy: 0.8528\n",
            "Epoch 99/250\n",
            "235/235 [==============================] - 3s 12ms/step - loss: 1.0374 - accuracy: 0.8601 - val_loss: 0.9585 - val_accuracy: 0.8703\n",
            "Epoch 100/250\n",
            "235/235 [==============================] - 3s 12ms/step - loss: 1.0537 - accuracy: 0.8606 - val_loss: 1.0593 - val_accuracy: 0.8327\n",
            "Epoch 101/250\n",
            "235/235 [==============================] - 3s 12ms/step - loss: 1.1040 - accuracy: 0.8496 - val_loss: 1.0822 - val_accuracy: 0.8403\n",
            "Epoch 102/250\n",
            "235/235 [==============================] - 3s 12ms/step - loss: 1.0911 - accuracy: 0.8585 - val_loss: 1.1598 - val_accuracy: 0.8172\n",
            "Epoch 103/250\n",
            "235/235 [==============================] - 3s 12ms/step - loss: 1.0696 - accuracy: 0.8538 - val_loss: 1.1988 - val_accuracy: 0.8052\n",
            "Epoch 104/250\n",
            "235/235 [==============================] - 3s 12ms/step - loss: 1.0386 - accuracy: 0.8593 - val_loss: 0.9963 - val_accuracy: 0.8508\n",
            "Epoch 105/250\n",
            "235/235 [==============================] - 3s 12ms/step - loss: 1.0907 - accuracy: 0.8570 - val_loss: 1.0262 - val_accuracy: 0.8613\n",
            "Epoch 106/250\n",
            "235/235 [==============================] - 3s 12ms/step - loss: 1.0492 - accuracy: 0.8621 - val_loss: 1.0403 - val_accuracy: 0.8528\n",
            "Epoch 107/250\n",
            "235/235 [==============================] - 3s 12ms/step - loss: 1.0731 - accuracy: 0.8601 - val_loss: 0.9587 - val_accuracy: 0.8693\n",
            "Epoch 108/250\n",
            "235/235 [==============================] - 3s 12ms/step - loss: 1.1352 - accuracy: 0.8515 - val_loss: 1.0186 - val_accuracy: 0.8618\n",
            "Epoch 109/250\n",
            "235/235 [==============================] - 3s 12ms/step - loss: 1.0389 - accuracy: 0.8667 - val_loss: 1.2477 - val_accuracy: 0.7832\n",
            "Epoch 110/250\n",
            "235/235 [==============================] - 3s 12ms/step - loss: 1.1102 - accuracy: 0.8479 - val_loss: 1.0456 - val_accuracy: 0.8553\n",
            "Epoch 111/250\n",
            "235/235 [==============================] - 3s 12ms/step - loss: 1.0593 - accuracy: 0.8598 - val_loss: 1.0315 - val_accuracy: 0.8458\n",
            "Epoch 112/250\n",
            "235/235 [==============================] - 3s 12ms/step - loss: 1.0248 - accuracy: 0.8634 - val_loss: 1.1229 - val_accuracy: 0.8127\n",
            "Epoch 113/250\n",
            "235/235 [==============================] - 3s 12ms/step - loss: 1.0402 - accuracy: 0.8670 - val_loss: 0.9610 - val_accuracy: 0.8688\n",
            "Epoch 114/250\n",
            "235/235 [==============================] - 3s 12ms/step - loss: 1.0307 - accuracy: 0.8674 - val_loss: 1.0108 - val_accuracy: 0.8508\n",
            "Epoch 115/250\n",
            "235/235 [==============================] - 3s 12ms/step - loss: 1.0370 - accuracy: 0.8687 - val_loss: 1.0682 - val_accuracy: 0.8453\n",
            "Epoch 116/250\n",
            "235/235 [==============================] - 3s 12ms/step - loss: 1.0456 - accuracy: 0.8626 - val_loss: 1.0247 - val_accuracy: 0.8588\n",
            "Epoch 117/250\n",
            "235/235 [==============================] - 3s 12ms/step - loss: 0.9504 - accuracy: 0.8731 - val_loss: 1.0447 - val_accuracy: 0.8267\n",
            "Epoch 118/250\n",
            "235/235 [==============================] - 3s 12ms/step - loss: 1.0399 - accuracy: 0.8674 - val_loss: 1.0182 - val_accuracy: 0.8533\n",
            "Epoch 119/250\n",
            "235/235 [==============================] - 3s 12ms/step - loss: 1.2146 - accuracy: 0.8472 - val_loss: 1.0862 - val_accuracy: 0.8483\n",
            "Epoch 120/250\n",
            "235/235 [==============================] - 3s 12ms/step - loss: 1.1323 - accuracy: 0.8639 - val_loss: 1.0696 - val_accuracy: 0.8528\n",
            "Epoch 121/250\n",
            "235/235 [==============================] - 3s 12ms/step - loss: 1.1364 - accuracy: 0.8678 - val_loss: 1.0973 - val_accuracy: 0.8538\n",
            "Epoch 122/250\n",
            "235/235 [==============================] - 3s 12ms/step - loss: 1.0692 - accuracy: 0.8681 - val_loss: 1.0124 - val_accuracy: 0.8613\n",
            "Epoch 123/250\n",
            "235/235 [==============================] - 3s 12ms/step - loss: 1.0121 - accuracy: 0.8715 - val_loss: 0.9868 - val_accuracy: 0.8653\n",
            "Epoch 124/250\n",
            "235/235 [==============================] - 3s 12ms/step - loss: 1.1210 - accuracy: 0.8520 - val_loss: 1.0675 - val_accuracy: 0.8533\n",
            "Epoch 125/250\n",
            "235/235 [==============================] - 3s 12ms/step - loss: 1.0234 - accuracy: 0.8718 - val_loss: 0.9818 - val_accuracy: 0.8683\n",
            "Epoch 126/250\n",
            "235/235 [==============================] - 3s 12ms/step - loss: 0.9732 - accuracy: 0.8711 - val_loss: 0.9648 - val_accuracy: 0.8733\n",
            "Epoch 127/250\n",
            "235/235 [==============================] - 3s 12ms/step - loss: 1.1456 - accuracy: 0.8514 - val_loss: 1.2857 - val_accuracy: 0.7982\n",
            "Epoch 128/250\n",
            "235/235 [==============================] - 3s 12ms/step - loss: 1.0953 - accuracy: 0.8585 - val_loss: 1.1662 - val_accuracy: 0.8177\n",
            "Epoch 129/250\n",
            "235/235 [==============================] - 3s 12ms/step - loss: 1.0477 - accuracy: 0.8614 - val_loss: 1.0320 - val_accuracy: 0.8513\n",
            "Epoch 130/250\n",
            "235/235 [==============================] - 3s 12ms/step - loss: 0.9868 - accuracy: 0.8785 - val_loss: 0.9862 - val_accuracy: 0.8653\n",
            "Epoch 131/250\n",
            "235/235 [==============================] - 3s 12ms/step - loss: 1.0711 - accuracy: 0.8631 - val_loss: 0.9685 - val_accuracy: 0.8803\n",
            "Epoch 132/250\n",
            "235/235 [==============================] - 3s 12ms/step - loss: 1.0046 - accuracy: 0.8760 - val_loss: 0.9823 - val_accuracy: 0.8713\n",
            "Epoch 133/250\n",
            "235/235 [==============================] - 3s 12ms/step - loss: 1.0280 - accuracy: 0.8742 - val_loss: 1.0180 - val_accuracy: 0.8673\n",
            "Epoch 134/250\n",
            "235/235 [==============================] - 3s 12ms/step - loss: 1.0196 - accuracy: 0.8723 - val_loss: 1.0005 - val_accuracy: 0.8613\n",
            "Epoch 135/250\n",
            "235/235 [==============================] - 3s 12ms/step - loss: 1.0403 - accuracy: 0.8725 - val_loss: 0.9911 - val_accuracy: 0.8598\n",
            "Epoch 136/250\n",
            "235/235 [==============================] - 3s 12ms/step - loss: 1.0600 - accuracy: 0.8693 - val_loss: 1.0447 - val_accuracy: 0.8723\n",
            "Epoch 137/250\n",
            "235/235 [==============================] - 3s 12ms/step - loss: 1.1084 - accuracy: 0.8687 - val_loss: 0.9707 - val_accuracy: 0.8778\n",
            "Epoch 138/250\n",
            "235/235 [==============================] - 3s 12ms/step - loss: 1.0566 - accuracy: 0.8621 - val_loss: 0.9885 - val_accuracy: 0.8618\n",
            "Epoch 139/250\n",
            "235/235 [==============================] - 3s 12ms/step - loss: 1.0004 - accuracy: 0.8746 - val_loss: 0.9921 - val_accuracy: 0.8643\n",
            "Epoch 140/250\n",
            "235/235 [==============================] - 3s 13ms/step - loss: 1.0770 - accuracy: 0.8769 - val_loss: 1.0472 - val_accuracy: 0.8593\n",
            "Epoch 141/250\n",
            "235/235 [==============================] - 3s 12ms/step - loss: 1.0860 - accuracy: 0.8703 - val_loss: 1.0686 - val_accuracy: 0.8528\n",
            "Epoch 142/250\n",
            "235/235 [==============================] - 3s 12ms/step - loss: 1.0448 - accuracy: 0.8710 - val_loss: 1.0957 - val_accuracy: 0.8282\n",
            "Epoch 143/250\n",
            "235/235 [==============================] - 3s 12ms/step - loss: 1.0153 - accuracy: 0.8746 - val_loss: 0.9768 - val_accuracy: 0.8723\n",
            "Epoch 144/250\n",
            "235/235 [==============================] - 3s 12ms/step - loss: 0.9967 - accuracy: 0.8828 - val_loss: 1.0031 - val_accuracy: 0.8648\n",
            "Epoch 145/250\n",
            "235/235 [==============================] - 3s 12ms/step - loss: 0.9905 - accuracy: 0.8747 - val_loss: 1.0979 - val_accuracy: 0.8418\n",
            "Epoch 146/250\n",
            "235/235 [==============================] - 3s 12ms/step - loss: 1.1321 - accuracy: 0.8507 - val_loss: 1.0286 - val_accuracy: 0.8578\n",
            "Epoch 147/250\n",
            "235/235 [==============================] - 3s 12ms/step - loss: 1.1513 - accuracy: 0.8587 - val_loss: 1.0941 - val_accuracy: 0.8443\n",
            "Epoch 148/250\n",
            "235/235 [==============================] - 3s 12ms/step - loss: 1.0672 - accuracy: 0.8733 - val_loss: 1.0567 - val_accuracy: 0.8498\n",
            "Epoch 149/250\n",
            "235/235 [==============================] - 3s 12ms/step - loss: 0.9378 - accuracy: 0.8765 - val_loss: 0.9644 - val_accuracy: 0.8708\n",
            "Epoch 150/250\n",
            "235/235 [==============================] - 3s 12ms/step - loss: 1.0557 - accuracy: 0.8691 - val_loss: 1.0025 - val_accuracy: 0.8638\n",
            "Epoch 151/250\n",
            "235/235 [==============================] - 3s 12ms/step - loss: 1.0204 - accuracy: 0.8826 - val_loss: 0.9928 - val_accuracy: 0.8618\n",
            "Epoch 152/250\n",
            "235/235 [==============================] - 3s 12ms/step - loss: 1.0317 - accuracy: 0.8766 - val_loss: 0.9641 - val_accuracy: 0.8868\n",
            "Epoch 153/250\n",
            "235/235 [==============================] - 3s 12ms/step - loss: 1.0183 - accuracy: 0.8802 - val_loss: 0.9634 - val_accuracy: 0.8733\n",
            "Epoch 154/250\n",
            "235/235 [==============================] - 3s 12ms/step - loss: 0.9773 - accuracy: 0.8817 - val_loss: 0.9401 - val_accuracy: 0.8803\n",
            "Epoch 155/250\n",
            "235/235 [==============================] - 3s 12ms/step - loss: 1.0241 - accuracy: 0.8766 - val_loss: 1.0557 - val_accuracy: 0.8553\n",
            "Epoch 156/250\n",
            "235/235 [==============================] - 3s 12ms/step - loss: 1.0408 - accuracy: 0.8821 - val_loss: 1.0214 - val_accuracy: 0.8708\n",
            "Epoch 157/250\n",
            "235/235 [==============================] - 3s 12ms/step - loss: 1.0647 - accuracy: 0.8762 - val_loss: 1.0151 - val_accuracy: 0.8638\n",
            "Epoch 158/250\n",
            "235/235 [==============================] - 3s 12ms/step - loss: 1.0361 - accuracy: 0.8747 - val_loss: 1.0152 - val_accuracy: 0.8668\n",
            "Epoch 159/250\n",
            "235/235 [==============================] - 3s 12ms/step - loss: 0.9971 - accuracy: 0.8792 - val_loss: 0.9830 - val_accuracy: 0.8648\n",
            "Epoch 160/250\n",
            "235/235 [==============================] - 3s 12ms/step - loss: 1.0414 - accuracy: 0.8754 - val_loss: 1.0427 - val_accuracy: 0.8483\n",
            "Epoch 161/250\n",
            "235/235 [==============================] - 3s 12ms/step - loss: 0.9549 - accuracy: 0.8808 - val_loss: 0.9461 - val_accuracy: 0.8778\n",
            "Epoch 162/250\n",
            "235/235 [==============================] - 3s 12ms/step - loss: 0.9591 - accuracy: 0.8848 - val_loss: 0.9886 - val_accuracy: 0.8673\n",
            "Epoch 163/250\n",
            "235/235 [==============================] - 3s 12ms/step - loss: 1.0451 - accuracy: 0.8745 - val_loss: 0.9756 - val_accuracy: 0.8783\n",
            "Epoch 164/250\n",
            "235/235 [==============================] - 3s 12ms/step - loss: 0.9341 - accuracy: 0.8857 - val_loss: 1.0155 - val_accuracy: 0.8448\n",
            "Epoch 165/250\n",
            "235/235 [==============================] - 3s 12ms/step - loss: 0.9443 - accuracy: 0.8882 - val_loss: 0.9718 - val_accuracy: 0.8623\n",
            "Epoch 166/250\n",
            "235/235 [==============================] - 3s 12ms/step - loss: 1.0618 - accuracy: 0.8734 - val_loss: 1.1230 - val_accuracy: 0.8423\n",
            "Epoch 167/250\n",
            "235/235 [==============================] - 3s 12ms/step - loss: 1.0532 - accuracy: 0.8768 - val_loss: 1.1394 - val_accuracy: 0.8242\n",
            "Epoch 168/250\n",
            "235/235 [==============================] - 3s 12ms/step - loss: 1.0564 - accuracy: 0.8760 - val_loss: 1.0196 - val_accuracy: 0.8663\n",
            "Epoch 169/250\n",
            "235/235 [==============================] - 3s 12ms/step - loss: 1.1244 - accuracy: 0.8687 - val_loss: 1.0262 - val_accuracy: 0.8688\n",
            "Epoch 170/250\n",
            "235/235 [==============================] - 3s 12ms/step - loss: 1.0409 - accuracy: 0.8730 - val_loss: 1.0157 - val_accuracy: 0.8728\n",
            "Epoch 171/250\n",
            "235/235 [==============================] - 3s 12ms/step - loss: 0.9855 - accuracy: 0.8854 - val_loss: 0.9561 - val_accuracy: 0.8818\n",
            "Epoch 172/250\n",
            "235/235 [==============================] - 3s 12ms/step - loss: 1.0681 - accuracy: 0.8723 - val_loss: 0.9759 - val_accuracy: 0.8738\n",
            "Epoch 173/250\n",
            "235/235 [==============================] - 3s 12ms/step - loss: 1.0072 - accuracy: 0.8825 - val_loss: 1.0124 - val_accuracy: 0.8678\n",
            "Epoch 174/250\n",
            "235/235 [==============================] - 3s 12ms/step - loss: 0.9784 - accuracy: 0.8872 - val_loss: 1.0033 - val_accuracy: 0.8673\n",
            "Epoch 175/250\n",
            "235/235 [==============================] - 3s 12ms/step - loss: 0.9131 - accuracy: 0.8922 - val_loss: 0.9551 - val_accuracy: 0.8718\n",
            "Epoch 176/250\n",
            "235/235 [==============================] - 3s 12ms/step - loss: 0.9815 - accuracy: 0.8877 - val_loss: 1.0132 - val_accuracy: 0.8533\n",
            "Epoch 177/250\n",
            "235/235 [==============================] - 3s 12ms/step - loss: 0.9607 - accuracy: 0.8864 - val_loss: 1.0151 - val_accuracy: 0.8568\n",
            "Epoch 178/250\n",
            "235/235 [==============================] - 3s 12ms/step - loss: 1.0335 - accuracy: 0.8845 - val_loss: 1.0249 - val_accuracy: 0.8563\n",
            "Epoch 179/250\n",
            "235/235 [==============================] - 3s 12ms/step - loss: 0.9869 - accuracy: 0.8868 - val_loss: 0.9944 - val_accuracy: 0.8638\n",
            "Epoch 180/250\n",
            "235/235 [==============================] - 3s 12ms/step - loss: 1.0121 - accuracy: 0.8846 - val_loss: 0.9978 - val_accuracy: 0.8678\n",
            "Epoch 181/250\n",
            "235/235 [==============================] - 3s 12ms/step - loss: 0.9335 - accuracy: 0.8914 - val_loss: 0.9335 - val_accuracy: 0.8773\n",
            "Epoch 182/250\n",
            "235/235 [==============================] - 3s 12ms/step - loss: 0.9770 - accuracy: 0.8853 - val_loss: 0.9599 - val_accuracy: 0.8813\n",
            "Epoch 183/250\n",
            "235/235 [==============================] - 3s 12ms/step - loss: 0.9448 - accuracy: 0.8881 - val_loss: 1.0104 - val_accuracy: 0.8618\n",
            "Epoch 184/250\n",
            "235/235 [==============================] - 3s 13ms/step - loss: 1.0465 - accuracy: 0.8765 - val_loss: 1.0476 - val_accuracy: 0.8648\n",
            "Epoch 185/250\n",
            "235/235 [==============================] - 3s 12ms/step - loss: 0.9755 - accuracy: 0.8874 - val_loss: 1.0226 - val_accuracy: 0.8673\n",
            "Epoch 186/250\n",
            "235/235 [==============================] - 3s 12ms/step - loss: 0.9197 - accuracy: 0.8945 - val_loss: 0.9487 - val_accuracy: 0.8713\n",
            "Epoch 187/250\n",
            "235/235 [==============================] - 3s 12ms/step - loss: 0.9030 - accuracy: 0.8953 - val_loss: 0.9381 - val_accuracy: 0.8688\n",
            "Epoch 188/250\n",
            "235/235 [==============================] - 3s 12ms/step - loss: 0.9005 - accuracy: 0.8860 - val_loss: 0.9587 - val_accuracy: 0.8648\n",
            "Epoch 189/250\n",
            "235/235 [==============================] - 3s 12ms/step - loss: 0.9703 - accuracy: 0.8866 - val_loss: 1.0232 - val_accuracy: 0.8638\n",
            "Epoch 190/250\n",
            "235/235 [==============================] - 3s 13ms/step - loss: 1.1191 - accuracy: 0.8761 - val_loss: 1.1114 - val_accuracy: 0.8513\n",
            "Epoch 191/250\n",
            "235/235 [==============================] - 3s 13ms/step - loss: 0.9965 - accuracy: 0.8838 - val_loss: 1.0011 - val_accuracy: 0.8708\n",
            "Epoch 192/250\n",
            "235/235 [==============================] - 3s 12ms/step - loss: 0.9659 - accuracy: 0.8909 - val_loss: 1.0085 - val_accuracy: 0.8638\n",
            "Epoch 193/250\n",
            "235/235 [==============================] - 3s 12ms/step - loss: 1.0491 - accuracy: 0.8816 - val_loss: 1.0646 - val_accuracy: 0.8598\n",
            "Epoch 194/250\n",
            "235/235 [==============================] - 3s 12ms/step - loss: 1.0171 - accuracy: 0.8840 - val_loss: 1.0330 - val_accuracy: 0.8628\n",
            "Epoch 195/250\n",
            "235/235 [==============================] - 3s 13ms/step - loss: 1.0504 - accuracy: 0.8810 - val_loss: 1.0269 - val_accuracy: 0.8728\n",
            "Epoch 196/250\n",
            "235/235 [==============================] - 3s 12ms/step - loss: 1.0419 - accuracy: 0.8852 - val_loss: 0.9747 - val_accuracy: 0.8843\n",
            "Epoch 197/250\n",
            "235/235 [==============================] - 3s 13ms/step - loss: 0.9818 - accuracy: 0.8889 - val_loss: 0.9921 - val_accuracy: 0.8743\n",
            "Epoch 198/250\n",
            "235/235 [==============================] - 3s 12ms/step - loss: 0.9762 - accuracy: 0.8849 - val_loss: 1.0289 - val_accuracy: 0.8513\n",
            "Epoch 199/250\n",
            "235/235 [==============================] - 3s 12ms/step - loss: 0.9396 - accuracy: 0.8989 - val_loss: 0.9501 - val_accuracy: 0.8823\n",
            "Epoch 200/250\n",
            "235/235 [==============================] - 3s 12ms/step - loss: 0.9584 - accuracy: 0.8897 - val_loss: 1.0236 - val_accuracy: 0.8528\n",
            "Epoch 201/250\n",
            "235/235 [==============================] - 3s 12ms/step - loss: 0.9247 - accuracy: 0.8989 - val_loss: 1.0002 - val_accuracy: 0.8593\n",
            "Epoch 202/250\n",
            "235/235 [==============================] - 3s 12ms/step - loss: 0.9492 - accuracy: 0.8960 - val_loss: 0.9727 - val_accuracy: 0.8693\n",
            "Epoch 203/250\n",
            "235/235 [==============================] - 3s 12ms/step - loss: 1.0321 - accuracy: 0.8842 - val_loss: 0.9711 - val_accuracy: 0.8738\n",
            "Epoch 204/250\n",
            "235/235 [==============================] - 3s 12ms/step - loss: 0.9833 - accuracy: 0.8938 - val_loss: 0.9726 - val_accuracy: 0.8833\n",
            "Epoch 205/250\n",
            "235/235 [==============================] - 3s 13ms/step - loss: 1.0092 - accuracy: 0.8944 - val_loss: 0.9901 - val_accuracy: 0.8758\n",
            "Epoch 206/250\n",
            "235/235 [==============================] - 3s 13ms/step - loss: 0.9694 - accuracy: 0.8922 - val_loss: 0.9810 - val_accuracy: 0.8803\n",
            "Epoch 207/250\n",
            "235/235 [==============================] - 3s 13ms/step - loss: 0.9533 - accuracy: 0.8914 - val_loss: 1.0391 - val_accuracy: 0.8503\n",
            "Epoch 208/250\n",
            "235/235 [==============================] - 3s 12ms/step - loss: 0.9828 - accuracy: 0.8946 - val_loss: 1.0113 - val_accuracy: 0.8708\n",
            "Epoch 209/250\n",
            "235/235 [==============================] - 3s 12ms/step - loss: 0.9100 - accuracy: 0.9008 - val_loss: 1.1055 - val_accuracy: 0.8413\n",
            "Epoch 210/250\n",
            "235/235 [==============================] - 3s 12ms/step - loss: 0.9419 - accuracy: 0.8993 - val_loss: 1.0151 - val_accuracy: 0.8618\n",
            "Epoch 211/250\n",
            "235/235 [==============================] - 3s 13ms/step - loss: 1.0182 - accuracy: 0.8870 - val_loss: 0.9648 - val_accuracy: 0.8813\n",
            "Epoch 212/250\n",
            "235/235 [==============================] - 3s 12ms/step - loss: 1.0143 - accuracy: 0.8905 - val_loss: 1.0218 - val_accuracy: 0.8718\n",
            "Epoch 213/250\n",
            "235/235 [==============================] - 3s 13ms/step - loss: 0.9866 - accuracy: 0.8886 - val_loss: 1.0779 - val_accuracy: 0.8488\n",
            "Epoch 214/250\n",
            "235/235 [==============================] - 3s 12ms/step - loss: 1.0921 - accuracy: 0.8796 - val_loss: 1.0280 - val_accuracy: 0.8728\n",
            "Epoch 215/250\n",
            "235/235 [==============================] - 3s 12ms/step - loss: 1.0359 - accuracy: 0.8869 - val_loss: 1.0634 - val_accuracy: 0.8638\n",
            "Epoch 216/250\n",
            "235/235 [==============================] - 3s 12ms/step - loss: 0.9872 - accuracy: 0.8954 - val_loss: 0.9740 - val_accuracy: 0.8758\n",
            "Epoch 217/250\n",
            "235/235 [==============================] - 3s 12ms/step - loss: 0.8958 - accuracy: 0.9037 - val_loss: 0.9397 - val_accuracy: 0.8808\n",
            "Epoch 218/250\n",
            "235/235 [==============================] - 3s 12ms/step - loss: 0.9715 - accuracy: 0.8973 - val_loss: 1.0257 - val_accuracy: 0.8658\n",
            "Epoch 219/250\n",
            "235/235 [==============================] - 3s 12ms/step - loss: 0.9761 - accuracy: 0.8957 - val_loss: 0.9913 - val_accuracy: 0.8693\n",
            "Epoch 220/250\n",
            "235/235 [==============================] - 3s 12ms/step - loss: 1.0103 - accuracy: 0.8914 - val_loss: 1.0263 - val_accuracy: 0.8733\n",
            "Epoch 221/250\n",
            "235/235 [==============================] - 3s 12ms/step - loss: 0.9187 - accuracy: 0.9004 - val_loss: 0.9096 - val_accuracy: 0.8803\n",
            "Epoch 222/250\n",
            "235/235 [==============================] - 3s 12ms/step - loss: 1.0826 - accuracy: 0.8678 - val_loss: 1.0524 - val_accuracy: 0.8688\n",
            "Epoch 223/250\n",
            "235/235 [==============================] - 3s 12ms/step - loss: 1.0429 - accuracy: 0.8793 - val_loss: 1.0573 - val_accuracy: 0.8583\n",
            "Epoch 224/250\n",
            "235/235 [==============================] - 3s 12ms/step - loss: 1.0281 - accuracy: 0.8888 - val_loss: 1.0062 - val_accuracy: 0.8778\n",
            "Epoch 225/250\n",
            "235/235 [==============================] - 3s 12ms/step - loss: 0.9485 - accuracy: 0.8977 - val_loss: 0.9158 - val_accuracy: 0.8883\n",
            "Epoch 226/250\n",
            "235/235 [==============================] - 3s 12ms/step - loss: 0.9338 - accuracy: 0.8964 - val_loss: 0.9585 - val_accuracy: 0.8743\n",
            "Epoch 227/250\n",
            "235/235 [==============================] - 3s 12ms/step - loss: 0.8985 - accuracy: 0.8984 - val_loss: 0.9637 - val_accuracy: 0.8688\n",
            "Epoch 228/250\n",
            "235/235 [==============================] - 3s 13ms/step - loss: 0.8542 - accuracy: 0.9059 - val_loss: 0.9658 - val_accuracy: 0.8648\n",
            "Epoch 229/250\n",
            "235/235 [==============================] - 3s 13ms/step - loss: 0.9686 - accuracy: 0.8934 - val_loss: 0.9680 - val_accuracy: 0.8773\n",
            "Epoch 230/250\n",
            "235/235 [==============================] - 3s 12ms/step - loss: 1.0063 - accuracy: 0.8942 - val_loss: 1.0286 - val_accuracy: 0.8713\n",
            "Epoch 231/250\n",
            "235/235 [==============================] - 3s 12ms/step - loss: 0.9411 - accuracy: 0.9032 - val_loss: 0.9612 - val_accuracy: 0.8783\n",
            "Epoch 232/250\n",
            "235/235 [==============================] - 3s 13ms/step - loss: 1.0551 - accuracy: 0.8866 - val_loss: 1.0511 - val_accuracy: 0.8568\n",
            "Epoch 233/250\n",
            "235/235 [==============================] - 3s 12ms/step - loss: 0.9027 - accuracy: 0.9009 - val_loss: 0.9470 - val_accuracy: 0.8768\n",
            "Epoch 234/250\n",
            "235/235 [==============================] - 3s 13ms/step - loss: 0.9294 - accuracy: 0.8970 - val_loss: 0.9248 - val_accuracy: 0.8818\n",
            "Epoch 235/250\n",
            "235/235 [==============================] - 3s 12ms/step - loss: 0.9146 - accuracy: 0.8985 - val_loss: 0.9775 - val_accuracy: 0.8678\n",
            "Epoch 236/250\n",
            "235/235 [==============================] - 3s 13ms/step - loss: 0.8702 - accuracy: 0.9017 - val_loss: 0.9120 - val_accuracy: 0.8718\n",
            "Epoch 237/250\n",
            "235/235 [==============================] - 3s 12ms/step - loss: 0.9017 - accuracy: 0.9024 - val_loss: 0.9672 - val_accuracy: 0.8693\n",
            "Epoch 238/250\n",
            "235/235 [==============================] - 3s 13ms/step - loss: 1.0206 - accuracy: 0.8957 - val_loss: 1.0474 - val_accuracy: 0.8703\n",
            "Epoch 239/250\n",
            "235/235 [==============================] - 3s 12ms/step - loss: 0.9388 - accuracy: 0.9016 - val_loss: 0.9231 - val_accuracy: 0.8923\n",
            "Epoch 240/250\n",
            "235/235 [==============================] - 3s 13ms/step - loss: 1.0267 - accuracy: 0.8902 - val_loss: 1.0255 - val_accuracy: 0.8803\n",
            "Epoch 241/250\n",
            "235/235 [==============================] - 3s 12ms/step - loss: 0.8850 - accuracy: 0.9069 - val_loss: 0.9324 - val_accuracy: 0.8828\n",
            "Epoch 242/250\n",
            "235/235 [==============================] - 3s 12ms/step - loss: 0.9101 - accuracy: 0.8993 - val_loss: 0.9507 - val_accuracy: 0.8763\n",
            "Epoch 243/250\n",
            "235/235 [==============================] - 3s 12ms/step - loss: 0.9562 - accuracy: 0.8969 - val_loss: 0.9411 - val_accuracy: 0.8813\n",
            "Epoch 244/250\n",
            "235/235 [==============================] - 3s 13ms/step - loss: 0.9645 - accuracy: 0.8945 - val_loss: 0.9919 - val_accuracy: 0.8653\n",
            "Epoch 245/250\n",
            "235/235 [==============================] - 3s 13ms/step - loss: 0.8583 - accuracy: 0.9073 - val_loss: 1.1125 - val_accuracy: 0.8327\n",
            "Epoch 246/250\n",
            "235/235 [==============================] - 3s 12ms/step - loss: 0.9366 - accuracy: 0.8979 - val_loss: 0.9360 - val_accuracy: 0.8853\n",
            "Epoch 247/250\n",
            "235/235 [==============================] - 3s 12ms/step - loss: 0.9344 - accuracy: 0.9024 - val_loss: 1.0165 - val_accuracy: 0.8633\n",
            "Epoch 248/250\n",
            "235/235 [==============================] - 3s 12ms/step - loss: 0.9635 - accuracy: 0.8991 - val_loss: 1.0050 - val_accuracy: 0.8713\n",
            "Epoch 249/250\n",
            "235/235 [==============================] - 3s 13ms/step - loss: 0.9895 - accuracy: 0.8952 - val_loss: 0.9675 - val_accuracy: 0.8783\n",
            "Epoch 250/250\n",
            "235/235 [==============================] - 3s 12ms/step - loss: 0.9335 - accuracy: 0.8979 - val_loss: 1.0065 - val_accuracy: 0.8698\n"
          ]
        }
      ],
      "source": [
        "cnn_history=cnn_model.fit(cnn_x_train,cnn_y_train,validation_data=(cnn_x_val,cnn_y_val),verbose=1,epochs=250,batch_size=32)"
      ]
    },
    {
      "cell_type": "code",
      "execution_count": 32,
      "metadata": {
        "colab": {
          "base_uri": "https://localhost:8080/",
          "height": 513
        },
        "id": "NuHRea0sqOKS",
        "outputId": "872133eb-03b9-4f45-d8c5-bb49db068474"
      },
      "outputs": [
        {
          "data": {
            "image/png": "[encoded data removed]",
            "text/plain": [
              "<Figure size 720x576 with 2 Axes>"
            ]
          },
          "metadata": {
            "needs_background": "light"
          },
          "output_type": "display_data"
        }
      ],
      "source": [
        "plot_accuracy_error(cnn_history)"
      ]
    },
    {
      "cell_type": "code",
      "execution_count": 44,
      "metadata": {
        "id": "VeiYY4HnwI1H"
      },
      "outputs": [],
      "source": [
        "cnn_model.save(\"cnn_model.h5\")"
      ]
    },
    {
      "cell_type": "code",
      "execution_count": 18,
      "metadata": {
        "colab": {
          "base_uri": "https://localhost:8080/"
        },
        "id": "PG-8lvwcVlAu",
        "outputId": "968baeac-548c-4b8e-abed-c07378ea9083"
      },
      "outputs": [
        {
          "data": {
            "text/plain": [
              "(1, 130, 13, 1)"
            ]
          },
          "execution_count": 18,
          "metadata": {},
          "output_type": "execute_result"
        }
      ],
      "source": [
        "X_predi=cnn_x_test[20]\n",
        "Y_predi=cnn_y_test[20]\n",
        "X_predi=X_predi.reshape(1,X_predi.shape[0],X_predi.shape[1],1)\n",
        "X_predi.shape"
      ]
    },
    {
      "cell_type": "code",
      "execution_count": 19,
      "metadata": {
        "id": "yJPMi4LS2fVB"
      },
      "outputs": [],
      "source": [
        "model=keras.models.load_model('cnn_model.h5')"
      ]
    },
    {
      "cell_type": "code",
      "execution_count": 20,
      "metadata": {
        "id": "3TRku-tqWArw"
      },
      "outputs": [],
      "source": [
        "prediction=model.predict(X_predi)"
      ]
    },
    {
      "cell_type": "code",
      "execution_count": 21,
      "metadata": {
        "colab": {
          "base_uri": "https://localhost:8080/"
        },
        "id": "MUc15r7KZtTA",
        "outputId": "012a4068-936a-48ef-e5c2-b93266c2f93e"
      },
      "outputs": [
        {
          "data": {
            "text/plain": [
              "((1, 10), (1,))"
            ]
          },
          "execution_count": 21,
          "metadata": {},
          "output_type": "execute_result"
        }
      ],
      "source": [
        "prediction.shape,Y_predi.shape"
      ]
    },
    {
      "cell_type": "code",
      "execution_count": 22,
      "metadata": {
        "colab": {
          "base_uri": "https://localhost:8080/"
        },
        "id": "F_sa-DybWOGH",
        "outputId": "80c3d847-c804-4572-f5b7-6569e77d8217"
      },
      "outputs": [
        {
          "name": "stdout",
          "output_type": "stream",
          "text": [
            "[0.97281015] [2]\n"
          ]
        }
      ],
      "source": [
        "predicted_index=np.argmax(prediction,axis=1)\n",
        "print(prediction[0][predicted_index],predicted_index)"
      ]
    },
    {
      "cell_type": "code",
      "execution_count": 23,
      "metadata": {
        "colab": {
          "base_uri": "https://localhost:8080/"
        },
        "id": "KiTVyE2LXO40",
        "outputId": "f4f17e1f-e413-489b-edb6-9e50529e1349"
      },
      "outputs": [
        {
          "data": {
            "text/plain": [
              "2"
            ]
          },
          "execution_count": 23,
          "metadata": {},
          "output_type": "execute_result"
        }
      ],
      "source": [
        "Y_predi[0]"
      ]
    },
    {
      "cell_type": "code",
      "execution_count": 24,
      "metadata": {
        "colab": {
          "base_uri": "https://localhost:8080/"
        },
        "id": "DOZmUep3XSil",
        "outputId": "89df5975-47f8-4d7e-e40a-697c303eeaf2"
      },
      "outputs": [
        {
          "name": "stdout",
          "output_type": "stream",
          "text": [
            "\n",
            "index :99\n",
            "real Genre : hiphop\n",
            "predicted Genre :hiphop\n"
          ]
        },
        {
          "data": {
            "image/png": "[encoded data removed]",
            "text/plain": [
              "<Figure size 720x216 with 1 Axes>"
            ]
          },
          "metadata": {
            "needs_background": "light"
          },
          "output_type": "display_data"
        },
        {
          "name": "stdout",
          "output_type": "stream",
          "text": [
            "\n",
            "index :441\n",
            "real Genre : pop\n",
            "predicted Genre :pop\n"
          ]
        },
        {
          "data": {
            "image/png": "[encoded data removed]",
            "text/plain": [
              "<Figure size 720x216 with 1 Axes>"
            ]
          },
          "metadata": {
            "needs_background": "light"
          },
          "output_type": "display_data"
        },
        {
          "name": "stdout",
          "output_type": "stream",
          "text": [
            "\n",
            "index :302\n",
            "real Genre : rock\n",
            "predicted Genre :rock\n"
          ]
        },
        {
          "data": {
            "image/png": "[encoded data removed]",
            "text/plain": [
              "<Figure size 720x216 with 1 Axes>"
            ]
          },
          "metadata": {
            "needs_background": "light"
          },
          "output_type": "display_data"
        },
        {
          "name": "stdout",
          "output_type": "stream",
          "text": [
            "\n",
            "index :60\n",
            "real Genre : classical\n",
            "predicted Genre :classical\n"
          ]
        },
        {
          "data": {
            "image/png": "[encoded data removed]",
            "text/plain": [
              "<Figure size 720x216 with 1 Axes>"
            ]
          },
          "metadata": {
            "needs_background": "light"
          },
          "output_type": "display_data"
        },
        {
          "name": "stdout",
          "output_type": "stream",
          "text": [
            "\n",
            "index :310\n",
            "real Genre : metal\n",
            "predicted Genre :metal\n"
          ]
        },
        {
          "data": {
            "image/png": "[encoded data removed]",
            "text/plain": [
              "<Figure size 720x216 with 1 Axes>"
            ]
          },
          "metadata": {
            "needs_background": "light"
          },
          "output_type": "display_data"
        },
        {
          "name": "stdout",
          "output_type": "stream",
          "text": [
            "\n",
            "index :134\n",
            "real Genre : classical\n",
            "predicted Genre :classical\n"
          ]
        },
        {
          "data": {
            "image/png": "[encoded data removed]",
            "text/plain": [
              "<Figure size 720x216 with 1 Axes>"
            ]
          },
          "metadata": {
            "needs_background": "light"
          },
          "output_type": "display_data"
        },
        {
          "name": "stdout",
          "output_type": "stream",
          "text": [
            "\n",
            "index :466\n",
            "real Genre : pop\n",
            "predicted Genre :pop\n"
          ]
        },
        {
          "data": {
            "image/png": "[encoded data removed]",
            "text/plain": [
              "<Figure size 720x216 with 1 Axes>"
            ]
          },
          "metadata": {
            "needs_background": "light"
          },
          "output_type": "display_data"
        },
        {
          "name": "stdout",
          "output_type": "stream",
          "text": [
            "\n",
            "index :478\n",
            "real Genre : pop\n",
            "predicted Genre :pop\n"
          ]
        },
        {
          "data": {
            "image/png": "[encoded data removed]",
            "text/plain": [
              "<Figure size 720x216 with 1 Axes>"
            ]
          },
          "metadata": {
            "needs_background": "light"
          },
          "output_type": "display_data"
        },
        {
          "name": "stdout",
          "output_type": "stream",
          "text": [
            "\n",
            "index :319\n",
            "real Genre : pop\n",
            "predicted Genre :pop\n"
          ]
        },
        {
          "data": {
            "image/png": "[encoded data removed]",
            "text/plain": [
              "<Figure size 720x216 with 1 Axes>"
            ]
          },
          "metadata": {
            "needs_background": "light"
          },
          "output_type": "display_data"
        },
        {
          "name": "stdout",
          "output_type": "stream",
          "text": [
            "\n",
            "index :270\n",
            "real Genre : pop\n",
            "predicted Genre :disco\n"
          ]
        },
        {
          "data": {
            "image/png": "[encoded data removed]",
            "text/plain": [
              "<Figure size 720x216 with 1 Axes>"
            ]
          },
          "metadata": {
            "needs_background": "light"
          },
          "output_type": "display_data"
        },
        {
          "name": "stdout",
          "output_type": "stream",
          "text": [
            "\n",
            "index :349\n",
            "real Genre : blues\n",
            "predicted Genre :blues\n"
          ]
        },
        {
          "data": {
            "image/png": "[encoded data removed]",
            "text/plain": [
              "<Figure size 720x216 with 1 Axes>"
            ]
          },
          "metadata": {
            "needs_background": "light"
          },
          "output_type": "display_data"
        },
        {
          "name": "stdout",
          "output_type": "stream",
          "text": [
            "\n",
            "index :329\n",
            "real Genre : country\n",
            "predicted Genre :country\n"
          ]
        },
        {
          "data": {
            "image/png": "[encoded data removed]",
            "text/plain": [
              "<Figure size 720x216 with 1 Axes>"
            ]
          },
          "metadata": {
            "needs_background": "light"
          },
          "output_type": "display_data"
        },
        {
          "name": "stdout",
          "output_type": "stream",
          "text": [
            "\n",
            "index :340\n",
            "real Genre : disco\n",
            "predicted Genre :disco\n"
          ]
        },
        {
          "data": {
            "image/png": "[encoded data removed]",
            "text/plain": [
              "<Figure size 720x216 with 1 Axes>"
            ]
          },
          "metadata": {
            "needs_background": "light"
          },
          "output_type": "display_data"
        },
        {
          "name": "stdout",
          "output_type": "stream",
          "text": [
            "\n",
            "index :235\n",
            "real Genre : jazz\n",
            "predicted Genre :jazz\n"
          ]
        },
        {
          "data": {
            "image/png": "[encoded data removed]",
            "text/plain": [
              "<Figure size 720x216 with 1 Axes>"
            ]
          },
          "metadata": {
            "needs_background": "light"
          },
          "output_type": "display_data"
        },
        {
          "name": "stdout",
          "output_type": "stream",
          "text": [
            "\n",
            "index :353\n",
            "real Genre : jazz\n",
            "predicted Genre :jazz\n"
          ]
        },
        {
          "data": {
            "image/png": "[encoded data removed]",
            "text/plain": [
              "<Figure size 720x216 with 1 Axes>"
            ]
          },
          "metadata": {
            "needs_background": "light"
          },
          "output_type": "display_data"
        },
        {
          "name": "stdout",
          "output_type": "stream",
          "text": [
            "\n",
            "index :475\n",
            "real Genre : pop\n",
            "predicted Genre :pop\n"
          ]
        },
        {
          "data": {
            "image/png": "[encoded data removed]",
            "text/plain": [
              "<Figure size 720x216 with 1 Axes>"
            ]
          },
          "metadata": {
            "needs_background": "light"
          },
          "output_type": "display_data"
        },
        {
          "name": "stdout",
          "output_type": "stream",
          "text": [
            "\n",
            "index :431\n",
            "real Genre : hiphop\n",
            "predicted Genre :hiphop\n"
          ]
        },
        {
          "data": {
            "image/png": "[encoded data removed]",
            "text/plain": [
              "<Figure size 720x216 with 1 Axes>"
            ]
          },
          "metadata": {
            "needs_background": "light"
          },
          "output_type": "display_data"
        },
        {
          "name": "stdout",
          "output_type": "stream",
          "text": [
            "\n",
            "index :353\n",
            "real Genre : jazz\n",
            "predicted Genre :jazz\n"
          ]
        },
        {
          "data": {
            "image/png": "[encoded data removed]",
            "text/plain": [
              "<Figure size 720x216 with 1 Axes>"
            ]
          },
          "metadata": {
            "needs_background": "light"
          },
          "output_type": "display_data"
        },
        {
          "name": "stdout",
          "output_type": "stream",
          "text": [
            "\n",
            "index :297\n",
            "real Genre : country\n",
            "predicted Genre :country\n"
          ]
        },
        {
          "data": {
            "image/png": "[encoded data removed]",
            "text/plain": [
              "<Figure size 720x216 with 1 Axes>"
            ]
          },
          "metadata": {
            "needs_background": "light"
          },
          "output_type": "display_data"
        },
        {
          "name": "stdout",
          "output_type": "stream",
          "text": [
            "\n",
            "index :22\n",
            "real Genre : disco\n",
            "predicted Genre :disco\n"
          ]
        },
        {
          "data": {
            "image/png": "[encoded data removed]",
            "text/plain": [
              "<Figure size 720x216 with 1 Axes>"
            ]
          },
          "metadata": {
            "needs_background": "light"
          },
          "output_type": "display_data"
        },
        {
          "name": "stdout",
          "output_type": "stream",
          "text": [
            "\n",
            "index :495\n",
            "real Genre : metal\n",
            "predicted Genre :metal\n"
          ]
        },
        {
          "data": {
            "image/png": "[encoded data removed]",
            "text/plain": [
              "<Figure size 720x216 with 1 Axes>"
            ]
          },
          "metadata": {
            "needs_background": "light"
          },
          "output_type": "display_data"
        },
        {
          "name": "stdout",
          "output_type": "stream",
          "text": [
            "\n",
            "index :12\n",
            "real Genre : pop\n",
            "predicted Genre :pop\n"
          ]
        },
        {
          "data": {
            "image/png": "[encoded data removed]",
            "text/plain": [
              "<Figure size 720x216 with 1 Axes>"
            ]
          },
          "metadata": {
            "needs_background": "light"
          },
          "output_type": "display_data"
        },
        {
          "name": "stdout",
          "output_type": "stream",
          "text": [
            "\n",
            "index :448\n",
            "real Genre : hiphop\n",
            "predicted Genre :hiphop\n"
          ]
        },
        {
          "data": {
            "image/png": "[encoded data removed]",
            "text/plain": [
              "<Figure size 720x216 with 1 Axes>"
            ]
          },
          "metadata": {
            "needs_background": "light"
          },
          "output_type": "display_data"
        },
        {
          "name": "stdout",
          "output_type": "stream",
          "text": [
            "\n",
            "index :125\n",
            "real Genre : pop\n",
            "predicted Genre :pop\n"
          ]
        },
        {
          "data": {
            "image/png": "[encoded data removed]",
            "text/plain": [
              "<Figure size 720x216 with 1 Axes>"
            ]
          },
          "metadata": {
            "needs_background": "light"
          },
          "output_type": "display_data"
        },
        {
          "name": "stdout",
          "output_type": "stream",
          "text": [
            "\n",
            "index :143\n",
            "real Genre : jazz\n",
            "predicted Genre :jazz\n"
          ]
        },
        {
          "data": {
            "image/png": "[encoded data removed]",
            "text/plain": [
              "<Figure size 720x216 with 1 Axes>"
            ]
          },
          "metadata": {
            "needs_background": "light"
          },
          "output_type": "display_data"
        },
        {
          "name": "stdout",
          "output_type": "stream",
          "text": [
            "\n",
            "index :31\n",
            "real Genre : pop\n",
            "predicted Genre :pop\n"
          ]
        },
        {
          "data": {
            "image/png": "[encoded data removed]",
            "text/plain": [
              "<Figure size 720x216 with 1 Axes>"
            ]
          },
          "metadata": {
            "needs_background": "light"
          },
          "output_type": "display_data"
        },
        {
          "name": "stdout",
          "output_type": "stream",
          "text": [
            "\n",
            "index :108\n",
            "real Genre : hiphop\n",
            "predicted Genre :hiphop\n"
          ]
        },
        {
          "data": {
            "image/png": "[encoded data removed]",
            "text/plain": [
              "<Figure size 720x216 with 1 Axes>"
            ]
          },
          "metadata": {
            "needs_background": "light"
          },
          "output_type": "display_data"
        },
        {
          "name": "stdout",
          "output_type": "stream",
          "text": [
            "\n",
            "index :90\n",
            "real Genre : jazz\n",
            "predicted Genre :jazz\n"
          ]
        },
        {
          "data": {
            "image/png": "[encoded data removed]",
            "text/plain": [
              "<Figure size 720x216 with 1 Axes>"
            ]
          },
          "metadata": {
            "needs_background": "light"
          },
          "output_type": "display_data"
        },
        {
          "name": "stdout",
          "output_type": "stream",
          "text": [
            "\n",
            "index :259\n",
            "real Genre : blues\n",
            "predicted Genre :blues\n"
          ]
        },
        {
          "data": {
            "image/png": "[encoded data removed]",
            "text/plain": [
              "<Figure size 720x216 with 1 Axes>"
            ]
          },
          "metadata": {
            "needs_background": "light"
          },
          "output_type": "display_data"
        },
        {
          "name": "stdout",
          "output_type": "stream",
          "text": [
            "\n",
            "index :420\n",
            "real Genre : country\n",
            "predicted Genre :country\n"
          ]
        },
        {
          "data": {
            "image/png": "[encoded data removed]",
            "text/plain": [
              "<Figure size 720x216 with 1 Axes>"
            ]
          },
          "metadata": {
            "needs_background": "light"
          },
          "output_type": "display_data"
        }
      ],
      "source": [
        "correct=0\n",
        "wrong=0\n",
        "for i in range(30):\n",
        "  a=random.randint(0,len(cnn_x_test)-1)\n",
        "  sample=cnn_x_test[a].reshape(1,cnn_x_test.shape[1],cnn_x_test.shape[2],1)\n",
        "  print(\"\\nindex :{}\\nreal Genre : {}\".format(a,music_genres[cnn_y_test[a][0]]))\n",
        "  prediction=model.predict(sample)\n",
        "  index=np.argmax(prediction,axis=1)\n",
        "  print(\"predicted Genre :{}\".format(music_genres[index[0]]))\n",
        "  plt.figure(figsize=(10,3))\n",
        "  plt.bar(music_genres,prediction[0],color=\"r\")\n",
        "  plt.ylim(0,1)\n",
        "  plt.show()\n",
        "  if cnn_y_test[a][0]==index[0]:\n",
        "    correct+=1\n",
        "  else:\n",
        "    wrong+=1"
      ]
    },
    {
      "cell_type": "code",
      "execution_count": 25,
      "metadata": {
        "colab": {
          "base_uri": "https://localhost:8080/"
        },
        "id": "jri982zmj5-3",
        "outputId": "0488506b-699a-4eb8-cd51-d4b0cd12a0cb"
      },
      "outputs": [
        {
          "data": {
            "text/plain": [
              "(29, 1)"
            ]
          },
          "execution_count": 25,
          "metadata": {},
          "output_type": "execute_result"
        }
      ],
      "source": [
        "correct,wrong"
      ]
    },
    {
      "cell_type": "code",
      "execution_count": 26,
      "metadata": {
        "colab": {
          "base_uri": "https://localhost:8080/"
        },
        "id": "U9Okp4qzmveH",
        "outputId": "217877a3-072f-4dc6-9f76-7976a40e8d7e"
      },
      "outputs": [
        {
          "name": "stdout",
          "output_type": "stream",
          "text": [
            "16/16 [==============================] - 1s 26ms/step - loss: 0.9201 - accuracy: 0.8900\n"
          ]
        }
      ],
      "source": [
        "result=model.evaluate(cnn_x_test,cnn_y_test)"
      ]
    },
    {
      "cell_type": "code",
      "execution_count": 27,
      "metadata": {
        "colab": {
          "base_uri": "https://localhost:8080/"
        },
        "id": "WXvM2bNqnPFM",
        "outputId": "74459a1d-b9a8-4481-ae38-f566095d2529"
      },
      "outputs": [
        {
          "data": {
            "text/plain": [
              "[0.92005854845047, 0.8899999856948853]"
            ]
          },
          "execution_count": 27,
          "metadata": {},
          "output_type": "execute_result"
        }
      ],
      "source": [
        "result"
      ]
    },
    {
      "cell_type": "code",
      "execution_count": 43,
      "metadata": {
        "id": "T_QukgWBnQ1A"
      },
      "outputs": [],
      "source": []
    }
  ],
  "metadata": {
    "accelerator": "GPU",
    "colab": {
      "collapsed_sections": [],
      "name": "creating_cnn_model.ipynb",
      "provenance": []
    },
    "interpreter": {
      "hash": "c819db0b61094783b121348d134d41c4e0450ebc7e72307b330662436e6d9290"
    },
    "kernelspec": {
      "display_name": "Python 3 (ipykernel)",
      "language": "python",
      "name": "python3"
    },
    "language_info": {
      "codemirror_mode": {
        "name": "ipython",
        "version": 3
      },
      "file_extension": ".py",
      "mimetype": "text/x-python",
      "name": "python",
      "nbconvert_exporter": "python",
      "pygments_lexer": "ipython3",
      "version": "3.9.5"
    }
  },
  "nbformat": 4,
  "nbformat_minor": 0
}
